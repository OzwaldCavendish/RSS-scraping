{
 "cells": [
  {
   "cell_type": "markdown",
   "metadata": {},
   "source": [
    "# Sourcing and grouping RSS feeds\n",
    "\n",
    "There's a lot of focus nowadays on webscraping for information retrieval, but before web-scraping and its questionable ethics there already existed a solution for computer-readable news data.\n",
    "\n",
    "RSS (Rich Site Summary) feeds publish frequently updated information on the news/pages/documents available from a site.  The RSS document (an xml kind of thing) contains a headline, summary description (usually just one sentence), a picture and a link to the full article or document.  RSS systems are used in RSS reader software and other news aggregation apps to provide information on available stories while minimising overhead (eg; an app for browsing news articles doesn't have to retrieve and load every article/web page in full, just the much smaller amount of information in the RSS document).\n",
    "\n",
    "So I can use them to create a corpus of summarized news items right?\n",
    "\n",
    "Info on how to get the RSS docs from https://www.pythonforbeginners.com/feedparser/using-feedparser-in-python"
   ]
  },
  {
   "cell_type": "code",
   "execution_count": 1,
   "metadata": {
    "scrolled": true
   },
   "outputs": [],
   "source": [
    "import json\n",
    "\n",
    "import numpy as np\n",
    "import pandas as pd\n",
    "\n",
    "from datetime import datetime\n",
    "\n",
    "# Own convenience module\n",
    "from rsspump import RSSPump"
   ]
  },
  {
   "cell_type": "markdown",
   "metadata": {},
   "source": [
    "## 1. Parsing lots of feeds!\n",
    "\n",
    "Each of these feeds only gives a set number of news stories (to limit overhead/abuse I guess) so lets parse lots of different feeds and build a news corpus.\n",
    "\n",
    "Lots of different country's world news sites - I sourced all the links from this blog;\n",
    "https://blog.feedspot.com/world_news_rss_feeds/"
   ]
  },
  {
   "cell_type": "code",
   "execution_count": 2,
   "metadata": {},
   "outputs": [
    {
     "data": {
      "text/html": [
       "<div>\n",
       "<style scoped>\n",
       "    .dataframe tbody tr th:only-of-type {\n",
       "        vertical-align: middle;\n",
       "    }\n",
       "\n",
       "    .dataframe tbody tr th {\n",
       "        vertical-align: top;\n",
       "    }\n",
       "\n",
       "    .dataframe thead th {\n",
       "        text-align: right;\n",
       "    }\n",
       "</style>\n",
       "<table border=\"1\" class=\"dataframe\">\n",
       "  <thead>\n",
       "    <tr style=\"text-align: right;\">\n",
       "      <th></th>\n",
       "      <th>url</th>\n",
       "      <th>type</th>\n",
       "    </tr>\n",
       "  </thead>\n",
       "  <tbody>\n",
       "    <tr>\n",
       "      <th>0</th>\n",
       "      <td>http://feeds.bbci.co.uk/news/world/rss.xml</td>\n",
       "      <td>world</td>\n",
       "    </tr>\n",
       "    <tr>\n",
       "      <th>1</th>\n",
       "      <td>http://feeds.reuters.com/Reuters/worldNews</td>\n",
       "      <td>world</td>\n",
       "    </tr>\n",
       "    <tr>\n",
       "      <th>2</th>\n",
       "      <td>http://www.cbn.com/cbnnews/world/feed/</td>\n",
       "      <td>world</td>\n",
       "    </tr>\n",
       "    <tr>\n",
       "      <th>3</th>\n",
       "      <td>https://news.google.com/news/rss/headlines/sec...</td>\n",
       "      <td>world</td>\n",
       "    </tr>\n",
       "    <tr>\n",
       "      <th>4</th>\n",
       "      <td>https://www.reddit.com/r/worldnews/.rsshttps:/...</td>\n",
       "      <td>world</td>\n",
       "    </tr>\n",
       "  </tbody>\n",
       "</table>\n",
       "</div>"
      ],
      "text/plain": [
       "                                                 url   type\n",
       "0         http://feeds.bbci.co.uk/news/world/rss.xml  world\n",
       "1         http://feeds.reuters.com/Reuters/worldNews  world\n",
       "2             http://www.cbn.com/cbnnews/world/feed/  world\n",
       "3  https://news.google.com/news/rss/headlines/sec...  world\n",
       "4  https://www.reddit.com/r/worldnews/.rsshttps:/...  world"
      ]
     },
     "execution_count": 2,
     "metadata": {},
     "output_type": "execute_result"
    }
   ],
   "source": [
    "feeds_df = pd.read_csv(\"rss_urls.csv\")\n",
    "feeds_df.head()"
   ]
  },
  {
   "cell_type": "code",
   "execution_count": 3,
   "metadata": {},
   "outputs": [
    {
     "name": "stdout",
     "output_type": "stream",
     "text": [
      "failed on  {'id': 'http://www.globalissues.org/news/2019/05/29/25325', 'guidislink': True, 'link': 'http://www.globalissues.org/news/2019/05/29/25325', 'title': 'A Call for Concrete Changes to Achieve a More Gender Equal World', 'title_detail': {'type': 'text/plain', 'language': None, 'base': 'http://www.globalissues.org/news/feed', 'value': 'A Call for Concrete Changes to Achieve a More Gender Equal World'}, 'updated': '2019-05-29T13:49:06-07:00', 'updated_parsed': time.struct_time(tm_year=2019, tm_mon=5, tm_mday=29, tm_hour=20, tm_min=49, tm_sec=6, tm_wday=2, tm_yday=149, tm_isdst=0), 'links': [{'href': 'http://www.globalissues.org/news/2019/05/29/25325', 'rel': 'alternate', 'type': 'text/html'}], 'summary': '<p><img src=\"http://cdn.ipsnews.net/Library/2019/05/HRH-Sarah-Zeid_.jpg\" width=\"640\" alt=\"\" /></p><p>AMMAN, May 29 (IPS)  - Princess Sarah Zeid is a member of UNHCR\\'s Advisory Group on Gender, Forced Displacement, and Protection, a Special Advisor to the World Food Programme on Maternal and Child Health and Nutrition, and Chair of the Newborn Health in Humanitarian Settings Initiative.On the eve of the Women Deliver conference in Vancouver June 3-6, Princess Sarah Zeid of Jordan interviewed <em>Dr. Olfat Mahmoud, a Palestinian refugee and women\\'s rights advocate</em>.</p><p><a href=\"http://www.globalissues.org/news/2019/05/29/25325\">Read the full story, “A Call for Concrete Changes to Achieve a More Gender Equal World”, on globalissues.org</a> →</p>', 'summary_detail': {'type': 'text/html', 'language': None, 'base': 'http://www.globalissues.org/news/feed', 'value': '<p><img src=\"http://cdn.ipsnews.net/Library/2019/05/HRH-Sarah-Zeid_.jpg\" width=\"640\" alt=\"\" /></p><p>AMMAN, May 29 (IPS)  - Princess Sarah Zeid is a member of UNHCR\\'s Advisory Group on Gender, Forced Displacement, and Protection, a Special Advisor to the World Food Programme on Maternal and Child Health and Nutrition, and Chair of the Newborn Health in Humanitarian Settings Initiative.On the eve of the Women Deliver conference in Vancouver June 3-6, Princess Sarah Zeid of Jordan interviewed <em>Dr. Olfat Mahmoud, a Palestinian refugee and women\\'s rights advocate</em>.</p><p><a href=\"http://www.globalissues.org/news/2019/05/29/25325\">Read the full story, “A Call for Concrete Changes to Achieve a More Gender Equal World”, on globalissues.org</a> →</p>'}} 'published'\n",
      "failed on  {'id': 'http://www.globalissues.org/news/2019/05/29/25324', 'guidislink': True, 'link': 'http://www.globalissues.org/news/2019/05/29/25324', 'title': 'These Aliens Are Here to Stay (And They Are Dangerous)', 'title_detail': {'type': 'text/plain', 'language': None, 'base': 'http://www.globalissues.org/news/feed', 'value': 'These Aliens Are Here to Stay (And They Are Dangerous)'}, 'updated': '2019-05-29T11:12:45-07:00', 'updated_parsed': time.struct_time(tm_year=2019, tm_mon=5, tm_mday=29, tm_hour=18, tm_min=12, tm_sec=45, tm_wday=2, tm_yday=149, tm_isdst=0), 'links': [{'href': 'http://www.globalissues.org/news/2019/05/29/25324', 'rel': 'alternate', 'type': 'text/html'}], 'summary': '<p><img src=\"http://cdn.ipsnews.net/Library/2019/05/WTO-small-629x417.jpg\" width=\"640\" alt=\"\" /></p><p>MADRID, May 29 (IPS)  - No, no, no. Nothing to do with what US and Europe\\'s far-right fanatics now use to vociferate, saying once and again that \"migrants come here to destroy our democracy, our civilisation, and our life-style\".</p><p><a href=\"http://www.globalissues.org/news/2019/05/29/25324\">Read the full story, “These Aliens Are Here to Stay (And They Are Dangerous)”, on globalissues.org</a> →</p>', 'summary_detail': {'type': 'text/html', 'language': None, 'base': 'http://www.globalissues.org/news/feed', 'value': '<p><img src=\"http://cdn.ipsnews.net/Library/2019/05/WTO-small-629x417.jpg\" width=\"640\" alt=\"\" /></p><p>MADRID, May 29 (IPS)  - No, no, no. Nothing to do with what US and Europe\\'s far-right fanatics now use to vociferate, saying once and again that \"migrants come here to destroy our democracy, our civilisation, and our life-style\".</p><p><a href=\"http://www.globalissues.org/news/2019/05/29/25324\">Read the full story, “These Aliens Are Here to Stay (And They Are Dangerous)”, on globalissues.org</a> →</p>'}} 'published'\n",
      "failed on  {'id': 'http://www.globalissues.org/news/2019/05/29/25323', 'guidislink': True, 'link': 'http://www.globalissues.org/news/2019/05/29/25323', 'title': 'US “Emergency” Arms Sales to Mideast Nations Under Fire', 'title_detail': {'type': 'text/plain', 'language': None, 'base': 'http://www.globalissues.org/news/feed', 'value': 'US “Emergency” Arms Sales to Mideast Nations Under Fire'}, 'updated': '2019-05-29T10:46:53-07:00', 'updated_parsed': time.struct_time(tm_year=2019, tm_mon=5, tm_mday=29, tm_hour=17, tm_min=46, tm_sec=53, tm_wday=2, tm_yday=149, tm_isdst=0), 'links': [{'href': 'http://www.globalissues.org/news/2019/05/29/25323', 'rel': 'alternate', 'type': 'text/html'}], 'summary': '<p><img src=\"http://cdn.ipsnews.net/Library/2019/05/Children-walk_2_.jpg\" width=\"640\" alt=\"\" /></p><p>UNITED NATIONS, May 29 (IPS)  - When the UN Security Council met last week to discuss the deaths and devastation caused to civilians in ongoing military conflicts and civil wars, the killings in Yemen and the air attacks on hospitals, schools, mosques, and market places—whether deliberate or otherwise-- were singled out as the worst ever.</p><p><a href=\"http://www.globalissues.org/news/2019/05/29/25323\">Read the full story, “US “Emergency” Arms Sales to Mideast Nations Under Fire”, on globalissues.org</a> →</p>', 'summary_detail': {'type': 'text/html', 'language': None, 'base': 'http://www.globalissues.org/news/feed', 'value': '<p><img src=\"http://cdn.ipsnews.net/Library/2019/05/Children-walk_2_.jpg\" width=\"640\" alt=\"\" /></p><p>UNITED NATIONS, May 29 (IPS)  - When the UN Security Council met last week to discuss the deaths and devastation caused to civilians in ongoing military conflicts and civil wars, the killings in Yemen and the air attacks on hospitals, schools, mosques, and market places—whether deliberate or otherwise-- were singled out as the worst ever.</p><p><a href=\"http://www.globalissues.org/news/2019/05/29/25323\">Read the full story, “US “Emergency” Arms Sales to Mideast Nations Under Fire”, on globalissues.org</a> →</p>'}} 'published'\n"
     ]
    },
    {
     "name": "stdout",
     "output_type": "stream",
     "text": [
      "failed on  {'id': 'http://www.globalissues.org/news/2019/05/28/25322', 'guidislink': True, 'link': 'http://www.globalissues.org/news/2019/05/28/25322', 'title': 'Asia-Pacific Region Viewed as Engine of the World Economy', 'title_detail': {'type': 'text/plain', 'language': None, 'base': 'http://www.globalissues.org/news/feed', 'value': 'Asia-Pacific Region Viewed as Engine of the World Economy'}, 'updated': '2019-05-28T13:19:10-07:00', 'updated_parsed': time.struct_time(tm_year=2019, tm_mon=5, tm_mday=28, tm_hour=20, tm_min=19, tm_sec=10, tm_wday=1, tm_yday=148, tm_isdst=0), 'links': [{'href': 'http://www.globalissues.org/news/2019/05/28/25322', 'rel': 'alternate', 'type': 'text/html'}], 'summary': '<p><img src=\"http://cdn.ipsnews.net/Library/2019/05/Armida-Salsiah-Alisjahbana_2_.jpg\" width=\"640\" alt=\"\" /></p><p>BANGKOK, Thailand, May 28 (IPS)  - Armida Salsiah Alisjahbana * is UN Under-Secretary-General and Executive Secretary of the UN Economic and Social Commission for Asia and the Pacific (ESCAP)Since this Commission first met in 1947, our countries have travelled a long journey. Our economies are expected to become larger than the rest of the world combined, measured by purchasing power parity. It is often said the Asia-Pacific region is the engine of the world economy.</p><p><a href=\"http://www.globalissues.org/news/2019/05/28/25322\">Read the full story, “Asia-Pacific Region Viewed as Engine of the World Economy”, on globalissues.org</a> →</p>', 'summary_detail': {'type': 'text/html', 'language': None, 'base': 'http://www.globalissues.org/news/feed', 'value': '<p><img src=\"http://cdn.ipsnews.net/Library/2019/05/Armida-Salsiah-Alisjahbana_2_.jpg\" width=\"640\" alt=\"\" /></p><p>BANGKOK, Thailand, May 28 (IPS)  - Armida Salsiah Alisjahbana * is UN Under-Secretary-General and Executive Secretary of the UN Economic and Social Commission for Asia and the Pacific (ESCAP)Since this Commission first met in 1947, our countries have travelled a long journey. Our economies are expected to become larger than the rest of the world combined, measured by purchasing power parity. It is often said the Asia-Pacific region is the engine of the world economy.</p><p><a href=\"http://www.globalissues.org/news/2019/05/28/25322\">Read the full story, “Asia-Pacific Region Viewed as Engine of the World Economy”, on globalissues.org</a> →</p>'}} 'published'\n",
      "failed on  {'id': 'http://www.globalissues.org/news/2019/05/28/25321', 'guidislink': True, 'link': 'http://www.globalissues.org/news/2019/05/28/25321', 'title': 'US Threats to Dismantle Palestinian Refugee Agency Trigger Protests', 'title_detail': {'type': 'text/plain', 'language': None, 'base': 'http://www.globalissues.org/news/feed', 'value': 'US Threats to Dismantle Palestinian Refugee Agency Trigger Protests'}, 'updated': '2019-05-28T10:08:53-07:00', 'updated_parsed': time.struct_time(tm_year=2019, tm_mon=5, tm_mday=28, tm_hour=17, tm_min=8, tm_sec=53, tm_wday=1, tm_yday=148, tm_isdst=0), 'links': [{'href': 'http://www.globalissues.org/news/2019/05/28/25321', 'rel': 'alternate', 'type': 'text/html'}], 'summary': '<p><img src=\"http://cdn.ipsnews.net/Library/2019/05/US-threats2_.jpg\" width=\"640\" alt=\"\" /></p><p>UNITED NATIONS, May 28 (IPS)  - As it relentlessly pursues its strongly pro-Israeli policy – along with its disdain for multilateralism – the Trump administration continued to display its hostility towards the United Nations and its humanitarian agencies at a meeting of the UN Security Council focusing on the recent escalation of violence in Gaza.</p><p><a href=\"http://www.globalissues.org/news/2019/05/28/25321\">Read the full story, “US Threats to Dismantle Palestinian Refugee Agency Trigger Protests”, on globalissues.org</a> →</p>', 'summary_detail': {'type': 'text/html', 'language': None, 'base': 'http://www.globalissues.org/news/feed', 'value': '<p><img src=\"http://cdn.ipsnews.net/Library/2019/05/US-threats2_.jpg\" width=\"640\" alt=\"\" /></p><p>UNITED NATIONS, May 28 (IPS)  - As it relentlessly pursues its strongly pro-Israeli policy – along with its disdain for multilateralism – the Trump administration continued to display its hostility towards the United Nations and its humanitarian agencies at a meeting of the UN Security Council focusing on the recent escalation of violence in Gaza.</p><p><a href=\"http://www.globalissues.org/news/2019/05/28/25321\">Read the full story, “US Threats to Dismantle Palestinian Refugee Agency Trigger Protests”, on globalissues.org</a> →</p>'}} 'published'\n",
      "failed on  {'id': 'http://www.globalissues.org/news/2019/05/28/25319', 'guidislink': True, 'link': 'http://www.globalissues.org/news/2019/05/28/25319', 'title': 'Zimbabwe’s Resettled Farmers Hawking Cigarettes to Survive', 'title_detail': {'type': 'text/plain', 'language': None, 'base': 'http://www.globalissues.org/news/feed', 'value': 'Zimbabwe’s Resettled Farmers Hawking Cigarettes to Survive'}, 'updated': '2019-05-28T09:31:04-07:00', 'updated_parsed': time.struct_time(tm_year=2019, tm_mon=5, tm_mday=28, tm_hour=16, tm_min=31, tm_sec=4, tm_wday=1, tm_yday=148, tm_isdst=0), 'links': [{'href': 'http://www.globalissues.org/news/2019/05/28/25319', 'rel': 'alternate', 'type': 'text/html'}], 'summary': '<p><img src=\"http://cdn.ipsnews.net/Library/2019/05/15888498021_4cce17907d_z.jpg\" width=\"640\" alt=\"\" /></p><p>MARONDERA, Zimbabwe, May 28 (IPS)  - For subsistence farmer Rogers Hove, who proudly brandishes a worn out letter for his five hectare piece of land he obtained from government following the chaotic land seizures from white commercial farmers over two decades ago, what matters to him, \"is to see my piece of land in my possession\".</p><p><a href=\"http://www.globalissues.org/news/2019/05/28/25319\">Read the full story, “Zimbabwe’s Resettled Farmers Hawking Cigarettes to Survive”, on globalissues.org</a> →</p>', 'summary_detail': {'type': 'text/html', 'language': None, 'base': 'http://www.globalissues.org/news/feed', 'value': '<p><img src=\"http://cdn.ipsnews.net/Library/2019/05/15888498021_4cce17907d_z.jpg\" width=\"640\" alt=\"\" /></p><p>MARONDERA, Zimbabwe, May 28 (IPS)  - For subsistence farmer Rogers Hove, who proudly brandishes a worn out letter for his five hectare piece of land he obtained from government following the chaotic land seizures from white commercial farmers over two decades ago, what matters to him, \"is to see my piece of land in my possession\".</p><p><a href=\"http://www.globalissues.org/news/2019/05/28/25319\">Read the full story, “Zimbabwe’s Resettled Farmers Hawking Cigarettes to Survive”, on globalissues.org</a> →</p>'}} 'published'\n"
     ]
    },
    {
     "name": "stdout",
     "output_type": "stream",
     "text": [
      "failed on  {'id': 'http://www.globalissues.org/news/2019/05/28/25320', 'guidislink': True, 'link': 'http://www.globalissues.org/news/2019/05/28/25320', 'title': 'Educating Girls about Menstruation and Menstrual Hygiene', 'title_detail': {'type': 'text/plain', 'language': None, 'base': 'http://www.globalissues.org/news/feed', 'value': 'Educating Girls about Menstruation and Menstrual Hygiene'}, 'updated': '2019-05-28T08:50:52-07:00', 'updated_parsed': time.struct_time(tm_year=2019, tm_mon=5, tm_mday=28, tm_hour=15, tm_min=50, tm_sec=52, tm_wday=1, tm_yday=148, tm_isdst=0), 'links': [{'href': 'http://www.globalissues.org/news/2019/05/28/25320', 'rel': 'alternate', 'type': 'text/html'}], 'summary': '<p><img src=\"http://cdn.ipsnews.net/Library/2019/05/050A446A-E006-468C-A48F-F4F9ABBF098E.jpeg\" width=\"640\" alt=\"\" /></p><p>May 28 (IPS)  - Ida Horner is the Chairperson of Let Them Help ThemselvesThe organisers of <a href=\"https://menstrualhygieneday.org/action-for-mh-education/\">Menstrual Hygiene Day</a> say that although there has been a lot of good work on Menstrual Hygiene Management (MHM) either currently underway or already completed, we are a long way off from achieving an even playing field for girls and women worldwide.</p><p><a href=\"http://www.globalissues.org/news/2019/05/28/25320\">Read the full story, “Educating Girls about Menstruation and Menstrual Hygiene”, on globalissues.org</a> →</p>', 'summary_detail': {'type': 'text/html', 'language': None, 'base': 'http://www.globalissues.org/news/feed', 'value': '<p><img src=\"http://cdn.ipsnews.net/Library/2019/05/050A446A-E006-468C-A48F-F4F9ABBF098E.jpeg\" width=\"640\" alt=\"\" /></p><p>May 28 (IPS)  - Ida Horner is the Chairperson of Let Them Help ThemselvesThe organisers of <a href=\"https://menstrualhygieneday.org/action-for-mh-education/\">Menstrual Hygiene Day</a> say that although there has been a lot of good work on Menstrual Hygiene Management (MHM) either currently underway or already completed, we are a long way off from achieving an even playing field for girls and women worldwide.</p><p><a href=\"http://www.globalissues.org/news/2019/05/28/25320\">Read the full story, “Educating Girls about Menstruation and Menstrual Hygiene”, on globalissues.org</a> →</p>'}} 'published'\n",
      "failed on  {'id': 'http://www.globalissues.org/news/2019/05/27/25318', 'guidislink': True, 'link': 'http://www.globalissues.org/news/2019/05/27/25318', 'title': 'Realistic & Fair Immigration: A Policy to Unite Denmark', 'title_detail': {'type': 'text/plain', 'language': None, 'base': 'http://www.globalissues.org/news/feed', 'value': 'Realistic & Fair Immigration: A Policy to Unite Denmark'}, 'updated': '2019-05-27T12:52:01-07:00', 'updated_parsed': time.struct_time(tm_year=2019, tm_mon=5, tm_mday=27, tm_hour=19, tm_min=52, tm_sec=1, tm_wday=0, tm_yday=147, tm_isdst=0), 'links': [{'href': 'http://www.globalissues.org/news/2019/05/27/25318', 'rel': 'alternate', 'type': 'text/html'}], 'summary': '<p><img src=\"http://cdn.ipsnews.net/Library/2019/05/Mette-Frederiksen_.jpg\" width=\"640\" alt=\"\" /></p><p>COPENHAGEN, May 27 (IPS)  - Mette Frederiksen is a Danish Social Democrat politician. She has been a member of the Folketing, the parliament of Denmark, since 2001, and served in Helle Thorning-Schmidt\\'s government as Minister of Employment from 2011 to 2014.Immigration policy has divided the people of Denmark for many years. There are few other areas where the fronts are drawn so divisively and where arguments become attacks.</p><p>Maybe this is understandable? Immigration policy plays an important part when it comes to defining the country we want to be. There are deeply held emotions at stake. And more and more people are experiencing for themselves what happens when integration fails.</p><p><a href=\"http://www.globalissues.org/news/2019/05/27/25318\">Read the full story, “Realistic & Fair Immigration: A Policy to Unite Denmark”, on globalissues.org</a> →</p>', 'summary_detail': {'type': 'text/html', 'language': None, 'base': 'http://www.globalissues.org/news/feed', 'value': '<p><img src=\"http://cdn.ipsnews.net/Library/2019/05/Mette-Frederiksen_.jpg\" width=\"640\" alt=\"\" /></p><p>COPENHAGEN, May 27 (IPS)  - Mette Frederiksen is a Danish Social Democrat politician. She has been a member of the Folketing, the parliament of Denmark, since 2001, and served in Helle Thorning-Schmidt\\'s government as Minister of Employment from 2011 to 2014.Immigration policy has divided the people of Denmark for many years. There are few other areas where the fronts are drawn so divisively and where arguments become attacks.</p><p>Maybe this is understandable? Immigration policy plays an important part when it comes to defining the country we want to be. There are deeply held emotions at stake. And more and more people are experiencing for themselves what happens when integration fails.</p><p><a href=\"http://www.globalissues.org/news/2019/05/27/25318\">Read the full story, “Realistic & Fair Immigration: A Policy to Unite Denmark”, on globalissues.org</a> →</p>'}} 'published'\n",
      "failed on  {'id': 'http://www.globalissues.org/news/2019/05/27/25316', 'guidislink': True, 'link': 'http://www.globalissues.org/news/2019/05/27/25316', 'title': 'Within a Parallel Universe – Monsters of the Dark Web', 'title_detail': {'type': 'text/plain', 'language': None, 'base': 'http://www.globalissues.org/news/feed', 'value': 'Within a Parallel Universe – Monsters of the Dark Web'}, 'updated': '2019-05-27T10:07:40-07:00', 'updated_parsed': time.struct_time(tm_year=2019, tm_mon=5, tm_mday=27, tm_hour=17, tm_min=7, tm_sec=40, tm_wday=0, tm_yday=147, tm_isdst=0), 'links': [{'href': 'http://www.globalissues.org/news/2019/05/27/25316', 'rel': 'alternate', 'type': 'text/html'}], 'summary': '<p>STOCKHOLM / ROME, May 27 (IPS)  - Human existence includes dreams, thoughts, ideas, music, stories, religion, and other immaterial \"things\". They constitute an important part of our <em>habitat</em>, i.e. the dwelling place of any living organism, consisting of both organic and inorganic surroundings. I learned this when I many years ago found myself among the undulating heights of <em>Cordillera Central</em>, which rise diagonally across the island of Hispaniola, shared by Haiti and the Dominican Republic.</p><p><a href=\"http://www.globalissues.org/news/2019/05/27/25316\">Read the full story, “Within a Parallel Universe – Monsters of the Dark Web”, on globalissues.org</a> →</p>', 'summary_detail': {'type': 'text/html', 'language': None, 'base': 'http://www.globalissues.org/news/feed', 'value': '<p>STOCKHOLM / ROME, May 27 (IPS)  - Human existence includes dreams, thoughts, ideas, music, stories, religion, and other immaterial \"things\". They constitute an important part of our <em>habitat</em>, i.e. the dwelling place of any living organism, consisting of both organic and inorganic surroundings. I learned this when I many years ago found myself among the undulating heights of <em>Cordillera Central</em>, which rise diagonally across the island of Hispaniola, shared by Haiti and the Dominican Republic.</p><p><a href=\"http://www.globalissues.org/news/2019/05/27/25316\">Read the full story, “Within a Parallel Universe – Monsters of the Dark Web”, on globalissues.org</a> →</p>'}} 'published'\n"
     ]
    },
    {
     "name": "stdout",
     "output_type": "stream",
     "text": [
      "failed on  {'id': 'http://www.globalissues.org/news/2019/05/27/25317', 'guidislink': True, 'link': 'http://www.globalissues.org/news/2019/05/27/25317', 'title': 'The Time is Now: End Sexual and Gender-Based Violence', 'title_detail': {'type': 'text/plain', 'language': None, 'base': 'http://www.globalissues.org/news/feed', 'value': 'The Time is Now: End Sexual and Gender-Based Violence'}, 'updated': '2019-05-27T09:50:02-07:00', 'updated_parsed': time.struct_time(tm_year=2019, tm_mon=5, tm_mday=27, tm_hour=16, tm_min=50, tm_sec=2, tm_wday=0, tm_yday=147, tm_isdst=0), 'links': [{'href': 'http://www.globalissues.org/news/2019/05/27/25317', 'rel': 'alternate', 'type': 'text/html'}], 'summary': '<p><img src=\"http://cdn.ipsnews.net/Library/2019/05/33816537788_2260355016_z-1.jpg\" width=\"640\" alt=\"\" /></p><p>UNITED NATIONS, May 27 (IPS)  - It\\'s time to end sexual and gender-based violence once and for all, participants of a two-day conference said.</p><p><a href=\"http://www.globalissues.org/news/2019/05/27/25317\">Read the full story, “The Time is Now: End Sexual and Gender-Based Violence”, on globalissues.org</a> →</p>', 'summary_detail': {'type': 'text/html', 'language': None, 'base': 'http://www.globalissues.org/news/feed', 'value': '<p><img src=\"http://cdn.ipsnews.net/Library/2019/05/33816537788_2260355016_z-1.jpg\" width=\"640\" alt=\"\" /></p><p>UNITED NATIONS, May 27 (IPS)  - It\\'s time to end sexual and gender-based violence once and for all, participants of a two-day conference said.</p><p><a href=\"http://www.globalissues.org/news/2019/05/27/25317\">Read the full story, “The Time is Now: End Sexual and Gender-Based Violence”, on globalissues.org</a> →</p>'}} 'published'\n",
      "failed on  {'id': 'http://www.globalissues.org/news/2019/05/29/25325', 'guidislink': True, 'link': 'http://www.globalissues.org/news/2019/05/29/25325', 'title': 'A Call for Concrete Changes to Achieve a More Gender Equal World', 'title_detail': {'type': 'text/plain', 'language': None, 'base': 'http://www.globalissues.org/news/feed', 'value': 'A Call for Concrete Changes to Achieve a More Gender Equal World'}, 'updated': '2019-05-29T13:49:06-07:00', 'updated_parsed': time.struct_time(tm_year=2019, tm_mon=5, tm_mday=29, tm_hour=20, tm_min=49, tm_sec=6, tm_wday=2, tm_yday=149, tm_isdst=0), 'links': [{'href': 'http://www.globalissues.org/news/2019/05/29/25325', 'rel': 'alternate', 'type': 'text/html'}], 'summary': '<p><img src=\"http://cdn.ipsnews.net/Library/2019/05/HRH-Sarah-Zeid_.jpg\" width=\"640\" alt=\"\" /></p><p>AMMAN, May 29 (IPS)  - Princess Sarah Zeid is a member of UNHCR\\'s Advisory Group on Gender, Forced Displacement, and Protection, a Special Advisor to the World Food Programme on Maternal and Child Health and Nutrition, and Chair of the Newborn Health in Humanitarian Settings Initiative.On the eve of the Women Deliver conference in Vancouver June 3-6, Princess Sarah Zeid of Jordan interviewed <em>Dr. Olfat Mahmoud, a Palestinian refugee and women\\'s rights advocate</em>.</p><p><a href=\"http://www.globalissues.org/news/2019/05/29/25325\">Read the full story, “A Call for Concrete Changes to Achieve a More Gender Equal World”, on globalissues.org</a> →</p>', 'summary_detail': {'type': 'text/html', 'language': None, 'base': 'http://www.globalissues.org/news/feed', 'value': '<p><img src=\"http://cdn.ipsnews.net/Library/2019/05/HRH-Sarah-Zeid_.jpg\" width=\"640\" alt=\"\" /></p><p>AMMAN, May 29 (IPS)  - Princess Sarah Zeid is a member of UNHCR\\'s Advisory Group on Gender, Forced Displacement, and Protection, a Special Advisor to the World Food Programme on Maternal and Child Health and Nutrition, and Chair of the Newborn Health in Humanitarian Settings Initiative.On the eve of the Women Deliver conference in Vancouver June 3-6, Princess Sarah Zeid of Jordan interviewed <em>Dr. Olfat Mahmoud, a Palestinian refugee and women\\'s rights advocate</em>.</p><p><a href=\"http://www.globalissues.org/news/2019/05/29/25325\">Read the full story, “A Call for Concrete Changes to Achieve a More Gender Equal World”, on globalissues.org</a> →</p>'}} 'published'\n",
      "failed on  {'id': 'http://www.globalissues.org/news/2019/05/29/25324', 'guidislink': True, 'link': 'http://www.globalissues.org/news/2019/05/29/25324', 'title': 'These Aliens Are Here to Stay (And They Are Dangerous)', 'title_detail': {'type': 'text/plain', 'language': None, 'base': 'http://www.globalissues.org/news/feed', 'value': 'These Aliens Are Here to Stay (And They Are Dangerous)'}, 'updated': '2019-05-29T11:12:45-07:00', 'updated_parsed': time.struct_time(tm_year=2019, tm_mon=5, tm_mday=29, tm_hour=18, tm_min=12, tm_sec=45, tm_wday=2, tm_yday=149, tm_isdst=0), 'links': [{'href': 'http://www.globalissues.org/news/2019/05/29/25324', 'rel': 'alternate', 'type': 'text/html'}], 'summary': '<p><img src=\"http://cdn.ipsnews.net/Library/2019/05/WTO-small-629x417.jpg\" width=\"640\" alt=\"\" /></p><p>MADRID, May 29 (IPS)  - No, no, no. Nothing to do with what US and Europe\\'s far-right fanatics now use to vociferate, saying once and again that \"migrants come here to destroy our democracy, our civilisation, and our life-style\".</p><p><a href=\"http://www.globalissues.org/news/2019/05/29/25324\">Read the full story, “These Aliens Are Here to Stay (And They Are Dangerous)”, on globalissues.org</a> →</p>', 'summary_detail': {'type': 'text/html', 'language': None, 'base': 'http://www.globalissues.org/news/feed', 'value': '<p><img src=\"http://cdn.ipsnews.net/Library/2019/05/WTO-small-629x417.jpg\" width=\"640\" alt=\"\" /></p><p>MADRID, May 29 (IPS)  - No, no, no. Nothing to do with what US and Europe\\'s far-right fanatics now use to vociferate, saying once and again that \"migrants come here to destroy our democracy, our civilisation, and our life-style\".</p><p><a href=\"http://www.globalissues.org/news/2019/05/29/25324\">Read the full story, “These Aliens Are Here to Stay (And They Are Dangerous)”, on globalissues.org</a> →</p>'}} 'published'\n",
      "failed on  {'id': 'http://www.globalissues.org/news/2019/05/29/25323', 'guidislink': True, 'link': 'http://www.globalissues.org/news/2019/05/29/25323', 'title': 'US “Emergency” Arms Sales to Mideast Nations Under Fire', 'title_detail': {'type': 'text/plain', 'language': None, 'base': 'http://www.globalissues.org/news/feed', 'value': 'US “Emergency” Arms Sales to Mideast Nations Under Fire'}, 'updated': '2019-05-29T10:46:53-07:00', 'updated_parsed': time.struct_time(tm_year=2019, tm_mon=5, tm_mday=29, tm_hour=17, tm_min=46, tm_sec=53, tm_wday=2, tm_yday=149, tm_isdst=0), 'links': [{'href': 'http://www.globalissues.org/news/2019/05/29/25323', 'rel': 'alternate', 'type': 'text/html'}], 'summary': '<p><img src=\"http://cdn.ipsnews.net/Library/2019/05/Children-walk_2_.jpg\" width=\"640\" alt=\"\" /></p><p>UNITED NATIONS, May 29 (IPS)  - When the UN Security Council met last week to discuss the deaths and devastation caused to civilians in ongoing military conflicts and civil wars, the killings in Yemen and the air attacks on hospitals, schools, mosques, and market places—whether deliberate or otherwise-- were singled out as the worst ever.</p><p><a href=\"http://www.globalissues.org/news/2019/05/29/25323\">Read the full story, “US “Emergency” Arms Sales to Mideast Nations Under Fire”, on globalissues.org</a> →</p>', 'summary_detail': {'type': 'text/html', 'language': None, 'base': 'http://www.globalissues.org/news/feed', 'value': '<p><img src=\"http://cdn.ipsnews.net/Library/2019/05/Children-walk_2_.jpg\" width=\"640\" alt=\"\" /></p><p>UNITED NATIONS, May 29 (IPS)  - When the UN Security Council met last week to discuss the deaths and devastation caused to civilians in ongoing military conflicts and civil wars, the killings in Yemen and the air attacks on hospitals, schools, mosques, and market places—whether deliberate or otherwise-- were singled out as the worst ever.</p><p><a href=\"http://www.globalissues.org/news/2019/05/29/25323\">Read the full story, “US “Emergency” Arms Sales to Mideast Nations Under Fire”, on globalissues.org</a> →</p>'}} 'published'\n"
     ]
    },
    {
     "name": "stdout",
     "output_type": "stream",
     "text": [
      "failed on  {'id': 'http://www.globalissues.org/news/2019/05/28/25322', 'guidislink': True, 'link': 'http://www.globalissues.org/news/2019/05/28/25322', 'title': 'Asia-Pacific Region Viewed as Engine of the World Economy', 'title_detail': {'type': 'text/plain', 'language': None, 'base': 'http://www.globalissues.org/news/feed', 'value': 'Asia-Pacific Region Viewed as Engine of the World Economy'}, 'updated': '2019-05-28T13:19:10-07:00', 'updated_parsed': time.struct_time(tm_year=2019, tm_mon=5, tm_mday=28, tm_hour=20, tm_min=19, tm_sec=10, tm_wday=1, tm_yday=148, tm_isdst=0), 'links': [{'href': 'http://www.globalissues.org/news/2019/05/28/25322', 'rel': 'alternate', 'type': 'text/html'}], 'summary': '<p><img src=\"http://cdn.ipsnews.net/Library/2019/05/Armida-Salsiah-Alisjahbana_2_.jpg\" width=\"640\" alt=\"\" /></p><p>BANGKOK, Thailand, May 28 (IPS)  - Armida Salsiah Alisjahbana * is UN Under-Secretary-General and Executive Secretary of the UN Economic and Social Commission for Asia and the Pacific (ESCAP)Since this Commission first met in 1947, our countries have travelled a long journey. Our economies are expected to become larger than the rest of the world combined, measured by purchasing power parity. It is often said the Asia-Pacific region is the engine of the world economy.</p><p><a href=\"http://www.globalissues.org/news/2019/05/28/25322\">Read the full story, “Asia-Pacific Region Viewed as Engine of the World Economy”, on globalissues.org</a> →</p>', 'summary_detail': {'type': 'text/html', 'language': None, 'base': 'http://www.globalissues.org/news/feed', 'value': '<p><img src=\"http://cdn.ipsnews.net/Library/2019/05/Armida-Salsiah-Alisjahbana_2_.jpg\" width=\"640\" alt=\"\" /></p><p>BANGKOK, Thailand, May 28 (IPS)  - Armida Salsiah Alisjahbana * is UN Under-Secretary-General and Executive Secretary of the UN Economic and Social Commission for Asia and the Pacific (ESCAP)Since this Commission first met in 1947, our countries have travelled a long journey. Our economies are expected to become larger than the rest of the world combined, measured by purchasing power parity. It is often said the Asia-Pacific region is the engine of the world economy.</p><p><a href=\"http://www.globalissues.org/news/2019/05/28/25322\">Read the full story, “Asia-Pacific Region Viewed as Engine of the World Economy”, on globalissues.org</a> →</p>'}} 'published'\n",
      "failed on  {'id': 'http://www.globalissues.org/news/2019/05/28/25321', 'guidislink': True, 'link': 'http://www.globalissues.org/news/2019/05/28/25321', 'title': 'US Threats to Dismantle Palestinian Refugee Agency Trigger Protests', 'title_detail': {'type': 'text/plain', 'language': None, 'base': 'http://www.globalissues.org/news/feed', 'value': 'US Threats to Dismantle Palestinian Refugee Agency Trigger Protests'}, 'updated': '2019-05-28T10:08:53-07:00', 'updated_parsed': time.struct_time(tm_year=2019, tm_mon=5, tm_mday=28, tm_hour=17, tm_min=8, tm_sec=53, tm_wday=1, tm_yday=148, tm_isdst=0), 'links': [{'href': 'http://www.globalissues.org/news/2019/05/28/25321', 'rel': 'alternate', 'type': 'text/html'}], 'summary': '<p><img src=\"http://cdn.ipsnews.net/Library/2019/05/US-threats2_.jpg\" width=\"640\" alt=\"\" /></p><p>UNITED NATIONS, May 28 (IPS)  - As it relentlessly pursues its strongly pro-Israeli policy – along with its disdain for multilateralism – the Trump administration continued to display its hostility towards the United Nations and its humanitarian agencies at a meeting of the UN Security Council focusing on the recent escalation of violence in Gaza.</p><p><a href=\"http://www.globalissues.org/news/2019/05/28/25321\">Read the full story, “US Threats to Dismantle Palestinian Refugee Agency Trigger Protests”, on globalissues.org</a> →</p>', 'summary_detail': {'type': 'text/html', 'language': None, 'base': 'http://www.globalissues.org/news/feed', 'value': '<p><img src=\"http://cdn.ipsnews.net/Library/2019/05/US-threats2_.jpg\" width=\"640\" alt=\"\" /></p><p>UNITED NATIONS, May 28 (IPS)  - As it relentlessly pursues its strongly pro-Israeli policy – along with its disdain for multilateralism – the Trump administration continued to display its hostility towards the United Nations and its humanitarian agencies at a meeting of the UN Security Council focusing on the recent escalation of violence in Gaza.</p><p><a href=\"http://www.globalissues.org/news/2019/05/28/25321\">Read the full story, “US Threats to Dismantle Palestinian Refugee Agency Trigger Protests”, on globalissues.org</a> →</p>'}} 'published'\n",
      "failed on  {'id': 'http://www.globalissues.org/news/2019/05/28/25319', 'guidislink': True, 'link': 'http://www.globalissues.org/news/2019/05/28/25319', 'title': 'Zimbabwe’s Resettled Farmers Hawking Cigarettes to Survive', 'title_detail': {'type': 'text/plain', 'language': None, 'base': 'http://www.globalissues.org/news/feed', 'value': 'Zimbabwe’s Resettled Farmers Hawking Cigarettes to Survive'}, 'updated': '2019-05-28T09:31:04-07:00', 'updated_parsed': time.struct_time(tm_year=2019, tm_mon=5, tm_mday=28, tm_hour=16, tm_min=31, tm_sec=4, tm_wday=1, tm_yday=148, tm_isdst=0), 'links': [{'href': 'http://www.globalissues.org/news/2019/05/28/25319', 'rel': 'alternate', 'type': 'text/html'}], 'summary': '<p><img src=\"http://cdn.ipsnews.net/Library/2019/05/15888498021_4cce17907d_z.jpg\" width=\"640\" alt=\"\" /></p><p>MARONDERA, Zimbabwe, May 28 (IPS)  - For subsistence farmer Rogers Hove, who proudly brandishes a worn out letter for his five hectare piece of land he obtained from government following the chaotic land seizures from white commercial farmers over two decades ago, what matters to him, \"is to see my piece of land in my possession\".</p><p><a href=\"http://www.globalissues.org/news/2019/05/28/25319\">Read the full story, “Zimbabwe’s Resettled Farmers Hawking Cigarettes to Survive”, on globalissues.org</a> →</p>', 'summary_detail': {'type': 'text/html', 'language': None, 'base': 'http://www.globalissues.org/news/feed', 'value': '<p><img src=\"http://cdn.ipsnews.net/Library/2019/05/15888498021_4cce17907d_z.jpg\" width=\"640\" alt=\"\" /></p><p>MARONDERA, Zimbabwe, May 28 (IPS)  - For subsistence farmer Rogers Hove, who proudly brandishes a worn out letter for his five hectare piece of land he obtained from government following the chaotic land seizures from white commercial farmers over two decades ago, what matters to him, \"is to see my piece of land in my possession\".</p><p><a href=\"http://www.globalissues.org/news/2019/05/28/25319\">Read the full story, “Zimbabwe’s Resettled Farmers Hawking Cigarettes to Survive”, on globalissues.org</a> →</p>'}} 'published'\n"
     ]
    },
    {
     "name": "stdout",
     "output_type": "stream",
     "text": [
      "failed on  {'id': 'http://www.globalissues.org/news/2019/05/28/25320', 'guidislink': True, 'link': 'http://www.globalissues.org/news/2019/05/28/25320', 'title': 'Educating Girls about Menstruation and Menstrual Hygiene', 'title_detail': {'type': 'text/plain', 'language': None, 'base': 'http://www.globalissues.org/news/feed', 'value': 'Educating Girls about Menstruation and Menstrual Hygiene'}, 'updated': '2019-05-28T08:50:52-07:00', 'updated_parsed': time.struct_time(tm_year=2019, tm_mon=5, tm_mday=28, tm_hour=15, tm_min=50, tm_sec=52, tm_wday=1, tm_yday=148, tm_isdst=0), 'links': [{'href': 'http://www.globalissues.org/news/2019/05/28/25320', 'rel': 'alternate', 'type': 'text/html'}], 'summary': '<p><img src=\"http://cdn.ipsnews.net/Library/2019/05/050A446A-E006-468C-A48F-F4F9ABBF098E.jpeg\" width=\"640\" alt=\"\" /></p><p>May 28 (IPS)  - Ida Horner is the Chairperson of Let Them Help ThemselvesThe organisers of <a href=\"https://menstrualhygieneday.org/action-for-mh-education/\">Menstrual Hygiene Day</a> say that although there has been a lot of good work on Menstrual Hygiene Management (MHM) either currently underway or already completed, we are a long way off from achieving an even playing field for girls and women worldwide.</p><p><a href=\"http://www.globalissues.org/news/2019/05/28/25320\">Read the full story, “Educating Girls about Menstruation and Menstrual Hygiene”, on globalissues.org</a> →</p>', 'summary_detail': {'type': 'text/html', 'language': None, 'base': 'http://www.globalissues.org/news/feed', 'value': '<p><img src=\"http://cdn.ipsnews.net/Library/2019/05/050A446A-E006-468C-A48F-F4F9ABBF098E.jpeg\" width=\"640\" alt=\"\" /></p><p>May 28 (IPS)  - Ida Horner is the Chairperson of Let Them Help ThemselvesThe organisers of <a href=\"https://menstrualhygieneday.org/action-for-mh-education/\">Menstrual Hygiene Day</a> say that although there has been a lot of good work on Menstrual Hygiene Management (MHM) either currently underway or already completed, we are a long way off from achieving an even playing field for girls and women worldwide.</p><p><a href=\"http://www.globalissues.org/news/2019/05/28/25320\">Read the full story, “Educating Girls about Menstruation and Menstrual Hygiene”, on globalissues.org</a> →</p>'}} 'published'\n",
      "failed on  {'id': 'http://www.globalissues.org/news/2019/05/27/25318', 'guidislink': True, 'link': 'http://www.globalissues.org/news/2019/05/27/25318', 'title': 'Realistic & Fair Immigration: A Policy to Unite Denmark', 'title_detail': {'type': 'text/plain', 'language': None, 'base': 'http://www.globalissues.org/news/feed', 'value': 'Realistic & Fair Immigration: A Policy to Unite Denmark'}, 'updated': '2019-05-27T12:52:01-07:00', 'updated_parsed': time.struct_time(tm_year=2019, tm_mon=5, tm_mday=27, tm_hour=19, tm_min=52, tm_sec=1, tm_wday=0, tm_yday=147, tm_isdst=0), 'links': [{'href': 'http://www.globalissues.org/news/2019/05/27/25318', 'rel': 'alternate', 'type': 'text/html'}], 'summary': '<p><img src=\"http://cdn.ipsnews.net/Library/2019/05/Mette-Frederiksen_.jpg\" width=\"640\" alt=\"\" /></p><p>COPENHAGEN, May 27 (IPS)  - Mette Frederiksen is a Danish Social Democrat politician. She has been a member of the Folketing, the parliament of Denmark, since 2001, and served in Helle Thorning-Schmidt\\'s government as Minister of Employment from 2011 to 2014.Immigration policy has divided the people of Denmark for many years. There are few other areas where the fronts are drawn so divisively and where arguments become attacks.</p><p>Maybe this is understandable? Immigration policy plays an important part when it comes to defining the country we want to be. There are deeply held emotions at stake. And more and more people are experiencing for themselves what happens when integration fails.</p><p><a href=\"http://www.globalissues.org/news/2019/05/27/25318\">Read the full story, “Realistic & Fair Immigration: A Policy to Unite Denmark”, on globalissues.org</a> →</p>', 'summary_detail': {'type': 'text/html', 'language': None, 'base': 'http://www.globalissues.org/news/feed', 'value': '<p><img src=\"http://cdn.ipsnews.net/Library/2019/05/Mette-Frederiksen_.jpg\" width=\"640\" alt=\"\" /></p><p>COPENHAGEN, May 27 (IPS)  - Mette Frederiksen is a Danish Social Democrat politician. She has been a member of the Folketing, the parliament of Denmark, since 2001, and served in Helle Thorning-Schmidt\\'s government as Minister of Employment from 2011 to 2014.Immigration policy has divided the people of Denmark for many years. There are few other areas where the fronts are drawn so divisively and where arguments become attacks.</p><p>Maybe this is understandable? Immigration policy plays an important part when it comes to defining the country we want to be. There are deeply held emotions at stake. And more and more people are experiencing for themselves what happens when integration fails.</p><p><a href=\"http://www.globalissues.org/news/2019/05/27/25318\">Read the full story, “Realistic & Fair Immigration: A Policy to Unite Denmark”, on globalissues.org</a> →</p>'}} 'published'\n",
      "failed on  {'id': 'http://www.globalissues.org/news/2019/05/27/25316', 'guidislink': True, 'link': 'http://www.globalissues.org/news/2019/05/27/25316', 'title': 'Within a Parallel Universe – Monsters of the Dark Web', 'title_detail': {'type': 'text/plain', 'language': None, 'base': 'http://www.globalissues.org/news/feed', 'value': 'Within a Parallel Universe – Monsters of the Dark Web'}, 'updated': '2019-05-27T10:07:40-07:00', 'updated_parsed': time.struct_time(tm_year=2019, tm_mon=5, tm_mday=27, tm_hour=17, tm_min=7, tm_sec=40, tm_wday=0, tm_yday=147, tm_isdst=0), 'links': [{'href': 'http://www.globalissues.org/news/2019/05/27/25316', 'rel': 'alternate', 'type': 'text/html'}], 'summary': '<p>STOCKHOLM / ROME, May 27 (IPS)  - Human existence includes dreams, thoughts, ideas, music, stories, religion, and other immaterial \"things\". They constitute an important part of our <em>habitat</em>, i.e. the dwelling place of any living organism, consisting of both organic and inorganic surroundings. I learned this when I many years ago found myself among the undulating heights of <em>Cordillera Central</em>, which rise diagonally across the island of Hispaniola, shared by Haiti and the Dominican Republic.</p><p><a href=\"http://www.globalissues.org/news/2019/05/27/25316\">Read the full story, “Within a Parallel Universe – Monsters of the Dark Web”, on globalissues.org</a> →</p>', 'summary_detail': {'type': 'text/html', 'language': None, 'base': 'http://www.globalissues.org/news/feed', 'value': '<p>STOCKHOLM / ROME, May 27 (IPS)  - Human existence includes dreams, thoughts, ideas, music, stories, religion, and other immaterial \"things\". They constitute an important part of our <em>habitat</em>, i.e. the dwelling place of any living organism, consisting of both organic and inorganic surroundings. I learned this when I many years ago found myself among the undulating heights of <em>Cordillera Central</em>, which rise diagonally across the island of Hispaniola, shared by Haiti and the Dominican Republic.</p><p><a href=\"http://www.globalissues.org/news/2019/05/27/25316\">Read the full story, “Within a Parallel Universe – Monsters of the Dark Web”, on globalissues.org</a> →</p>'}} 'published'\n"
     ]
    },
    {
     "name": "stdout",
     "output_type": "stream",
     "text": [
      "failed on  {'id': 'http://www.globalissues.org/news/2019/05/27/25317', 'guidislink': True, 'link': 'http://www.globalissues.org/news/2019/05/27/25317', 'title': 'The Time is Now: End Sexual and Gender-Based Violence', 'title_detail': {'type': 'text/plain', 'language': None, 'base': 'http://www.globalissues.org/news/feed', 'value': 'The Time is Now: End Sexual and Gender-Based Violence'}, 'updated': '2019-05-27T09:50:02-07:00', 'updated_parsed': time.struct_time(tm_year=2019, tm_mon=5, tm_mday=27, tm_hour=16, tm_min=50, tm_sec=2, tm_wday=0, tm_yday=147, tm_isdst=0), 'links': [{'href': 'http://www.globalissues.org/news/2019/05/27/25317', 'rel': 'alternate', 'type': 'text/html'}], 'summary': '<p><img src=\"http://cdn.ipsnews.net/Library/2019/05/33816537788_2260355016_z-1.jpg\" width=\"640\" alt=\"\" /></p><p>UNITED NATIONS, May 27 (IPS)  - It\\'s time to end sexual and gender-based violence once and for all, participants of a two-day conference said.</p><p><a href=\"http://www.globalissues.org/news/2019/05/27/25317\">Read the full story, “The Time is Now: End Sexual and Gender-Based Violence”, on globalissues.org</a> →</p>', 'summary_detail': {'type': 'text/html', 'language': None, 'base': 'http://www.globalissues.org/news/feed', 'value': '<p><img src=\"http://cdn.ipsnews.net/Library/2019/05/33816537788_2260355016_z-1.jpg\" width=\"640\" alt=\"\" /></p><p>UNITED NATIONS, May 27 (IPS)  - It\\'s time to end sexual and gender-based violence once and for all, participants of a two-day conference said.</p><p><a href=\"http://www.globalissues.org/news/2019/05/27/25317\">Read the full story, “The Time is Now: End Sexual and Gender-Based Violence”, on globalissues.org</a> →</p>'}} 'published'\n",
      "Finished!  With 1553 articles\n"
     ]
    }
   ],
   "source": [
    "# Parse all, drop info you don't want\n",
    "corpus = []\n",
    "entities = []\n",
    "\n",
    "for index, row in feeds_df.iterrows():\n",
    "    pump = RSSPump(row['url'])\n",
    "    corpus = corpus + pump.get_stories()\n",
    "    entities = entities + pump.get_entities()\n",
    "print(\"Finished!  With {} articles\".format(len(corpus)))"
   ]
  },
  {
   "cell_type": "markdown",
   "metadata": {},
   "source": [
    "## 2.  Quick check that the data's what we expect"
   ]
  },
  {
   "cell_type": "code",
   "execution_count": 4,
   "metadata": {},
   "outputs": [
    {
     "data": {
      "text/plain": [
       "1553"
      ]
     },
     "execution_count": 4,
     "metadata": {},
     "output_type": "execute_result"
    }
   ],
   "source": [
    "len(corpus)"
   ]
  },
  {
   "cell_type": "code",
   "execution_count": 5,
   "metadata": {
    "scrolled": true
   },
   "outputs": [
    {
     "data": {
      "text/plain": [
       "{'title': 'Robert Mueller: Charging Trump was not an option',\n",
       " 'summary': 'The special counsel said legal guidelines meant he was unable to charge a sitting president.',\n",
       " 'date': 'Wed, 29 May 2019 17:27:58 GMT',\n",
       " 'link': 'https://www.bbc.co.uk/news/world-us-canada-48450534',\n",
       " 'source_url': 'http://feeds.bbci.co.uk/news/world/rss.xml',\n",
       " 'retrieval_timestamp': '2019-05-29 21:02:30.743862'}"
      ]
     },
     "execution_count": 5,
     "metadata": {},
     "output_type": "execute_result"
    }
   ],
   "source": [
    "corpus[0]"
   ]
  },
  {
   "cell_type": "code",
   "execution_count": 6,
   "metadata": {
    "scrolled": true
   },
   "outputs": [
    {
     "data": {
      "text/plain": [
       "{'source_url': 'http://feeds.bbci.co.uk/news/world/rss.xml',\n",
       " 'retrieval_timestamp': '2019-05-29 21:02:30.743862',\n",
       " 'title': 'Robert Mueller: Charging Trump was not an option',\n",
       " 'entities': 'PERSON:Robert Mueller:,PERSON:Charging Trump'}"
      ]
     },
     "execution_count": 6,
     "metadata": {},
     "output_type": "execute_result"
    }
   ],
   "source": [
    "entities[0]"
   ]
  },
  {
   "cell_type": "markdown",
   "metadata": {},
   "source": [
    "## 3.  Dump to file"
   ]
  },
  {
   "cell_type": "code",
   "execution_count": 23,
   "metadata": {},
   "outputs": [],
   "source": [
    "# Dump the corpus to file, record the date and time in the filename\n",
    "filename = \"./working/RSS_corpus_{}.json\".format(datetime.now().strftime(\"%Y-%m-%d %H%M\").replace(\" \", \"_\") )\n",
    "\n",
    "with open(filename, \"w\") as f:\n",
    "    json.dump(corpus, f)"
   ]
  },
  {
   "cell_type": "code",
   "execution_count": 24,
   "metadata": {},
   "outputs": [],
   "source": [
    "# Dump the entities to file, record the date and time in the filename\n",
    "filename = \"./working/RSS_entities_{}.json\".format(datetime.now().strftime(\"%Y-%m-%d %H%M\").replace(\" \", \"_\") )\n",
    "\n",
    "with open(filename, \"w\") as f:\n",
    "    json.dump(entities, f)"
   ]
  }
 ],
 "metadata": {
  "kernelspec": {
   "display_name": "Python 3",
   "language": "python",
   "name": "python3"
  },
  "language_info": {
   "codemirror_mode": {
    "name": "ipython",
    "version": 3
   },
   "file_extension": ".py",
   "mimetype": "text/x-python",
   "name": "python",
   "nbconvert_exporter": "python",
   "pygments_lexer": "ipython3",
   "version": "3.7.3"
  }
 },
 "nbformat": 4,
 "nbformat_minor": 2
}
