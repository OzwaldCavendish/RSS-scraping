{
 "cells": [
  {
   "cell_type": "markdown",
   "metadata": {},
   "source": [
    "# Using Bing News to retrieve Immediately Relevant Jabber\n",
    "\n",
    "The instructions for setting up the tech at the MS/Azure end are at https://docs.microsoft.com/en-us/azure/cognitive-services/bing-news-search/python"
   ]
  },
  {
   "cell_type": "code",
   "execution_count": 4,
   "metadata": {},
   "outputs": [],
   "source": [
    "import json\n",
    "import requests\n",
    "\n",
    "import numpy as np\n",
    "import pandas as pd"
   ]
  },
  {
   "cell_type": "code",
   "execution_count": 9,
   "metadata": {},
   "outputs": [],
   "source": [
    "with open(\"keys.json\", \"r\") as f:\n",
    "    keys = json.load(f)"
   ]
  },
  {
   "cell_type": "markdown",
   "metadata": {},
   "source": [
    "## Configuring for UK news\n",
    "\n",
    "The API details, including all the qualifiers and conditions logic that can be applied within a query, can be found at https://docs.microsoft.com/en-us/rest/api/cognitiveservices-bingsearch/bing-news-api-v7-reference#organization"
   ]
  },
  {
   "cell_type": "code",
   "execution_count": 60,
   "metadata": {},
   "outputs": [],
   "source": [
    "headers = {\"Ocp-Apim-Subscription-Key\" : keys['cognitive_resources'][\"key\"]}\n",
    "\n",
    "params  = {\"q\": '\"Home Secretary\"',\n",
    "           \"textDecorations\": True,\n",
    "           \"textFormat\": \"HTML\",\n",
    "           \"cc\": \"GB\",\n",
    "           \"count\": 100}\n",
    "search_url = \"https://uksouth.api.cognitive.microsoft.com/bing/v7.0/news/search\"\n",
    "# \"https://api.cognitive.microsoft.com/bing/v7.0/news/search\""
   ]
  },
  {
   "cell_type": "code",
   "execution_count": 61,
   "metadata": {},
   "outputs": [],
   "source": [
    "response = requests.get(search_url, headers=headers, params=params)\n",
    "response.raise_for_status()\n",
    "search_results = response.json()"
   ]
  },
  {
   "cell_type": "code",
   "execution_count": 62,
   "metadata": {},
   "outputs": [
    {
     "name": "stdout",
     "output_type": "stream",
     "text": [
      "200 36\n"
     ]
    }
   ],
   "source": [
    "print(response.status_code, len(search_results['value']))"
   ]
  },
  {
   "cell_type": "code",
   "execution_count": 63,
   "metadata": {},
   "outputs": [
    {
     "data": {
      "text/plain": [
       "[('https://www.eadt.co.uk/business/farming/home-secretary-priti-patel-meets-essex-farmers-1-6243506',\n",
       "  'The meeting with the Witham MP was hosted by Simon Brice on his farm near Rivenhall and chaired by Nicholas Reed, chairman of the Braintree branch of the National Farmers&#39; Union (NFU). Farmers called for action to tackle rural crime such as hare coursing ...'),\n",
       " ('https://www.kentonline.co.uk/dover/news/home-secretarys-migrant-crisis-meeting-211376/',\n",
       "  '<b>Home Secretary</b> Priti Patel hasn met her French counterpart to discuss the ongoing migrant crisis. Ms Patel was with Interior Minister Christophe Castaner in Paris yesterday. The pair meet in Paris. Picture: Christophe Castaner @CCastaner After they greeted ...'),\n",
       " ('https://www.telegraph.co.uk/news/2019/08/22/coroner-urges-home-secretary-review-domestic-abuse-laws-man/',\n",
       "  'A coroner has urged the <b>Home Secretary</b> to review domestic abuse laws after a husband killed his estranged wife by letting himself into their property with keys the police had failed to seize. Alan Martin, 53, bludgeoned Kay Martin, 49, to death with a lump ...'),\n",
       " ('https://www.standard.co.uk/news/uk/home-secretary-priti-patel-to-hold-talks-after-dozens-of-migrants-including-six-children-try-to-a4219691.html',\n",
       "  '<b>Home Secretary</b> Priti Patel is going to hold talks with her French counterpart after dozens of migrants, including six children, tried to cross the Channel. In four separate events on the south coast on Thursday, the Border Force dealt with a total of 37 ...'),\n",
       " ('https://www.kentonline.co.uk/dover/news/home-secretary-to-discuss-migrants-crisis-210960/',\n",
       "  'The <b>Home Secretary</b> is set to meet with her French counterpart to discuss how to deal with migrants attempting to cross the Channel. Priti Patel will raise the issue after a total of 37 people were brought to Dover after the boats they were being carried in ...'),\n",
       " ('https://www.dailymail.co.uk/news/article-7345345/Home-Secretary-urged-hike-proposed-minimum-salary-threshold-immigrant-workers.html',\n",
       "  'The <b>Home Secretary</b> will be urged to hike the proposed £30,000 minimum salary threshold for all new foreign workers to protect lower-paid, UK-born employees. Currently, the restriction only applies to non-EU migrants but is set to be extended to EU workers ...'),\n",
       " ('https://www.dailymail.co.uk/news/article-7367709/Home-Secretary-Priti-Patel-wants-borders-shut-October-31.html',\n",
       "  'Priti Patel has ordered her senior officials to travel to Singapore to study how their border infrastructure operates as she puts ‘rocket boosters’ under No Deal planning at the Home Office. The <b>Home Secretary</b> has demanded a toughening up of ...'),\n",
       " ('https://www.thecourier.co.uk/fp/news/local/dundee/964617/home-secretary-urged-to-attend-summit-into-drug-deaths-in-scotland/',\n",
       "  'Scotland’s public health minister Joe FitzPatrick has again urged <b>Home Secretary</b> Priti Patel to attend a summit investigating Scotland’s drugs crisis. The SNP MSP for Dundee City West said reducing the number of drugs deaths should be a priority for ...'),\n",
       " ('https://www.mirror.co.uk/news/politics/uk-home-secretary-holds-talks-18990880',\n",
       "  '<b>Home Secretary</b> Priti Patel will seek talks after dozens of people were intercepted in separate boats on Thursday'),\n",
       " ('https://www.thecourier.co.uk/fp/news/local/dundee/962997/waiting-on-sg-home-secretary-priti-patel-refuses-to-commit-to-attending-scottish-drug-deaths-summit/',\n",
       "  '<b>Home secretary</b> Priti Patel has refused to commit to attending a summit proposed by Scottish Government ministers to discuss Scotland’s drug death crisis. Public health minister Joe FitzPatrick wrote to Ms Patel on August 1 following the release of ...'),\n",
       " ('https://morningstaronline.co.uk/article/b/scotland-health-minister-calls-on-home-secretary-to-attend-urgent-meeting-on-drug-deaths',\n",
       "  'SCOTLAND’S public health minister has written to the <b>Home Secretary</b> for a third time calling for an urgent meeting over drug deaths — after two previous letters were ignored, the Scottish government revealed today. The SNP’s Joe FitzPatrick ...'),\n",
       " ('https://www.lbc.co.uk/radio/presenters/andrew-castle/essex-police-federation-chair-asks-home-secretary/',\n",
       "  'The Chair of Essex Police Federation has asked the <b>Home Secretary</b> to unblock the staff association&#39;s Twitter account. The Chair of Essex Police Federation has called on the newly appointed <b>Home Secretary</b>, Priti Patel, to unblock the the staff association ...')]"
      ]
     },
     "execution_count": 63,
     "metadata": {},
     "output_type": "execute_result"
    }
   ],
   "source": [
    "[(article['url'], article['description']) for article in search_results['value'] if \".co.uk\" in article['url']]"
   ]
  },
  {
   "cell_type": "code",
   "execution_count": null,
   "metadata": {},
   "outputs": [],
   "source": []
  }
 ],
 "metadata": {
  "kernelspec": {
   "display_name": "Python 3",
   "language": "python",
   "name": "python3"
  },
  "language_info": {
   "codemirror_mode": {
    "name": "ipython",
    "version": 3
   },
   "file_extension": ".py",
   "mimetype": "text/x-python",
   "name": "python",
   "nbconvert_exporter": "python",
   "pygments_lexer": "ipython3",
   "version": "3.7.3"
  }
 },
 "nbformat": 4,
 "nbformat_minor": 2
}
