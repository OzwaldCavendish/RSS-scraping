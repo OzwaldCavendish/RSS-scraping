{
 "cells": [
  {
   "cell_type": "markdown",
   "metadata": {},
   "source": [
    "# Sourcing and grouping RSS feeds\n",
    "\n",
    "There's a lot of focus nowadays on webscraping for information retrieval, but before web-scraping and its questionable ethics there already existed a solution for computer-readable news data.\n",
    "\n",
    "RSS (Rich Site Summary) feeds publish frequently updated information on the news/pages/documents available from a site.  The RSS document (an xml kind of thing) contains a headline, summary description (usually just one sentence), a picture and a link to the full article or document.  RSS systems are used in RSS reader software and other news aggregation apps to provide information on available stories while minimising overhead (eg; an app for browsing news articles doesn't have to retrieve and load every article/web page in full, just the much smaller amount of information in the RSS document).\n",
    "\n",
    "So I can use them to create a corpus of summarized news items right?\n",
    "\n",
    "Info on how to get the RSS docs from https://www.pythonforbeginners.com/feedparser/using-feedparser-in-python"
   ]
  },
  {
   "cell_type": "code",
   "execution_count": 1,
   "metadata": {
    "scrolled": true
   },
   "outputs": [],
   "source": [
    "import json\n",
    "\n",
    "import numpy as np\n",
    "import pandas as pd\n",
    "\n",
    "from datetime import datetime\n",
    "\n",
    "# Own convenience module\n",
    "from rsspump import RSSPump"
   ]
  },
  {
   "cell_type": "markdown",
   "metadata": {},
   "source": [
    "## 1. Parsing lots of feeds!\n",
    "\n",
    "Each of these feeds only gives a set number of news stories (to limit overhead/abuse I guess) so lets parse lots of different feeds and build a news corpus.\n",
    "\n",
    "Lots of different country's world news sites - I sourced all the links from this blog;\n",
    "https://blog.feedspot.com/world_news_rss_feeds/"
   ]
  },
  {
   "cell_type": "code",
   "execution_count": 2,
   "metadata": {},
   "outputs": [
    {
     "data": {
      "text/html": [
       "<div>\n",
       "<style scoped>\n",
       "    .dataframe tbody tr th:only-of-type {\n",
       "        vertical-align: middle;\n",
       "    }\n",
       "\n",
       "    .dataframe tbody tr th {\n",
       "        vertical-align: top;\n",
       "    }\n",
       "\n",
       "    .dataframe thead th {\n",
       "        text-align: right;\n",
       "    }\n",
       "</style>\n",
       "<table border=\"1\" class=\"dataframe\">\n",
       "  <thead>\n",
       "    <tr style=\"text-align: right;\">\n",
       "      <th></th>\n",
       "      <th>url</th>\n",
       "      <th>type</th>\n",
       "    </tr>\n",
       "  </thead>\n",
       "  <tbody>\n",
       "    <tr>\n",
       "      <th>0</th>\n",
       "      <td>http://feeds.bbci.co.uk/news/world/rss.xml</td>\n",
       "      <td>world</td>\n",
       "    </tr>\n",
       "    <tr>\n",
       "      <th>1</th>\n",
       "      <td>http://feeds.reuters.com/Reuters/worldNews</td>\n",
       "      <td>world</td>\n",
       "    </tr>\n",
       "    <tr>\n",
       "      <th>2</th>\n",
       "      <td>http://www.cbn.com/cbnnews/world/feed/</td>\n",
       "      <td>world</td>\n",
       "    </tr>\n",
       "    <tr>\n",
       "      <th>3</th>\n",
       "      <td>https://news.google.com/news/rss/headlines/sec...</td>\n",
       "      <td>world</td>\n",
       "    </tr>\n",
       "    <tr>\n",
       "      <th>4</th>\n",
       "      <td>https://www.reddit.com/r/worldnews/.rsshttps:/...</td>\n",
       "      <td>world</td>\n",
       "    </tr>\n",
       "  </tbody>\n",
       "</table>\n",
       "</div>"
      ],
      "text/plain": [
       "                                                 url   type\n",
       "0         http://feeds.bbci.co.uk/news/world/rss.xml  world\n",
       "1         http://feeds.reuters.com/Reuters/worldNews  world\n",
       "2             http://www.cbn.com/cbnnews/world/feed/  world\n",
       "3  https://news.google.com/news/rss/headlines/sec...  world\n",
       "4  https://www.reddit.com/r/worldnews/.rsshttps:/...  world"
      ]
     },
     "execution_count": 2,
     "metadata": {},
     "output_type": "execute_result"
    }
   ],
   "source": [
    "feeds_df = pd.read_csv(\"rss_urls.csv\")\n",
    "feeds_df.head()"
   ]
  },
  {
   "cell_type": "code",
   "execution_count": 3,
   "metadata": {},
   "outputs": [
    {
     "name": "stdout",
     "output_type": "stream",
     "text": [
      "failed on  {'id': 'http://www.globalissues.org/news/2019/06/18/25377', 'guidislink': True, 'link': 'http://www.globalissues.org/news/2019/06/18/25377', 'title': 'Colombia – Trade Unionism Under Threat of Death', 'title_detail': {'type': 'text/plain', 'language': None, 'base': 'http://www.globalissues.org/news/feed', 'value': 'Colombia – Trade Unionism Under Threat of Death'}, 'updated': '2019-06-18T13:40:56-07:00', 'updated_parsed': time.struct_time(tm_year=2019, tm_mon=6, tm_mday=18, tm_hour=20, tm_min=40, tm_sec=56, tm_wday=1, tm_yday=169, tm_isdst=0), 'links': [{'href': 'http://www.globalissues.org/news/2019/06/18/25377', 'rel': 'alternate', 'type': 'text/html'}], 'summary': '<p><img src=\"http://cdn.ipsnews.net/Library/2019/06/colombia1.jpg\" width=\"640\" alt=\"\" /></p><p>BOGOTA, Jun 18 (IPS)  - Miguel Morantes was almost murdered. Ever since, three bodyguards are part of his everyday life in one of the most dangerous countries for trade union members.</p><p><a href=\"http://www.globalissues.org/news/2019/06/18/25377\">Read the full story, “Colombia – Trade Unionism Under Threat of Death”, on globalissues.org</a> →</p>', 'summary_detail': {'type': 'text/html', 'language': None, 'base': 'http://www.globalissues.org/news/feed', 'value': '<p><img src=\"http://cdn.ipsnews.net/Library/2019/06/colombia1.jpg\" width=\"640\" alt=\"\" /></p><p>BOGOTA, Jun 18 (IPS)  - Miguel Morantes was almost murdered. Ever since, three bodyguards are part of his everyday life in one of the most dangerous countries for trade union members.</p><p><a href=\"http://www.globalissues.org/news/2019/06/18/25377\">Read the full story, “Colombia – Trade Unionism Under Threat of Death”, on globalissues.org</a> →</p>'}} 'published'\n",
      "failed on  {'id': 'http://www.globalissues.org/news/2019/06/18/25378', 'guidislink': True, 'link': 'http://www.globalissues.org/news/2019/06/18/25378', 'title': 'Financialization Promotes Dangerous Speculation', 'title_detail': {'type': 'text/plain', 'language': None, 'base': 'http://www.globalissues.org/news/feed', 'value': 'Financialization Promotes Dangerous Speculation'}, 'updated': '2019-06-18T13:24:03-07:00', 'updated_parsed': time.struct_time(tm_year=2019, tm_mon=6, tm_mday=18, tm_hour=20, tm_min=24, tm_sec=3, tm_wday=1, tm_yday=169, tm_isdst=0), 'links': [{'href': 'http://www.globalissues.org/news/2019/06/18/25378', 'rel': 'alternate', 'type': 'text/html'}], 'summary': '<p>KUALA LUMPUR and PENANG, Jun 18 (IPS)  - Financialization has involved considerable ‘innovation\\', often of opaque, complex and poorly understood financial instruments. These instruments typically have large debt components involving leveraging, deepening connections across markets and borders.</p><p><a href=\"http://www.globalissues.org/news/2019/06/18/25378\">Read the full story, “Financialization Promotes Dangerous Speculation”, on globalissues.org</a> →</p>', 'summary_detail': {'type': 'text/html', 'language': None, 'base': 'http://www.globalissues.org/news/feed', 'value': '<p>KUALA LUMPUR and PENANG, Jun 18 (IPS)  - Financialization has involved considerable ‘innovation\\', often of opaque, complex and poorly understood financial instruments. These instruments typically have large debt components involving leveraging, deepening connections across markets and borders.</p><p><a href=\"http://www.globalissues.org/news/2019/06/18/25378\">Read the full story, “Financialization Promotes Dangerous Speculation”, on globalissues.org</a> →</p>'}} 'published'\n",
      "failed on  {'id': 'http://www.globalissues.org/news/2019/06/18/25376', 'guidislink': True, 'link': 'http://www.globalissues.org/news/2019/06/18/25376', 'title': 'As Sudan Struggles, AU Should Press for Justice and Accountability', 'title_detail': {'type': 'text/plain', 'language': None, 'base': 'http://www.globalissues.org/news/feed', 'value': 'As Sudan Struggles, AU Should Press for Justice and Accountability'}, 'updated': '2019-06-18T09:49:32-07:00', 'updated_parsed': time.struct_time(tm_year=2019, tm_mon=6, tm_mday=18, tm_hour=16, tm_min=49, tm_sec=32, tm_wday=1, tm_yday=169, tm_isdst=0), 'links': [{'href': 'http://www.globalissues.org/news/2019/06/18/25376', 'rel': 'alternate', 'type': 'text/html'}], 'summary': '<p><img src=\"http://cdn.ipsnews.net/Library/2019/06/africanunion.jpg\" width=\"640\" alt=\"\" /></p><p>WASHINGTON DC, Jun 18 (IPS)  - Carine Kaneza Nantulya is the Africa advocacy director at Human Rights WatchOn June 6, the <a href=\"https://au.int/en\" data-saferedirecturl=\"https://www.google.com/url?q=https://au.int/en&source=gmail&ust=1560934493845000&usg=AFQjCNFGU5TjGuMNMdsU0XHlXsA32hjFZA\">African Union (AU)</a> suspended Sudan from the 55-member group with \"<a href=\"https://www.bbc.com/news/world-africa-48545543\" data-saferedirecturl=\"https://www.google.com/url?q=https://www.bbc.com/news/world-africa-48545543&source=gmail&ust=1560934493845000&usg=AFQjCNE1TWyNcfGN4GL0xfZz44v0Wb_PSQ\">immediate effect</a>.\" The move came in response to a deadly crackdown on peaceful protesters in Khartoum, in which government forces, led by the paramilitary Rapid Support Forces (RSF), tore through a sit-in in the capital killing at least <a href=\"https://www.nytimes.com/2019/06/09/world/africa/sudan-protest-crackdown.html\" data-saferedirecturl=\"https://www.google.com/url?q=https://www.nytimes.com/2019/06/09/world/africa/sudan-protest-crackdown.html&source=gmail&ust=1560934493845000&usg=AFQjCNHaQ6MO7qjP7_vBRRh4OIhudtpvqQ\">108 people, and wounding hundreds</a>. The AU\\'s decisive action has been widely <a href=\"https://www.sudantribune.com/spip.php?article67616\" data-saferedirecturl=\"https://www.google.com/url?q=https://www.sudantribune.com/spip.php?article67616&source=gmail&ust=1560934493845000&usg=AFQjCNGbH6RigLSytLxYzoJFROoo-AKPdw\">applauded</a>, but suspending Sudan is not enough.</p><p><a href=\"http://www.globalissues.org/news/2019/06/18/25376\">Read the full story, “As Sudan Struggles, AU Should Press for Justice and Accountability”, on globalissues.org</a> →</p>', 'summary_detail': {'type': 'text/html', 'language': None, 'base': 'http://www.globalissues.org/news/feed', 'value': '<p><img src=\"http://cdn.ipsnews.net/Library/2019/06/africanunion.jpg\" width=\"640\" alt=\"\" /></p><p>WASHINGTON DC, Jun 18 (IPS)  - Carine Kaneza Nantulya is the Africa advocacy director at Human Rights WatchOn June 6, the <a href=\"https://au.int/en\" data-saferedirecturl=\"https://www.google.com/url?q=https://au.int/en&source=gmail&ust=1560934493845000&usg=AFQjCNFGU5TjGuMNMdsU0XHlXsA32hjFZA\">African Union (AU)</a> suspended Sudan from the 55-member group with \"<a href=\"https://www.bbc.com/news/world-africa-48545543\" data-saferedirecturl=\"https://www.google.com/url?q=https://www.bbc.com/news/world-africa-48545543&source=gmail&ust=1560934493845000&usg=AFQjCNE1TWyNcfGN4GL0xfZz44v0Wb_PSQ\">immediate effect</a>.\" The move came in response to a deadly crackdown on peaceful protesters in Khartoum, in which government forces, led by the paramilitary Rapid Support Forces (RSF), tore through a sit-in in the capital killing at least <a href=\"https://www.nytimes.com/2019/06/09/world/africa/sudan-protest-crackdown.html\" data-saferedirecturl=\"https://www.google.com/url?q=https://www.nytimes.com/2019/06/09/world/africa/sudan-protest-crackdown.html&source=gmail&ust=1560934493845000&usg=AFQjCNHaQ6MO7qjP7_vBRRh4OIhudtpvqQ\">108 people, and wounding hundreds</a>. The AU\\'s decisive action has been widely <a href=\"https://www.sudantribune.com/spip.php?article67616\" data-saferedirecturl=\"https://www.google.com/url?q=https://www.sudantribune.com/spip.php?article67616&source=gmail&ust=1560934493845000&usg=AFQjCNGbH6RigLSytLxYzoJFROoo-AKPdw\">applauded</a>, but suspending Sudan is not enough.</p><p><a href=\"http://www.globalissues.org/news/2019/06/18/25376\">Read the full story, “As Sudan Struggles, AU Should Press for Justice and Accountability”, on globalissues.org</a> →</p>'}} 'published'\n"
     ]
    },
    {
     "name": "stdout",
     "output_type": "stream",
     "text": [
      "failed on  {'id': 'http://www.globalissues.org/news/2019/06/18/25374', 'guidislink': True, 'link': 'http://www.globalissues.org/news/2019/06/18/25374', 'title': 'The Importance of the Upcoming FAO Election', 'title_detail': {'type': 'text/plain', 'language': None, 'base': 'http://www.globalissues.org/news/feed', 'value': 'The Importance of the Upcoming FAO Election'}, 'updated': '2019-06-18T08:06:31-07:00', 'updated_parsed': time.struct_time(tm_year=2019, tm_mon=6, tm_mday=18, tm_hour=15, tm_min=6, tm_sec=31, tm_wday=1, tm_yday=169, tm_isdst=0), 'links': [{'href': 'http://www.globalissues.org/news/2019/06/18/25374', 'rel': 'alternate', 'type': 'text/html'}], 'summary': '<p><img src=\"http://cdn.ipsnews.net/Library/2019/06/Ambassador-Tom-official-photo_.jpg\" width=\"640\" alt=\"\" /></p><p>ROME, Jun 18 (IPS)  - With each passing day, the world gets just a little smaller as the internet and cell phones bring our communities together, reveal our shared challenges, and lay bare our failures.  As global citizens, we are all concerned about the growing number of hungry people around the world and the threats to food security.  The simple fact is that more than 800 million people go hungry every day, and if that number shocks you, know that experts predict the number to grow significantly over the next ten years.</p><p><a href=\"http://www.globalissues.org/news/2019/06/18/25374\">Read the full story, “The Importance of the Upcoming FAO Election”, on globalissues.org</a> →</p>', 'summary_detail': {'type': 'text/html', 'language': None, 'base': 'http://www.globalissues.org/news/feed', 'value': '<p><img src=\"http://cdn.ipsnews.net/Library/2019/06/Ambassador-Tom-official-photo_.jpg\" width=\"640\" alt=\"\" /></p><p>ROME, Jun 18 (IPS)  - With each passing day, the world gets just a little smaller as the internet and cell phones bring our communities together, reveal our shared challenges, and lay bare our failures.  As global citizens, we are all concerned about the growing number of hungry people around the world and the threats to food security.  The simple fact is that more than 800 million people go hungry every day, and if that number shocks you, know that experts predict the number to grow significantly over the next ten years.</p><p><a href=\"http://www.globalissues.org/news/2019/06/18/25374\">Read the full story, “The Importance of the Upcoming FAO Election”, on globalissues.org</a> →</p>'}} 'published'\n",
      "failed on  {'id': 'http://www.globalissues.org/news/2019/06/18/25375', 'guidislink': True, 'link': 'http://www.globalissues.org/news/2019/06/18/25375', 'title': 'UN’s Development Goals Remain Largely Elusive', 'title_detail': {'type': 'text/plain', 'language': None, 'base': 'http://www.globalissues.org/news/feed', 'value': 'UN’s Development Goals Remain Largely Elusive'}, 'updated': '2019-06-18T07:51:09-07:00', 'updated_parsed': time.struct_time(tm_year=2019, tm_mon=6, tm_mday=18, tm_hour=14, tm_min=51, tm_sec=9, tm_wday=1, tm_yday=169, tm_isdst=0), 'links': [{'href': 'http://www.globalissues.org/news/2019/06/18/25375', 'rel': 'alternate', 'type': 'text/html'}], 'summary': '<p><img src=\"http://cdn.ipsnews.net/Library/2019/06/sdgs_22_.jpg\" width=\"640\" alt=\"\" /></p><p>UNITED NATIONS, Jun 18 (IPS)  - The United Nations, in a new report to be released next month, has warned \"there is no escaping the fact that the global landscape for the implementation of the 17 Sustainable Development Goals (SDGs) has generally deteriorated since 2015, hindering the efforts of governments and other partners\"</p><p><a href=\"http://www.globalissues.org/news/2019/06/18/25375\">Read the full story, “UN’s Development Goals Remain Largely Elusive”, on globalissues.org</a> →</p>', 'summary_detail': {'type': 'text/html', 'language': None, 'base': 'http://www.globalissues.org/news/feed', 'value': '<p><img src=\"http://cdn.ipsnews.net/Library/2019/06/sdgs_22_.jpg\" width=\"640\" alt=\"\" /></p><p>UNITED NATIONS, Jun 18 (IPS)  - The United Nations, in a new report to be released next month, has warned \"there is no escaping the fact that the global landscape for the implementation of the 17 Sustainable Development Goals (SDGs) has generally deteriorated since 2015, hindering the efforts of governments and other partners\"</p><p><a href=\"http://www.globalissues.org/news/2019/06/18/25375\">Read the full story, “UN’s Development Goals Remain Largely Elusive”, on globalissues.org</a> →</p>'}} 'published'\n",
      "failed on  {'id': 'http://www.globalissues.org/news/2019/06/17/25373', 'guidislink': True, 'link': 'http://www.globalissues.org/news/2019/06/17/25373', 'title': 'Let’s Train Humans First … Before We Train Machines', 'title_detail': {'type': 'text/plain', 'language': None, 'base': 'http://www.globalissues.org/news/feed', 'value': 'Let’s Train Humans First … Before We Train Machines'}, 'updated': '2019-06-17T13:58:49-07:00', 'updated_parsed': time.struct_time(tm_year=2019, tm_mon=6, tm_mday=17, tm_hour=20, tm_min=58, tm_sec=49, tm_wday=0, tm_yday=168, tm_isdst=0), 'links': [{'href': 'http://www.globalissues.org/news/2019/06/17/25373', 'rel': 'alternate', 'type': 'text/html'}], 'summary': '<p>ST AUGUSTINE, Florida, Jun 17 (IPS)  - We humans are at the absurd stage in our technological evolution when we seem to have abandoned our common sense.  Billions are spent by governments, corporations and investors in training computer-based algorithms (i.e. computer programs) in today\\'s mindless rush to create so-called \"artificial\" intelligence, widely advertised as AI.</p><p><a href=\"http://www.globalissues.org/news/2019/06/17/25373\">Read the full story, “Let’s Train Humans First … Before We Train Machines”, on globalissues.org</a> →</p>', 'summary_detail': {'type': 'text/html', 'language': None, 'base': 'http://www.globalissues.org/news/feed', 'value': '<p>ST AUGUSTINE, Florida, Jun 17 (IPS)  - We humans are at the absurd stage in our technological evolution when we seem to have abandoned our common sense.  Billions are spent by governments, corporations and investors in training computer-based algorithms (i.e. computer programs) in today\\'s mindless rush to create so-called \"artificial\" intelligence, widely advertised as AI.</p><p><a href=\"http://www.globalissues.org/news/2019/06/17/25373\">Read the full story, “Let’s Train Humans First … Before We Train Machines”, on globalissues.org</a> →</p>'}} 'published'\n"
     ]
    },
    {
     "name": "stdout",
     "output_type": "stream",
     "text": [
      "failed on  {'id': 'http://www.globalissues.org/news/2019/06/17/25372', 'guidislink': True, 'link': 'http://www.globalissues.org/news/2019/06/17/25372', 'title': '&lt;em&gt;The Art of the Deal&lt;/em&gt;: What Trump May Teach Us', 'title_detail': {'type': 'text/plain', 'language': None, 'base': 'http://www.globalissues.org/news/feed', 'value': '&lt;em&gt;The Art of the Deal&lt;/em&gt;: What Trump May Teach Us'}, 'updated': '2019-06-17T13:29:13-07:00', 'updated_parsed': time.struct_time(tm_year=2019, tm_mon=6, tm_mday=17, tm_hour=20, tm_min=29, tm_sec=13, tm_wday=0, tm_yday=168, tm_isdst=0), 'links': [{'href': 'http://www.globalissues.org/news/2019/06/17/25372', 'rel': 'alternate', 'type': 'text/html'}], 'summary': '<p>STOCKHOLM / ROME, Jun 17 (IPS)  - Like any dealer he was watching for the card\\nthat is so high and wild\\nhe\\'ll never need to deal another.                                         \\n\\xa0\\xa0\\xa0\\xa0\\xa0\\xa0\\xa0\\xa0\\xa0\\xa0\\xa0\\xa0\\xa0\\xa0\\xa0\\xa0\\xa0\\xa0\\xa0\\xa0\\xa0\\xa0\\xa0\\xa0\\xa0\\xa0\\xa0Leonard Cohen Stranger SongA friend of mine who became wealthy as an art dealer but eventually lost his fortune told me: \"Money isn´t everything, but it helps.\" This made me think of Donald Trump, who likes to describe himself as an entrepreneur, i.e. \"owner of a business enterprise who, by risk and initiative, attempts to make profits.\"<sup><strong>1</strong></sup>  The keyword is <em>profits</em>. According to Trump, success is measured through wealth. Like chess and poker, entrepreneurship is about winning and losing. Trump characterizes people he dislikes as <em>losers</em>, while he considers himself to be a <em>winner</em>.</p><p><a href=\"http://www.globalissues.org/news/2019/06/17/25372\">Read the full story, “&lt;em&gt;The Art of the Deal&lt;/em&gt;: What Trump May Teach Us”, on globalissues.org</a> →</p>', 'summary_detail': {'type': 'text/html', 'language': None, 'base': 'http://www.globalissues.org/news/feed', 'value': '<p>STOCKHOLM / ROME, Jun 17 (IPS)  - Like any dealer he was watching for the card\\nthat is so high and wild\\nhe\\'ll never need to deal another.                                         \\n\\xa0\\xa0\\xa0\\xa0\\xa0\\xa0\\xa0\\xa0\\xa0\\xa0\\xa0\\xa0\\xa0\\xa0\\xa0\\xa0\\xa0\\xa0\\xa0\\xa0\\xa0\\xa0\\xa0\\xa0\\xa0\\xa0\\xa0Leonard Cohen Stranger SongA friend of mine who became wealthy as an art dealer but eventually lost his fortune told me: \"Money isn´t everything, but it helps.\" This made me think of Donald Trump, who likes to describe himself as an entrepreneur, i.e. \"owner of a business enterprise who, by risk and initiative, attempts to make profits.\"<sup><strong>1</strong></sup>  The keyword is <em>profits</em>. According to Trump, success is measured through wealth. Like chess and poker, entrepreneurship is about winning and losing. Trump characterizes people he dislikes as <em>losers</em>, while he considers himself to be a <em>winner</em>.</p><p><a href=\"http://www.globalissues.org/news/2019/06/17/25372\">Read the full story, “&lt;em&gt;The Art of the Deal&lt;/em&gt;: What Trump May Teach Us”, on globalissues.org</a> →</p>'}} 'published'\n",
      "failed on  {'id': 'http://www.globalissues.org/news/2019/06/17/25371', 'guidislink': True, 'link': 'http://www.globalissues.org/news/2019/06/17/25371', 'title': \"'What it Takes to Feed 7.5 Billion People'\", 'title_detail': {'type': 'text/plain', 'language': None, 'base': 'http://www.globalissues.org/news/feed', 'value': \"'What it Takes to Feed 7.5 Billion People'\"}, 'updated': '2019-06-17T13:08:07-07:00', 'updated_parsed': time.struct_time(tm_year=2019, tm_mon=6, tm_mday=17, tm_hour=20, tm_min=8, tm_sec=7, tm_wday=0, tm_yday=168, tm_isdst=0), 'links': [{'href': 'http://www.globalissues.org/news/2019/06/17/25371', 'rel': 'alternate', 'type': 'text/html'}], 'summary': '<p><img src=\"http://cdn.ipsnews.net/Library/2019/06/48079080523_a3f7347db0_z.jpg\" width=\"640\" alt=\"\" /></p><p>ANKARA, Jun 17 (IPS)  - Events marking the <a href=\"https://www.unccd.int/news-events/25-years-protecting-our-land-biodiversity-and-climate\">25th anniversary of the Convention to Combat Desertification (UNCCD) and the World Day to Combat Desertification</a> opened here Monday, Jun. 17 with a call for urgent action to protect and restore degrading land.</p><p><a href=\"http://www.globalissues.org/news/2019/06/17/25371\">Read the full story, “\\'What it Takes to Feed 7.5 Billion People\\'”, on globalissues.org</a> →</p>', 'summary_detail': {'type': 'text/html', 'language': None, 'base': 'http://www.globalissues.org/news/feed', 'value': '<p><img src=\"http://cdn.ipsnews.net/Library/2019/06/48079080523_a3f7347db0_z.jpg\" width=\"640\" alt=\"\" /></p><p>ANKARA, Jun 17 (IPS)  - Events marking the <a href=\"https://www.unccd.int/news-events/25-years-protecting-our-land-biodiversity-and-climate\">25th anniversary of the Convention to Combat Desertification (UNCCD) and the World Day to Combat Desertification</a> opened here Monday, Jun. 17 with a call for urgent action to protect and restore degrading land.</p><p><a href=\"http://www.globalissues.org/news/2019/06/17/25371\">Read the full story, “\\'What it Takes to Feed 7.5 Billion People\\'”, on globalissues.org</a> →</p>'}} 'published'\n",
      "failed on  {'id': 'http://www.globalissues.org/news/2019/06/17/25367', 'guidislink': True, 'link': 'http://www.globalissues.org/news/2019/06/17/25367', 'title': 'There’s No Continent, No Country Not Impacted by Land Degradation', 'title_detail': {'type': 'text/plain', 'language': None, 'base': 'http://www.globalissues.org/news/feed', 'value': 'There’s No Continent, No Country Not Impacted by Land Degradation'}, 'updated': '2019-06-17T12:12:03-07:00', 'updated_parsed': time.struct_time(tm_year=2019, tm_mon=6, tm_mday=17, tm_hour=19, tm_min=12, tm_sec=3, tm_wday=0, tm_yday=168, tm_isdst=0), 'links': [{'href': 'http://www.globalissues.org/news/2019/06/17/25367', 'rel': 'alternate', 'type': 'text/html'}], 'summary': '<p><img src=\"http://cdn.ipsnews.net/Library/2019/06/42345682000_97766d8459_z.jpg\" width=\"640\" alt=\"\" /></p><p>ANKARA, Jun 17 (IPS)  - The coming decades will be crucial in shaping and implementing a transformative land agenda, according to a scientist at the United Nations Convention to Combat Desertification (UNCCD) framework for Land Degradation Neutrality (LDN).</p><p><a href=\"http://www.globalissues.org/news/2019/06/17/25367\">Read the full story, “There’s No Continent, No Country Not Impacted by Land Degradation”, on globalissues.org</a> →</p>', 'summary_detail': {'type': 'text/html', 'language': None, 'base': 'http://www.globalissues.org/news/feed', 'value': '<p><img src=\"http://cdn.ipsnews.net/Library/2019/06/42345682000_97766d8459_z.jpg\" width=\"640\" alt=\"\" /></p><p>ANKARA, Jun 17 (IPS)  - The coming decades will be crucial in shaping and implementing a transformative land agenda, according to a scientist at the United Nations Convention to Combat Desertification (UNCCD) framework for Land Degradation Neutrality (LDN).</p><p><a href=\"http://www.globalissues.org/news/2019/06/17/25367\">Read the full story, “There’s No Continent, No Country Not Impacted by Land Degradation”, on globalissues.org</a> →</p>'}} 'published'\n"
     ]
    },
    {
     "name": "stdout",
     "output_type": "stream",
     "text": [
      "failed on  {'id': 'http://www.globalissues.org/news/2019/06/17/25370', 'guidislink': True, 'link': 'http://www.globalissues.org/news/2019/06/17/25370', 'title': 'Air Pollution Ranked as Biggest Environmental Threat to Human Health', 'title_detail': {'type': 'text/plain', 'language': None, 'base': 'http://www.globalissues.org/news/feed', 'value': 'Air Pollution Ranked as Biggest Environmental Threat to Human Health'}, 'updated': '2019-06-17T11:33:20-07:00', 'updated_parsed': time.struct_time(tm_year=2019, tm_mon=6, tm_mday=17, tm_hour=18, tm_min=33, tm_sec=20, tm_wday=0, tm_yday=168, tm_isdst=0), 'links': [{'href': 'http://www.globalissues.org/news/2019/06/17/25370', 'rel': 'alternate', 'type': 'text/html'}], 'summary': '<p><img src=\"http://cdn.ipsnews.net/Library/2019/06/Air-Pollution_2_.jpg\" width=\"640\" alt=\"\" /></p><p>UNITED NATIONS, Jun 17 (IPS)  - In a world that is becoming more and more industrial by the day, air pollution appears to be on the rise. </p><p>While there have been efforts in major cities to combat the grave effects that pollution can have on the overall health of its citizens, there is still more progress to be made.</p><p><a href=\"http://www.globalissues.org/news/2019/06/17/25370\">Read the full story, “Air Pollution Ranked as Biggest Environmental Threat to Human Health”, on globalissues.org</a> →</p>', 'summary_detail': {'type': 'text/html', 'language': None, 'base': 'http://www.globalissues.org/news/feed', 'value': '<p><img src=\"http://cdn.ipsnews.net/Library/2019/06/Air-Pollution_2_.jpg\" width=\"640\" alt=\"\" /></p><p>UNITED NATIONS, Jun 17 (IPS)  - In a world that is becoming more and more industrial by the day, air pollution appears to be on the rise. </p><p>While there have been efforts in major cities to combat the grave effects that pollution can have on the overall health of its citizens, there is still more progress to be made.</p><p><a href=\"http://www.globalissues.org/news/2019/06/17/25370\">Read the full story, “Air Pollution Ranked as Biggest Environmental Threat to Human Health”, on globalissues.org</a> →</p>'}} 'published'\n",
      "failed on  {'id': 'http://www.globalissues.org/news/2019/06/18/25377', 'guidislink': True, 'link': 'http://www.globalissues.org/news/2019/06/18/25377', 'title': 'Colombia – Trade Unionism Under Threat of Death', 'title_detail': {'type': 'text/plain', 'language': None, 'base': 'http://www.globalissues.org/news/feed', 'value': 'Colombia – Trade Unionism Under Threat of Death'}, 'updated': '2019-06-18T13:40:56-07:00', 'updated_parsed': time.struct_time(tm_year=2019, tm_mon=6, tm_mday=18, tm_hour=20, tm_min=40, tm_sec=56, tm_wday=1, tm_yday=169, tm_isdst=0), 'links': [{'href': 'http://www.globalissues.org/news/2019/06/18/25377', 'rel': 'alternate', 'type': 'text/html'}], 'summary': '<p><img src=\"http://cdn.ipsnews.net/Library/2019/06/colombia1.jpg\" width=\"640\" alt=\"\" /></p><p>BOGOTA, Jun 18 (IPS)  - Miguel Morantes was almost murdered. Ever since, three bodyguards are part of his everyday life in one of the most dangerous countries for trade union members.</p><p><a href=\"http://www.globalissues.org/news/2019/06/18/25377\">Read the full story, “Colombia – Trade Unionism Under Threat of Death”, on globalissues.org</a> →</p>', 'summary_detail': {'type': 'text/html', 'language': None, 'base': 'http://www.globalissues.org/news/feed', 'value': '<p><img src=\"http://cdn.ipsnews.net/Library/2019/06/colombia1.jpg\" width=\"640\" alt=\"\" /></p><p>BOGOTA, Jun 18 (IPS)  - Miguel Morantes was almost murdered. Ever since, three bodyguards are part of his everyday life in one of the most dangerous countries for trade union members.</p><p><a href=\"http://www.globalissues.org/news/2019/06/18/25377\">Read the full story, “Colombia – Trade Unionism Under Threat of Death”, on globalissues.org</a> →</p>'}} 'published'\n",
      "failed on  {'id': 'http://www.globalissues.org/news/2019/06/18/25378', 'guidislink': True, 'link': 'http://www.globalissues.org/news/2019/06/18/25378', 'title': 'Financialization Promotes Dangerous Speculation', 'title_detail': {'type': 'text/plain', 'language': None, 'base': 'http://www.globalissues.org/news/feed', 'value': 'Financialization Promotes Dangerous Speculation'}, 'updated': '2019-06-18T13:24:03-07:00', 'updated_parsed': time.struct_time(tm_year=2019, tm_mon=6, tm_mday=18, tm_hour=20, tm_min=24, tm_sec=3, tm_wday=1, tm_yday=169, tm_isdst=0), 'links': [{'href': 'http://www.globalissues.org/news/2019/06/18/25378', 'rel': 'alternate', 'type': 'text/html'}], 'summary': '<p>KUALA LUMPUR and PENANG, Jun 18 (IPS)  - Financialization has involved considerable ‘innovation\\', often of opaque, complex and poorly understood financial instruments. These instruments typically have large debt components involving leveraging, deepening connections across markets and borders.</p><p><a href=\"http://www.globalissues.org/news/2019/06/18/25378\">Read the full story, “Financialization Promotes Dangerous Speculation”, on globalissues.org</a> →</p>', 'summary_detail': {'type': 'text/html', 'language': None, 'base': 'http://www.globalissues.org/news/feed', 'value': '<p>KUALA LUMPUR and PENANG, Jun 18 (IPS)  - Financialization has involved considerable ‘innovation\\', often of opaque, complex and poorly understood financial instruments. These instruments typically have large debt components involving leveraging, deepening connections across markets and borders.</p><p><a href=\"http://www.globalissues.org/news/2019/06/18/25378\">Read the full story, “Financialization Promotes Dangerous Speculation”, on globalissues.org</a> →</p>'}} 'published'\n"
     ]
    },
    {
     "name": "stdout",
     "output_type": "stream",
     "text": [
      "failed on  {'id': 'http://www.globalissues.org/news/2019/06/18/25376', 'guidislink': True, 'link': 'http://www.globalissues.org/news/2019/06/18/25376', 'title': 'As Sudan Struggles, AU Should Press for Justice and Accountability', 'title_detail': {'type': 'text/plain', 'language': None, 'base': 'http://www.globalissues.org/news/feed', 'value': 'As Sudan Struggles, AU Should Press for Justice and Accountability'}, 'updated': '2019-06-18T09:49:32-07:00', 'updated_parsed': time.struct_time(tm_year=2019, tm_mon=6, tm_mday=18, tm_hour=16, tm_min=49, tm_sec=32, tm_wday=1, tm_yday=169, tm_isdst=0), 'links': [{'href': 'http://www.globalissues.org/news/2019/06/18/25376', 'rel': 'alternate', 'type': 'text/html'}], 'summary': '<p><img src=\"http://cdn.ipsnews.net/Library/2019/06/africanunion.jpg\" width=\"640\" alt=\"\" /></p><p>WASHINGTON DC, Jun 18 (IPS)  - Carine Kaneza Nantulya is the Africa advocacy director at Human Rights WatchOn June 6, the <a href=\"https://au.int/en\" data-saferedirecturl=\"https://www.google.com/url?q=https://au.int/en&source=gmail&ust=1560934493845000&usg=AFQjCNFGU5TjGuMNMdsU0XHlXsA32hjFZA\">African Union (AU)</a> suspended Sudan from the 55-member group with \"<a href=\"https://www.bbc.com/news/world-africa-48545543\" data-saferedirecturl=\"https://www.google.com/url?q=https://www.bbc.com/news/world-africa-48545543&source=gmail&ust=1560934493845000&usg=AFQjCNE1TWyNcfGN4GL0xfZz44v0Wb_PSQ\">immediate effect</a>.\" The move came in response to a deadly crackdown on peaceful protesters in Khartoum, in which government forces, led by the paramilitary Rapid Support Forces (RSF), tore through a sit-in in the capital killing at least <a href=\"https://www.nytimes.com/2019/06/09/world/africa/sudan-protest-crackdown.html\" data-saferedirecturl=\"https://www.google.com/url?q=https://www.nytimes.com/2019/06/09/world/africa/sudan-protest-crackdown.html&source=gmail&ust=1560934493845000&usg=AFQjCNHaQ6MO7qjP7_vBRRh4OIhudtpvqQ\">108 people, and wounding hundreds</a>. The AU\\'s decisive action has been widely <a href=\"https://www.sudantribune.com/spip.php?article67616\" data-saferedirecturl=\"https://www.google.com/url?q=https://www.sudantribune.com/spip.php?article67616&source=gmail&ust=1560934493845000&usg=AFQjCNGbH6RigLSytLxYzoJFROoo-AKPdw\">applauded</a>, but suspending Sudan is not enough.</p><p><a href=\"http://www.globalissues.org/news/2019/06/18/25376\">Read the full story, “As Sudan Struggles, AU Should Press for Justice and Accountability”, on globalissues.org</a> →</p>', 'summary_detail': {'type': 'text/html', 'language': None, 'base': 'http://www.globalissues.org/news/feed', 'value': '<p><img src=\"http://cdn.ipsnews.net/Library/2019/06/africanunion.jpg\" width=\"640\" alt=\"\" /></p><p>WASHINGTON DC, Jun 18 (IPS)  - Carine Kaneza Nantulya is the Africa advocacy director at Human Rights WatchOn June 6, the <a href=\"https://au.int/en\" data-saferedirecturl=\"https://www.google.com/url?q=https://au.int/en&source=gmail&ust=1560934493845000&usg=AFQjCNFGU5TjGuMNMdsU0XHlXsA32hjFZA\">African Union (AU)</a> suspended Sudan from the 55-member group with \"<a href=\"https://www.bbc.com/news/world-africa-48545543\" data-saferedirecturl=\"https://www.google.com/url?q=https://www.bbc.com/news/world-africa-48545543&source=gmail&ust=1560934493845000&usg=AFQjCNE1TWyNcfGN4GL0xfZz44v0Wb_PSQ\">immediate effect</a>.\" The move came in response to a deadly crackdown on peaceful protesters in Khartoum, in which government forces, led by the paramilitary Rapid Support Forces (RSF), tore through a sit-in in the capital killing at least <a href=\"https://www.nytimes.com/2019/06/09/world/africa/sudan-protest-crackdown.html\" data-saferedirecturl=\"https://www.google.com/url?q=https://www.nytimes.com/2019/06/09/world/africa/sudan-protest-crackdown.html&source=gmail&ust=1560934493845000&usg=AFQjCNHaQ6MO7qjP7_vBRRh4OIhudtpvqQ\">108 people, and wounding hundreds</a>. The AU\\'s decisive action has been widely <a href=\"https://www.sudantribune.com/spip.php?article67616\" data-saferedirecturl=\"https://www.google.com/url?q=https://www.sudantribune.com/spip.php?article67616&source=gmail&ust=1560934493845000&usg=AFQjCNGbH6RigLSytLxYzoJFROoo-AKPdw\">applauded</a>, but suspending Sudan is not enough.</p><p><a href=\"http://www.globalissues.org/news/2019/06/18/25376\">Read the full story, “As Sudan Struggles, AU Should Press for Justice and Accountability”, on globalissues.org</a> →</p>'}} 'published'\n",
      "failed on  {'id': 'http://www.globalissues.org/news/2019/06/18/25374', 'guidislink': True, 'link': 'http://www.globalissues.org/news/2019/06/18/25374', 'title': 'The Importance of the Upcoming FAO Election', 'title_detail': {'type': 'text/plain', 'language': None, 'base': 'http://www.globalissues.org/news/feed', 'value': 'The Importance of the Upcoming FAO Election'}, 'updated': '2019-06-18T08:06:31-07:00', 'updated_parsed': time.struct_time(tm_year=2019, tm_mon=6, tm_mday=18, tm_hour=15, tm_min=6, tm_sec=31, tm_wday=1, tm_yday=169, tm_isdst=0), 'links': [{'href': 'http://www.globalissues.org/news/2019/06/18/25374', 'rel': 'alternate', 'type': 'text/html'}], 'summary': '<p><img src=\"http://cdn.ipsnews.net/Library/2019/06/Ambassador-Tom-official-photo_.jpg\" width=\"640\" alt=\"\" /></p><p>ROME, Jun 18 (IPS)  - With each passing day, the world gets just a little smaller as the internet and cell phones bring our communities together, reveal our shared challenges, and lay bare our failures.  As global citizens, we are all concerned about the growing number of hungry people around the world and the threats to food security.  The simple fact is that more than 800 million people go hungry every day, and if that number shocks you, know that experts predict the number to grow significantly over the next ten years.</p><p><a href=\"http://www.globalissues.org/news/2019/06/18/25374\">Read the full story, “The Importance of the Upcoming FAO Election”, on globalissues.org</a> →</p>', 'summary_detail': {'type': 'text/html', 'language': None, 'base': 'http://www.globalissues.org/news/feed', 'value': '<p><img src=\"http://cdn.ipsnews.net/Library/2019/06/Ambassador-Tom-official-photo_.jpg\" width=\"640\" alt=\"\" /></p><p>ROME, Jun 18 (IPS)  - With each passing day, the world gets just a little smaller as the internet and cell phones bring our communities together, reveal our shared challenges, and lay bare our failures.  As global citizens, we are all concerned about the growing number of hungry people around the world and the threats to food security.  The simple fact is that more than 800 million people go hungry every day, and if that number shocks you, know that experts predict the number to grow significantly over the next ten years.</p><p><a href=\"http://www.globalissues.org/news/2019/06/18/25374\">Read the full story, “The Importance of the Upcoming FAO Election”, on globalissues.org</a> →</p>'}} 'published'\n"
     ]
    },
    {
     "name": "stdout",
     "output_type": "stream",
     "text": [
      "failed on  {'id': 'http://www.globalissues.org/news/2019/06/18/25375', 'guidislink': True, 'link': 'http://www.globalissues.org/news/2019/06/18/25375', 'title': 'UN’s Development Goals Remain Largely Elusive', 'title_detail': {'type': 'text/plain', 'language': None, 'base': 'http://www.globalissues.org/news/feed', 'value': 'UN’s Development Goals Remain Largely Elusive'}, 'updated': '2019-06-18T07:51:09-07:00', 'updated_parsed': time.struct_time(tm_year=2019, tm_mon=6, tm_mday=18, tm_hour=14, tm_min=51, tm_sec=9, tm_wday=1, tm_yday=169, tm_isdst=0), 'links': [{'href': 'http://www.globalissues.org/news/2019/06/18/25375', 'rel': 'alternate', 'type': 'text/html'}], 'summary': '<p><img src=\"http://cdn.ipsnews.net/Library/2019/06/sdgs_22_.jpg\" width=\"640\" alt=\"\" /></p><p>UNITED NATIONS, Jun 18 (IPS)  - The United Nations, in a new report to be released next month, has warned \"there is no escaping the fact that the global landscape for the implementation of the 17 Sustainable Development Goals (SDGs) has generally deteriorated since 2015, hindering the efforts of governments and other partners\"</p><p><a href=\"http://www.globalissues.org/news/2019/06/18/25375\">Read the full story, “UN’s Development Goals Remain Largely Elusive”, on globalissues.org</a> →</p>', 'summary_detail': {'type': 'text/html', 'language': None, 'base': 'http://www.globalissues.org/news/feed', 'value': '<p><img src=\"http://cdn.ipsnews.net/Library/2019/06/sdgs_22_.jpg\" width=\"640\" alt=\"\" /></p><p>UNITED NATIONS, Jun 18 (IPS)  - The United Nations, in a new report to be released next month, has warned \"there is no escaping the fact that the global landscape for the implementation of the 17 Sustainable Development Goals (SDGs) has generally deteriorated since 2015, hindering the efforts of governments and other partners\"</p><p><a href=\"http://www.globalissues.org/news/2019/06/18/25375\">Read the full story, “UN’s Development Goals Remain Largely Elusive”, on globalissues.org</a> →</p>'}} 'published'\n",
      "failed on  {'id': 'http://www.globalissues.org/news/2019/06/17/25373', 'guidislink': True, 'link': 'http://www.globalissues.org/news/2019/06/17/25373', 'title': 'Let’s Train Humans First … Before We Train Machines', 'title_detail': {'type': 'text/plain', 'language': None, 'base': 'http://www.globalissues.org/news/feed', 'value': 'Let’s Train Humans First … Before We Train Machines'}, 'updated': '2019-06-17T13:58:49-07:00', 'updated_parsed': time.struct_time(tm_year=2019, tm_mon=6, tm_mday=17, tm_hour=20, tm_min=58, tm_sec=49, tm_wday=0, tm_yday=168, tm_isdst=0), 'links': [{'href': 'http://www.globalissues.org/news/2019/06/17/25373', 'rel': 'alternate', 'type': 'text/html'}], 'summary': '<p>ST AUGUSTINE, Florida, Jun 17 (IPS)  - We humans are at the absurd stage in our technological evolution when we seem to have abandoned our common sense.  Billions are spent by governments, corporations and investors in training computer-based algorithms (i.e. computer programs) in today\\'s mindless rush to create so-called \"artificial\" intelligence, widely advertised as AI.</p><p><a href=\"http://www.globalissues.org/news/2019/06/17/25373\">Read the full story, “Let’s Train Humans First … Before We Train Machines”, on globalissues.org</a> →</p>', 'summary_detail': {'type': 'text/html', 'language': None, 'base': 'http://www.globalissues.org/news/feed', 'value': '<p>ST AUGUSTINE, Florida, Jun 17 (IPS)  - We humans are at the absurd stage in our technological evolution when we seem to have abandoned our common sense.  Billions are spent by governments, corporations and investors in training computer-based algorithms (i.e. computer programs) in today\\'s mindless rush to create so-called \"artificial\" intelligence, widely advertised as AI.</p><p><a href=\"http://www.globalissues.org/news/2019/06/17/25373\">Read the full story, “Let’s Train Humans First … Before We Train Machines”, on globalissues.org</a> →</p>'}} 'published'\n",
      "failed on  {'id': 'http://www.globalissues.org/news/2019/06/17/25372', 'guidislink': True, 'link': 'http://www.globalissues.org/news/2019/06/17/25372', 'title': '&lt;em&gt;The Art of the Deal&lt;/em&gt;: What Trump May Teach Us', 'title_detail': {'type': 'text/plain', 'language': None, 'base': 'http://www.globalissues.org/news/feed', 'value': '&lt;em&gt;The Art of the Deal&lt;/em&gt;: What Trump May Teach Us'}, 'updated': '2019-06-17T13:29:13-07:00', 'updated_parsed': time.struct_time(tm_year=2019, tm_mon=6, tm_mday=17, tm_hour=20, tm_min=29, tm_sec=13, tm_wday=0, tm_yday=168, tm_isdst=0), 'links': [{'href': 'http://www.globalissues.org/news/2019/06/17/25372', 'rel': 'alternate', 'type': 'text/html'}], 'summary': '<p>STOCKHOLM / ROME, Jun 17 (IPS)  - Like any dealer he was watching for the card\\nthat is so high and wild\\nhe\\'ll never need to deal another.                                         \\n\\xa0\\xa0\\xa0\\xa0\\xa0\\xa0\\xa0\\xa0\\xa0\\xa0\\xa0\\xa0\\xa0\\xa0\\xa0\\xa0\\xa0\\xa0\\xa0\\xa0\\xa0\\xa0\\xa0\\xa0\\xa0\\xa0\\xa0Leonard Cohen Stranger SongA friend of mine who became wealthy as an art dealer but eventually lost his fortune told me: \"Money isn´t everything, but it helps.\" This made me think of Donald Trump, who likes to describe himself as an entrepreneur, i.e. \"owner of a business enterprise who, by risk and initiative, attempts to make profits.\"<sup><strong>1</strong></sup>  The keyword is <em>profits</em>. According to Trump, success is measured through wealth. Like chess and poker, entrepreneurship is about winning and losing. Trump characterizes people he dislikes as <em>losers</em>, while he considers himself to be a <em>winner</em>.</p><p><a href=\"http://www.globalissues.org/news/2019/06/17/25372\">Read the full story, “&lt;em&gt;The Art of the Deal&lt;/em&gt;: What Trump May Teach Us”, on globalissues.org</a> →</p>', 'summary_detail': {'type': 'text/html', 'language': None, 'base': 'http://www.globalissues.org/news/feed', 'value': '<p>STOCKHOLM / ROME, Jun 17 (IPS)  - Like any dealer he was watching for the card\\nthat is so high and wild\\nhe\\'ll never need to deal another.                                         \\n\\xa0\\xa0\\xa0\\xa0\\xa0\\xa0\\xa0\\xa0\\xa0\\xa0\\xa0\\xa0\\xa0\\xa0\\xa0\\xa0\\xa0\\xa0\\xa0\\xa0\\xa0\\xa0\\xa0\\xa0\\xa0\\xa0\\xa0Leonard Cohen Stranger SongA friend of mine who became wealthy as an art dealer but eventually lost his fortune told me: \"Money isn´t everything, but it helps.\" This made me think of Donald Trump, who likes to describe himself as an entrepreneur, i.e. \"owner of a business enterprise who, by risk and initiative, attempts to make profits.\"<sup><strong>1</strong></sup>  The keyword is <em>profits</em>. According to Trump, success is measured through wealth. Like chess and poker, entrepreneurship is about winning and losing. Trump characterizes people he dislikes as <em>losers</em>, while he considers himself to be a <em>winner</em>.</p><p><a href=\"http://www.globalissues.org/news/2019/06/17/25372\">Read the full story, “&lt;em&gt;The Art of the Deal&lt;/em&gt;: What Trump May Teach Us”, on globalissues.org</a> →</p>'}} 'published'\n"
     ]
    },
    {
     "name": "stdout",
     "output_type": "stream",
     "text": [
      "failed on  {'id': 'http://www.globalissues.org/news/2019/06/17/25371', 'guidislink': True, 'link': 'http://www.globalissues.org/news/2019/06/17/25371', 'title': \"'What it Takes to Feed 7.5 Billion People'\", 'title_detail': {'type': 'text/plain', 'language': None, 'base': 'http://www.globalissues.org/news/feed', 'value': \"'What it Takes to Feed 7.5 Billion People'\"}, 'updated': '2019-06-17T13:08:07-07:00', 'updated_parsed': time.struct_time(tm_year=2019, tm_mon=6, tm_mday=17, tm_hour=20, tm_min=8, tm_sec=7, tm_wday=0, tm_yday=168, tm_isdst=0), 'links': [{'href': 'http://www.globalissues.org/news/2019/06/17/25371', 'rel': 'alternate', 'type': 'text/html'}], 'summary': '<p><img src=\"http://cdn.ipsnews.net/Library/2019/06/48079080523_a3f7347db0_z.jpg\" width=\"640\" alt=\"\" /></p><p>ANKARA, Jun 17 (IPS)  - Events marking the <a href=\"https://www.unccd.int/news-events/25-years-protecting-our-land-biodiversity-and-climate\">25th anniversary of the Convention to Combat Desertification (UNCCD) and the World Day to Combat Desertification</a> opened here Monday, Jun. 17 with a call for urgent action to protect and restore degrading land.</p><p><a href=\"http://www.globalissues.org/news/2019/06/17/25371\">Read the full story, “\\'What it Takes to Feed 7.5 Billion People\\'”, on globalissues.org</a> →</p>', 'summary_detail': {'type': 'text/html', 'language': None, 'base': 'http://www.globalissues.org/news/feed', 'value': '<p><img src=\"http://cdn.ipsnews.net/Library/2019/06/48079080523_a3f7347db0_z.jpg\" width=\"640\" alt=\"\" /></p><p>ANKARA, Jun 17 (IPS)  - Events marking the <a href=\"https://www.unccd.int/news-events/25-years-protecting-our-land-biodiversity-and-climate\">25th anniversary of the Convention to Combat Desertification (UNCCD) and the World Day to Combat Desertification</a> opened here Monday, Jun. 17 with a call for urgent action to protect and restore degrading land.</p><p><a href=\"http://www.globalissues.org/news/2019/06/17/25371\">Read the full story, “\\'What it Takes to Feed 7.5 Billion People\\'”, on globalissues.org</a> →</p>'}} 'published'\n",
      "failed on  {'id': 'http://www.globalissues.org/news/2019/06/17/25367', 'guidislink': True, 'link': 'http://www.globalissues.org/news/2019/06/17/25367', 'title': 'There’s No Continent, No Country Not Impacted by Land Degradation', 'title_detail': {'type': 'text/plain', 'language': None, 'base': 'http://www.globalissues.org/news/feed', 'value': 'There’s No Continent, No Country Not Impacted by Land Degradation'}, 'updated': '2019-06-17T12:12:03-07:00', 'updated_parsed': time.struct_time(tm_year=2019, tm_mon=6, tm_mday=17, tm_hour=19, tm_min=12, tm_sec=3, tm_wday=0, tm_yday=168, tm_isdst=0), 'links': [{'href': 'http://www.globalissues.org/news/2019/06/17/25367', 'rel': 'alternate', 'type': 'text/html'}], 'summary': '<p><img src=\"http://cdn.ipsnews.net/Library/2019/06/42345682000_97766d8459_z.jpg\" width=\"640\" alt=\"\" /></p><p>ANKARA, Jun 17 (IPS)  - The coming decades will be crucial in shaping and implementing a transformative land agenda, according to a scientist at the United Nations Convention to Combat Desertification (UNCCD) framework for Land Degradation Neutrality (LDN).</p><p><a href=\"http://www.globalissues.org/news/2019/06/17/25367\">Read the full story, “There’s No Continent, No Country Not Impacted by Land Degradation”, on globalissues.org</a> →</p>', 'summary_detail': {'type': 'text/html', 'language': None, 'base': 'http://www.globalissues.org/news/feed', 'value': '<p><img src=\"http://cdn.ipsnews.net/Library/2019/06/42345682000_97766d8459_z.jpg\" width=\"640\" alt=\"\" /></p><p>ANKARA, Jun 17 (IPS)  - The coming decades will be crucial in shaping and implementing a transformative land agenda, according to a scientist at the United Nations Convention to Combat Desertification (UNCCD) framework for Land Degradation Neutrality (LDN).</p><p><a href=\"http://www.globalissues.org/news/2019/06/17/25367\">Read the full story, “There’s No Continent, No Country Not Impacted by Land Degradation”, on globalissues.org</a> →</p>'}} 'published'\n",
      "failed on  {'id': 'http://www.globalissues.org/news/2019/06/17/25370', 'guidislink': True, 'link': 'http://www.globalissues.org/news/2019/06/17/25370', 'title': 'Air Pollution Ranked as Biggest Environmental Threat to Human Health', 'title_detail': {'type': 'text/plain', 'language': None, 'base': 'http://www.globalissues.org/news/feed', 'value': 'Air Pollution Ranked as Biggest Environmental Threat to Human Health'}, 'updated': '2019-06-17T11:33:20-07:00', 'updated_parsed': time.struct_time(tm_year=2019, tm_mon=6, tm_mday=17, tm_hour=18, tm_min=33, tm_sec=20, tm_wday=0, tm_yday=168, tm_isdst=0), 'links': [{'href': 'http://www.globalissues.org/news/2019/06/17/25370', 'rel': 'alternate', 'type': 'text/html'}], 'summary': '<p><img src=\"http://cdn.ipsnews.net/Library/2019/06/Air-Pollution_2_.jpg\" width=\"640\" alt=\"\" /></p><p>UNITED NATIONS, Jun 17 (IPS)  - In a world that is becoming more and more industrial by the day, air pollution appears to be on the rise. </p><p>While there have been efforts in major cities to combat the grave effects that pollution can have on the overall health of its citizens, there is still more progress to be made.</p><p><a href=\"http://www.globalissues.org/news/2019/06/17/25370\">Read the full story, “Air Pollution Ranked as Biggest Environmental Threat to Human Health”, on globalissues.org</a> →</p>', 'summary_detail': {'type': 'text/html', 'language': None, 'base': 'http://www.globalissues.org/news/feed', 'value': '<p><img src=\"http://cdn.ipsnews.net/Library/2019/06/Air-Pollution_2_.jpg\" width=\"640\" alt=\"\" /></p><p>UNITED NATIONS, Jun 17 (IPS)  - In a world that is becoming more and more industrial by the day, air pollution appears to be on the rise. </p><p>While there have been efforts in major cities to combat the grave effects that pollution can have on the overall health of its citizens, there is still more progress to be made.</p><p><a href=\"http://www.globalissues.org/news/2019/06/17/25370\">Read the full story, “Air Pollution Ranked as Biggest Environmental Threat to Human Health”, on globalissues.org</a> →</p>'}} 'published'\n",
      "Finished!  With 1561 articles\n"
     ]
    }
   ],
   "source": [
    "# Parse all, drop info you don't want\n",
    "corpus = []\n",
    "entities = []\n",
    "\n",
    "for index, row in feeds_df.iterrows():\n",
    "    pump = RSSPump(row['url'])\n",
    "    corpus = corpus + pump.get_stories()\n",
    "    entities = entities + pump.get_entities()\n",
    "print(\"Finished!  With {} articles\".format(len(corpus)))"
   ]
  },
  {
   "cell_type": "markdown",
   "metadata": {},
   "source": [
    "## 2.  Quick check that the data's what we expect"
   ]
  },
  {
   "cell_type": "code",
   "execution_count": 4,
   "metadata": {},
   "outputs": [
    {
     "data": {
      "text/plain": [
       "1561"
      ]
     },
     "execution_count": 4,
     "metadata": {},
     "output_type": "execute_result"
    }
   ],
   "source": [
    "len(corpus)"
   ]
  },
  {
   "cell_type": "code",
   "execution_count": 5,
   "metadata": {
    "scrolled": true
   },
   "outputs": [
    {
     "data": {
      "text/plain": [
       "{'title': 'Patrick Shanahan: Trump says his choice for Pentagon chief is out',\n",
       " 'summary': 'The president tweeted that Patrick Shanahan will \"devote more time to his family\".',\n",
       " 'date': 'Tue, 18 Jun 2019 18:26:23 GMT',\n",
       " 'link': 'https://www.bbc.co.uk/news/world-us-canada-48665798',\n",
       " 'source_url': 'http://feeds.bbci.co.uk/news/world/rss.xml',\n",
       " 'retrieval_timestamp': '2019-06-18 19:45:18.293350'}"
      ]
     },
     "execution_count": 5,
     "metadata": {},
     "output_type": "execute_result"
    }
   ],
   "source": [
    "corpus[0]"
   ]
  },
  {
   "cell_type": "code",
   "execution_count": 6,
   "metadata": {
    "scrolled": true
   },
   "outputs": [
    {
     "data": {
      "text/plain": [
       "{'source_url': 'http://feeds.bbci.co.uk/news/world/rss.xml',\n",
       " 'retrieval_timestamp': '2019-06-18 19:45:18.293350',\n",
       " 'title': 'Patrick Shanahan: Trump says his choice for Pentagon chief is out',\n",
       " 'entities': 'PERSON:Patrick Shanahan,ORG:Trump,ORG:Pentagon,PERSON:Patrick Shanahan'}"
      ]
     },
     "execution_count": 6,
     "metadata": {},
     "output_type": "execute_result"
    }
   ],
   "source": [
    "entities[0]"
   ]
  },
  {
   "cell_type": "markdown",
   "metadata": {},
   "source": [
    "## 3.  Dump to file"
   ]
  },
  {
   "cell_type": "code",
   "execution_count": 7,
   "metadata": {},
   "outputs": [],
   "source": [
    "# Dump the corpus to file, record the date and time in the filename\n",
    "filename = \"./working/RSS_corpus_{}.json\".format(datetime.now().strftime(\"%Y-%m-%d %H%M\").replace(\" \", \"_\") )\n",
    "\n",
    "with open(filename, \"w\") as f:\n",
    "    json.dump(corpus, f)"
   ]
  },
  {
   "cell_type": "code",
   "execution_count": 8,
   "metadata": {},
   "outputs": [],
   "source": [
    "# Dump the entities to file, record the date and time in the filename\n",
    "filename = \"./working/RSS_entities_{}.json\".format(datetime.now().strftime(\"%Y-%m-%d %H%M\").replace(\" \", \"_\") )\n",
    "\n",
    "with open(filename, \"w\") as f:\n",
    "    json.dump(entities, f)"
   ]
  }
 ],
 "metadata": {
  "kernelspec": {
   "display_name": "Python 3",
   "language": "python",
   "name": "python3"
  },
  "language_info": {
   "codemirror_mode": {
    "name": "ipython",
    "version": 3
   },
   "file_extension": ".py",
   "mimetype": "text/x-python",
   "name": "python",
   "nbconvert_exporter": "python",
   "pygments_lexer": "ipython3",
   "version": "3.6.8"
  }
 },
 "nbformat": 4,
 "nbformat_minor": 2
}
