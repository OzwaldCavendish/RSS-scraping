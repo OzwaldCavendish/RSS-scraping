{
 "cells": [
  {
   "cell_type": "markdown",
   "metadata": {},
   "source": [
    "# Sourcing and grouping RSS feeds\n",
    "\n",
    "There's a lot of focus nowadays on webscraping for information retrieval, but before web-scraping and its questionable ethics there already existed a solution for computer-readable news data.\n",
    "\n",
    "RSS (Rich Site Summary) feeds publish frequently updated information on the news/pages/documents available from a site.  The RSS document (an xml kind of thing) contains a headline, summary description (usually just one sentence), a picture and a link to the full article or document.  RSS systems are used in RSS reader software and other news aggregation apps to provide information on available stories while minimising overhead (eg; an app for browsing news articles doesn't have to retrieve and load every article/web page in full, just the much smaller amount of information in the RSS document).\n",
    "\n",
    "So I can use them to create a corpus of summarized news items right?\n",
    "\n",
    "Info on how to get the RSS docs from https://www.pythonforbeginners.com/feedparser/using-feedparser-in-python"
   ]
  },
  {
   "cell_type": "code",
   "execution_count": 1,
   "metadata": {
    "scrolled": true
   },
   "outputs": [],
   "source": [
    "import json\n",
    "\n",
    "import numpy as np\n",
    "import pandas as pd\n",
    "\n",
    "from datetime import datetime\n",
    "\n",
    "# Own convenience module\n",
    "from rsspump import RSSPump"
   ]
  },
  {
   "cell_type": "markdown",
   "metadata": {},
   "source": [
    "## 1. Parsing lots of feeds!\n",
    "\n",
    "Each of these feeds only gives a set number of news stories (to limit overhead/abuse I guess) so lets parse lots of different feeds and build a news corpus.\n",
    "\n",
    "Lots of different country's world news sites - I sourced all the links from this blog;\n",
    "https://blog.feedspot.com/world_news_rss_feeds/"
   ]
  },
  {
   "cell_type": "code",
   "execution_count": 2,
   "metadata": {},
   "outputs": [
    {
     "data": {
      "text/html": [
       "<div>\n",
       "<style scoped>\n",
       "    .dataframe tbody tr th:only-of-type {\n",
       "        vertical-align: middle;\n",
       "    }\n",
       "\n",
       "    .dataframe tbody tr th {\n",
       "        vertical-align: top;\n",
       "    }\n",
       "\n",
       "    .dataframe thead th {\n",
       "        text-align: right;\n",
       "    }\n",
       "</style>\n",
       "<table border=\"1\" class=\"dataframe\">\n",
       "  <thead>\n",
       "    <tr style=\"text-align: right;\">\n",
       "      <th></th>\n",
       "      <th>url</th>\n",
       "      <th>type</th>\n",
       "    </tr>\n",
       "  </thead>\n",
       "  <tbody>\n",
       "    <tr>\n",
       "      <th>0</th>\n",
       "      <td>http://feeds.bbci.co.uk/news/world/rss.xml</td>\n",
       "      <td>world</td>\n",
       "    </tr>\n",
       "    <tr>\n",
       "      <th>1</th>\n",
       "      <td>http://feeds.reuters.com/Reuters/worldNews</td>\n",
       "      <td>world</td>\n",
       "    </tr>\n",
       "    <tr>\n",
       "      <th>2</th>\n",
       "      <td>http://www.cbn.com/cbnnews/world/feed/</td>\n",
       "      <td>world</td>\n",
       "    </tr>\n",
       "    <tr>\n",
       "      <th>3</th>\n",
       "      <td>https://news.google.com/news/rss/headlines/sec...</td>\n",
       "      <td>world</td>\n",
       "    </tr>\n",
       "    <tr>\n",
       "      <th>4</th>\n",
       "      <td>https://www.reddit.com/r/worldnews/.rsshttps:/...</td>\n",
       "      <td>world</td>\n",
       "    </tr>\n",
       "  </tbody>\n",
       "</table>\n",
       "</div>"
      ],
      "text/plain": [
       "                                                 url   type\n",
       "0         http://feeds.bbci.co.uk/news/world/rss.xml  world\n",
       "1         http://feeds.reuters.com/Reuters/worldNews  world\n",
       "2             http://www.cbn.com/cbnnews/world/feed/  world\n",
       "3  https://news.google.com/news/rss/headlines/sec...  world\n",
       "4  https://www.reddit.com/r/worldnews/.rsshttps:/...  world"
      ]
     },
     "execution_count": 2,
     "metadata": {},
     "output_type": "execute_result"
    }
   ],
   "source": [
    "feeds_df = pd.read_csv(\"rss_urls.csv\")\n",
    "feeds_df.head()"
   ]
  },
  {
   "cell_type": "code",
   "execution_count": 3,
   "metadata": {},
   "outputs": [
    {
     "name": "stdout",
     "output_type": "stream",
     "text": [
      "failed on  {'id': 'http://www.globalissues.org/news/2019/05/31/25329', 'guidislink': True, 'link': 'http://www.globalissues.org/news/2019/05/31/25329', 'title': 'We Can’t Halt Extinctions Unless We Protect Water', 'title_detail': {'type': 'text/plain', 'language': None, 'base': 'http://www.globalissues.org/news/feed', 'value': 'We Can’t Halt Extinctions Unless We Protect Water'}, 'updated': '2019-05-31T10:22:11-07:00', 'updated_parsed': time.struct_time(tm_year=2019, tm_mon=5, tm_mday=31, tm_hour=17, tm_min=22, tm_sec=11, tm_wday=4, tm_yday=151, tm_isdst=0), 'links': [{'href': 'http://www.globalissues.org/news/2019/05/31/25329', 'rel': 'alternate', 'type': 'text/html'}], 'summary': '<p><img src=\"http://cdn.ipsnews.net/Library/2019/05/fisherman_2_.jpg\" width=\"640\" alt=\"\" /></p><p>COLOMBO, Sri Lanka, May 31 (IPS)  - Claudia Sadoff is Director General, International Water Management Institute (IWMI)Global <a href=\"https://www.ipbes.net/news/Media-Release-Global-Assessment\" rel=\"noopener\" target=\"_blank\">biodiversity loss has reached critical levels.</a> One million species of plants and animals are now estimated to be at risk of extinction. The window for action is closing, and the world needs to urgently take note.</p><p><a href=\"http://www.globalissues.org/news/2019/05/31/25329\">Read the full story, “We Can’t Halt Extinctions Unless We Protect Water”, on globalissues.org</a> →</p>', 'summary_detail': {'type': 'text/html', 'language': None, 'base': 'http://www.globalissues.org/news/feed', 'value': '<p><img src=\"http://cdn.ipsnews.net/Library/2019/05/fisherman_2_.jpg\" width=\"640\" alt=\"\" /></p><p>COLOMBO, Sri Lanka, May 31 (IPS)  - Claudia Sadoff is Director General, International Water Management Institute (IWMI)Global <a href=\"https://www.ipbes.net/news/Media-Release-Global-Assessment\" rel=\"noopener\" target=\"_blank\">biodiversity loss has reached critical levels.</a> One million species of plants and animals are now estimated to be at risk of extinction. The window for action is closing, and the world needs to urgently take note.</p><p><a href=\"http://www.globalissues.org/news/2019/05/31/25329\">Read the full story, “We Can’t Halt Extinctions Unless We Protect Water”, on globalissues.org</a> →</p>'}} 'published'\n",
      "failed on  {'id': 'http://www.globalissues.org/news/2019/05/31/25328', 'guidislink': True, 'link': 'http://www.globalissues.org/news/2019/05/31/25328', 'title': 'Lost in Globalisation', 'title_detail': {'type': 'text/plain', 'language': None, 'base': 'http://www.globalissues.org/news/feed', 'value': 'Lost in Globalisation'}, 'updated': '2019-05-31T09:43:25-07:00', 'updated_parsed': time.struct_time(tm_year=2019, tm_mon=5, tm_mday=31, tm_hour=16, tm_min=43, tm_sec=25, tm_wday=4, tm_yday=151, tm_isdst=0), 'links': [{'href': 'http://www.globalissues.org/news/2019/05/31/25328', 'rel': 'alternate', 'type': 'text/html'}], 'summary': '<p><img src=\"http://cdn.ipsnews.net/Library/2019/05/baher2.jpg\" width=\"640\" alt=\"\" /></p><p>MADRID, May 31 (IPS)  - Do not panic! This is not about telling you how bank accounts and pension funds have been used to finance the production of nuclear bombs (they call it ‘investment\\').</p><p><a href=\"http://www.globalissues.org/news/2019/05/31/25328\">Read the full story, “Lost in Globalisation”, on globalissues.org</a> →</p>', 'summary_detail': {'type': 'text/html', 'language': None, 'base': 'http://www.globalissues.org/news/feed', 'value': '<p><img src=\"http://cdn.ipsnews.net/Library/2019/05/baher2.jpg\" width=\"640\" alt=\"\" /></p><p>MADRID, May 31 (IPS)  - Do not panic! This is not about telling you how bank accounts and pension funds have been used to finance the production of nuclear bombs (they call it ‘investment\\').</p><p><a href=\"http://www.globalissues.org/news/2019/05/31/25328\">Read the full story, “Lost in Globalisation”, on globalissues.org</a> →</p>'}} 'published'\n",
      "failed on  {'id': 'http://www.globalissues.org/news/2019/05/30/25327', 'guidislink': True, 'link': 'http://www.globalissues.org/news/2019/05/30/25327', 'title': 'The New Face of Activism: Youth', 'title_detail': {'type': 'text/plain', 'language': None, 'base': 'http://www.globalissues.org/news/feed', 'value': 'The New Face of Activism: Youth'}, 'updated': '2019-05-30T15:19:18-07:00', 'updated_parsed': time.struct_time(tm_year=2019, tm_mon=5, tm_mday=30, tm_hour=22, tm_min=19, tm_sec=18, tm_wday=3, tm_yday=150, tm_isdst=0), 'links': [{'href': 'http://www.globalissues.org/news/2019/05/30/25327', 'rel': 'alternate', 'type': 'text/html'}], 'summary': '<p><img src=\"http://cdn.ipsnews.net/Library/2019/05/47392809181_d9382fd27c_z.jpg\" width=\"640\" alt=\"\" /></p><p>UNITED NATIONS, May 30 (IPS)  - Rather than waiting for adults to act, more young girls and boys are standing up and speaking out on the world\\'s pressing issues.</p><p><a href=\"http://www.globalissues.org/news/2019/05/30/25327\">Read the full story, “The New Face of Activism: Youth”, on globalissues.org</a> →</p>', 'summary_detail': {'type': 'text/html', 'language': None, 'base': 'http://www.globalissues.org/news/feed', 'value': '<p><img src=\"http://cdn.ipsnews.net/Library/2019/05/47392809181_d9382fd27c_z.jpg\" width=\"640\" alt=\"\" /></p><p>UNITED NATIONS, May 30 (IPS)  - Rather than waiting for adults to act, more young girls and boys are standing up and speaking out on the world\\'s pressing issues.</p><p><a href=\"http://www.globalissues.org/news/2019/05/30/25327\">Read the full story, “The New Face of Activism: Youth”, on globalissues.org</a> →</p>'}} 'published'\n",
      "failed on  {'id': 'http://www.globalissues.org/news/2019/05/30/25326', 'guidislink': True, 'link': 'http://www.globalissues.org/news/2019/05/30/25326', 'title': 'Water Research & Education Needs to Flow Towards Developing World', 'title_detail': {'type': 'text/plain', 'language': None, 'base': 'http://www.globalissues.org/news/feed', 'value': 'Water Research & Education Needs to Flow Towards Developing World'}, 'updated': '2019-05-30T09:31:03-07:00', 'updated_parsed': time.struct_time(tm_year=2019, tm_mon=5, tm_mday=30, tm_hour=16, tm_min=31, tm_sec=3, tm_wday=3, tm_yday=150, tm_isdst=0), 'links': [{'href': 'http://www.globalissues.org/news/2019/05/30/25326', 'rel': 'alternate', 'type': 'text/html'}], 'summary': '<p>HAMILTON, Canada, May 30 (IPS)  - Colin Mayfield, is Senior Advisor, Water Education and Knowledge Management at United Nations University Institute for Water, Environment and Health (UNU-INWEH), and Hamid Mehmood is a Senior Researcher*.  Post-secondary education relevant to the global water crisis is concentrated in wealthy countries rather than the poorer, developing places where it is needed most.</p><p><a href=\"http://www.globalissues.org/news/2019/05/30/25326\">Read the full story, “Water Research & Education Needs to Flow Towards Developing World”, on globalissues.org</a> →</p>', 'summary_detail': {'type': 'text/html', 'language': None, 'base': 'http://www.globalissues.org/news/feed', 'value': '<p>HAMILTON, Canada, May 30 (IPS)  - Colin Mayfield, is Senior Advisor, Water Education and Knowledge Management at United Nations University Institute for Water, Environment and Health (UNU-INWEH), and Hamid Mehmood is a Senior Researcher*.  Post-secondary education relevant to the global water crisis is concentrated in wealthy countries rather than the poorer, developing places where it is needed most.</p><p><a href=\"http://www.globalissues.org/news/2019/05/30/25326\">Read the full story, “Water Research & Education Needs to Flow Towards Developing World”, on globalissues.org</a> →</p>'}} 'published'\n",
      "failed on  {'id': 'http://www.globalissues.org/news/2019/05/29/25325', 'guidislink': True, 'link': 'http://www.globalissues.org/news/2019/05/29/25325', 'title': 'A Call for Concrete Changes to Achieve a More Gender Equal World', 'title_detail': {'type': 'text/plain', 'language': None, 'base': 'http://www.globalissues.org/news/feed', 'value': 'A Call for Concrete Changes to Achieve a More Gender Equal World'}, 'updated': '2019-05-29T13:49:06-07:00', 'updated_parsed': time.struct_time(tm_year=2019, tm_mon=5, tm_mday=29, tm_hour=20, tm_min=49, tm_sec=6, tm_wday=2, tm_yday=149, tm_isdst=0), 'links': [{'href': 'http://www.globalissues.org/news/2019/05/29/25325', 'rel': 'alternate', 'type': 'text/html'}], 'summary': '<p><img src=\"http://cdn.ipsnews.net/Library/2019/05/HRH-Sarah-Zeid_.jpg\" width=\"640\" alt=\"\" /></p><p>AMMAN, May 29 (IPS)  - Princess Sarah Zeid is a member of UNHCR\\'s Advisory Group on Gender, Forced Displacement, and Protection, a Special Advisor to the World Food Programme on Maternal and Child Health and Nutrition, and Chair of the Newborn Health in Humanitarian Settings Initiative.On the eve of the Women Deliver conference in Vancouver June 3-6, Princess Sarah Zeid of Jordan interviewed <em>Dr. Olfat Mahmoud, a Palestinian refugee and women\\'s rights advocate</em>.</p><p><a href=\"http://www.globalissues.org/news/2019/05/29/25325\">Read the full story, “A Call for Concrete Changes to Achieve a More Gender Equal World”, on globalissues.org</a> →</p>', 'summary_detail': {'type': 'text/html', 'language': None, 'base': 'http://www.globalissues.org/news/feed', 'value': '<p><img src=\"http://cdn.ipsnews.net/Library/2019/05/HRH-Sarah-Zeid_.jpg\" width=\"640\" alt=\"\" /></p><p>AMMAN, May 29 (IPS)  - Princess Sarah Zeid is a member of UNHCR\\'s Advisory Group on Gender, Forced Displacement, and Protection, a Special Advisor to the World Food Programme on Maternal and Child Health and Nutrition, and Chair of the Newborn Health in Humanitarian Settings Initiative.On the eve of the Women Deliver conference in Vancouver June 3-6, Princess Sarah Zeid of Jordan interviewed <em>Dr. Olfat Mahmoud, a Palestinian refugee and women\\'s rights advocate</em>.</p><p><a href=\"http://www.globalissues.org/news/2019/05/29/25325\">Read the full story, “A Call for Concrete Changes to Achieve a More Gender Equal World”, on globalissues.org</a> →</p>'}} 'published'\n",
      "failed on  {'id': 'http://www.globalissues.org/news/2019/05/29/25324', 'guidislink': True, 'link': 'http://www.globalissues.org/news/2019/05/29/25324', 'title': 'These Aliens Are Here to Stay (And They Are Dangerous)', 'title_detail': {'type': 'text/plain', 'language': None, 'base': 'http://www.globalissues.org/news/feed', 'value': 'These Aliens Are Here to Stay (And They Are Dangerous)'}, 'updated': '2019-05-29T11:12:45-07:00', 'updated_parsed': time.struct_time(tm_year=2019, tm_mon=5, tm_mday=29, tm_hour=18, tm_min=12, tm_sec=45, tm_wday=2, tm_yday=149, tm_isdst=0), 'links': [{'href': 'http://www.globalissues.org/news/2019/05/29/25324', 'rel': 'alternate', 'type': 'text/html'}], 'summary': '<p><img src=\"http://cdn.ipsnews.net/Library/2019/05/WTO-small-629x417.jpg\" width=\"640\" alt=\"\" /></p><p>MADRID, May 29 (IPS)  - No, no, no. Nothing to do with what US and Europe\\'s far-right fanatics now use to vociferate, saying once and again that \"migrants come here to destroy our democracy, our civilisation, and our life-style\".</p><p><a href=\"http://www.globalissues.org/news/2019/05/29/25324\">Read the full story, “These Aliens Are Here to Stay (And They Are Dangerous)”, on globalissues.org</a> →</p>', 'summary_detail': {'type': 'text/html', 'language': None, 'base': 'http://www.globalissues.org/news/feed', 'value': '<p><img src=\"http://cdn.ipsnews.net/Library/2019/05/WTO-small-629x417.jpg\" width=\"640\" alt=\"\" /></p><p>MADRID, May 29 (IPS)  - No, no, no. Nothing to do with what US and Europe\\'s far-right fanatics now use to vociferate, saying once and again that \"migrants come here to destroy our democracy, our civilisation, and our life-style\".</p><p><a href=\"http://www.globalissues.org/news/2019/05/29/25324\">Read the full story, “These Aliens Are Here to Stay (And They Are Dangerous)”, on globalissues.org</a> →</p>'}} 'published'\n",
      "failed on  {'id': 'http://www.globalissues.org/news/2019/05/29/25323', 'guidislink': True, 'link': 'http://www.globalissues.org/news/2019/05/29/25323', 'title': 'US “Emergency” Arms Sales to Mideast Nations Under Fire', 'title_detail': {'type': 'text/plain', 'language': None, 'base': 'http://www.globalissues.org/news/feed', 'value': 'US “Emergency” Arms Sales to Mideast Nations Under Fire'}, 'updated': '2019-05-29T10:46:53-07:00', 'updated_parsed': time.struct_time(tm_year=2019, tm_mon=5, tm_mday=29, tm_hour=17, tm_min=46, tm_sec=53, tm_wday=2, tm_yday=149, tm_isdst=0), 'links': [{'href': 'http://www.globalissues.org/news/2019/05/29/25323', 'rel': 'alternate', 'type': 'text/html'}], 'summary': '<p><img src=\"http://cdn.ipsnews.net/Library/2019/05/Children-walk_2_.jpg\" width=\"640\" alt=\"\" /></p><p>UNITED NATIONS, May 29 (IPS)  - When the UN Security Council met last week to discuss the deaths and devastation caused to civilians in ongoing military conflicts and civil wars, the killings in Yemen and the air attacks on hospitals, schools, mosques, and market places—whether deliberate or otherwise-- were singled out as the worst ever.</p><p><a href=\"http://www.globalissues.org/news/2019/05/29/25323\">Read the full story, “US “Emergency” Arms Sales to Mideast Nations Under Fire”, on globalissues.org</a> →</p>', 'summary_detail': {'type': 'text/html', 'language': None, 'base': 'http://www.globalissues.org/news/feed', 'value': '<p><img src=\"http://cdn.ipsnews.net/Library/2019/05/Children-walk_2_.jpg\" width=\"640\" alt=\"\" /></p><p>UNITED NATIONS, May 29 (IPS)  - When the UN Security Council met last week to discuss the deaths and devastation caused to civilians in ongoing military conflicts and civil wars, the killings in Yemen and the air attacks on hospitals, schools, mosques, and market places—whether deliberate or otherwise-- were singled out as the worst ever.</p><p><a href=\"http://www.globalissues.org/news/2019/05/29/25323\">Read the full story, “US “Emergency” Arms Sales to Mideast Nations Under Fire”, on globalissues.org</a> →</p>'}} 'published'\n"
     ]
    },
    {
     "name": "stdout",
     "output_type": "stream",
     "text": [
      "failed on  {'id': 'http://www.globalissues.org/news/2019/05/28/25322', 'guidislink': True, 'link': 'http://www.globalissues.org/news/2019/05/28/25322', 'title': 'Asia-Pacific Region Viewed as Engine of the World Economy', 'title_detail': {'type': 'text/plain', 'language': None, 'base': 'http://www.globalissues.org/news/feed', 'value': 'Asia-Pacific Region Viewed as Engine of the World Economy'}, 'updated': '2019-05-28T13:19:10-07:00', 'updated_parsed': time.struct_time(tm_year=2019, tm_mon=5, tm_mday=28, tm_hour=20, tm_min=19, tm_sec=10, tm_wday=1, tm_yday=148, tm_isdst=0), 'links': [{'href': 'http://www.globalissues.org/news/2019/05/28/25322', 'rel': 'alternate', 'type': 'text/html'}], 'summary': '<p><img src=\"http://cdn.ipsnews.net/Library/2019/05/Armida-Salsiah-Alisjahbana_2_.jpg\" width=\"640\" alt=\"\" /></p><p>BANGKOK, Thailand, May 28 (IPS)  - Armida Salsiah Alisjahbana * is UN Under-Secretary-General and Executive Secretary of the UN Economic and Social Commission for Asia and the Pacific (ESCAP)Since this Commission first met in 1947, our countries have travelled a long journey. Our economies are expected to become larger than the rest of the world combined, measured by purchasing power parity. It is often said the Asia-Pacific region is the engine of the world economy.</p><p><a href=\"http://www.globalissues.org/news/2019/05/28/25322\">Read the full story, “Asia-Pacific Region Viewed as Engine of the World Economy”, on globalissues.org</a> →</p>', 'summary_detail': {'type': 'text/html', 'language': None, 'base': 'http://www.globalissues.org/news/feed', 'value': '<p><img src=\"http://cdn.ipsnews.net/Library/2019/05/Armida-Salsiah-Alisjahbana_2_.jpg\" width=\"640\" alt=\"\" /></p><p>BANGKOK, Thailand, May 28 (IPS)  - Armida Salsiah Alisjahbana * is UN Under-Secretary-General and Executive Secretary of the UN Economic and Social Commission for Asia and the Pacific (ESCAP)Since this Commission first met in 1947, our countries have travelled a long journey. Our economies are expected to become larger than the rest of the world combined, measured by purchasing power parity. It is often said the Asia-Pacific region is the engine of the world economy.</p><p><a href=\"http://www.globalissues.org/news/2019/05/28/25322\">Read the full story, “Asia-Pacific Region Viewed as Engine of the World Economy”, on globalissues.org</a> →</p>'}} 'published'\n",
      "failed on  {'id': 'http://www.globalissues.org/news/2019/05/28/25321', 'guidislink': True, 'link': 'http://www.globalissues.org/news/2019/05/28/25321', 'title': 'US Threats to Dismantle Palestinian Refugee Agency Trigger Protests', 'title_detail': {'type': 'text/plain', 'language': None, 'base': 'http://www.globalissues.org/news/feed', 'value': 'US Threats to Dismantle Palestinian Refugee Agency Trigger Protests'}, 'updated': '2019-05-28T10:08:53-07:00', 'updated_parsed': time.struct_time(tm_year=2019, tm_mon=5, tm_mday=28, tm_hour=17, tm_min=8, tm_sec=53, tm_wday=1, tm_yday=148, tm_isdst=0), 'links': [{'href': 'http://www.globalissues.org/news/2019/05/28/25321', 'rel': 'alternate', 'type': 'text/html'}], 'summary': '<p><img src=\"http://cdn.ipsnews.net/Library/2019/05/US-threats2_.jpg\" width=\"640\" alt=\"\" /></p><p>UNITED NATIONS, May 28 (IPS)  - As it relentlessly pursues its strongly pro-Israeli policy – along with its disdain for multilateralism – the Trump administration continued to display its hostility towards the United Nations and its humanitarian agencies at a meeting of the UN Security Council focusing on the recent escalation of violence in Gaza.</p><p><a href=\"http://www.globalissues.org/news/2019/05/28/25321\">Read the full story, “US Threats to Dismantle Palestinian Refugee Agency Trigger Protests”, on globalissues.org</a> →</p>', 'summary_detail': {'type': 'text/html', 'language': None, 'base': 'http://www.globalissues.org/news/feed', 'value': '<p><img src=\"http://cdn.ipsnews.net/Library/2019/05/US-threats2_.jpg\" width=\"640\" alt=\"\" /></p><p>UNITED NATIONS, May 28 (IPS)  - As it relentlessly pursues its strongly pro-Israeli policy – along with its disdain for multilateralism – the Trump administration continued to display its hostility towards the United Nations and its humanitarian agencies at a meeting of the UN Security Council focusing on the recent escalation of violence in Gaza.</p><p><a href=\"http://www.globalissues.org/news/2019/05/28/25321\">Read the full story, “US Threats to Dismantle Palestinian Refugee Agency Trigger Protests”, on globalissues.org</a> →</p>'}} 'published'\n",
      "failed on  {'id': 'http://www.globalissues.org/news/2019/05/28/25319', 'guidislink': True, 'link': 'http://www.globalissues.org/news/2019/05/28/25319', 'title': 'Zimbabwe’s Resettled Farmers Hawking Cigarettes to Survive', 'title_detail': {'type': 'text/plain', 'language': None, 'base': 'http://www.globalissues.org/news/feed', 'value': 'Zimbabwe’s Resettled Farmers Hawking Cigarettes to Survive'}, 'updated': '2019-05-28T09:31:04-07:00', 'updated_parsed': time.struct_time(tm_year=2019, tm_mon=5, tm_mday=28, tm_hour=16, tm_min=31, tm_sec=4, tm_wday=1, tm_yday=148, tm_isdst=0), 'links': [{'href': 'http://www.globalissues.org/news/2019/05/28/25319', 'rel': 'alternate', 'type': 'text/html'}], 'summary': '<p><img src=\"http://cdn.ipsnews.net/Library/2019/05/15888498021_4cce17907d_z.jpg\" width=\"640\" alt=\"\" /></p><p>MARONDERA, Zimbabwe, May 28 (IPS)  - For subsistence farmer Rogers Hove, who proudly brandishes a worn out letter for his five hectare piece of land he obtained from government following the chaotic land seizures from white commercial farmers over two decades ago, what matters to him, \"is to see my piece of land in my possession\".</p><p><a href=\"http://www.globalissues.org/news/2019/05/28/25319\">Read the full story, “Zimbabwe’s Resettled Farmers Hawking Cigarettes to Survive”, on globalissues.org</a> →</p>', 'summary_detail': {'type': 'text/html', 'language': None, 'base': 'http://www.globalissues.org/news/feed', 'value': '<p><img src=\"http://cdn.ipsnews.net/Library/2019/05/15888498021_4cce17907d_z.jpg\" width=\"640\" alt=\"\" /></p><p>MARONDERA, Zimbabwe, May 28 (IPS)  - For subsistence farmer Rogers Hove, who proudly brandishes a worn out letter for his five hectare piece of land he obtained from government following the chaotic land seizures from white commercial farmers over two decades ago, what matters to him, \"is to see my piece of land in my possession\".</p><p><a href=\"http://www.globalissues.org/news/2019/05/28/25319\">Read the full story, “Zimbabwe’s Resettled Farmers Hawking Cigarettes to Survive”, on globalissues.org</a> →</p>'}} 'published'\n",
      "failed on  {'id': 'http://www.globalissues.org/news/2019/05/31/25329', 'guidislink': True, 'link': 'http://www.globalissues.org/news/2019/05/31/25329', 'title': 'We Can’t Halt Extinctions Unless We Protect Water', 'title_detail': {'type': 'text/plain', 'language': None, 'base': 'http://www.globalissues.org/news/feed', 'value': 'We Can’t Halt Extinctions Unless We Protect Water'}, 'updated': '2019-05-31T10:22:11-07:00', 'updated_parsed': time.struct_time(tm_year=2019, tm_mon=5, tm_mday=31, tm_hour=17, tm_min=22, tm_sec=11, tm_wday=4, tm_yday=151, tm_isdst=0), 'links': [{'href': 'http://www.globalissues.org/news/2019/05/31/25329', 'rel': 'alternate', 'type': 'text/html'}], 'summary': '<p><img src=\"http://cdn.ipsnews.net/Library/2019/05/fisherman_2_.jpg\" width=\"640\" alt=\"\" /></p><p>COLOMBO, Sri Lanka, May 31 (IPS)  - Claudia Sadoff is Director General, International Water Management Institute (IWMI)Global <a href=\"https://www.ipbes.net/news/Media-Release-Global-Assessment\" rel=\"noopener\" target=\"_blank\">biodiversity loss has reached critical levels.</a> One million species of plants and animals are now estimated to be at risk of extinction. The window for action is closing, and the world needs to urgently take note.</p><p><a href=\"http://www.globalissues.org/news/2019/05/31/25329\">Read the full story, “We Can’t Halt Extinctions Unless We Protect Water”, on globalissues.org</a> →</p>', 'summary_detail': {'type': 'text/html', 'language': None, 'base': 'http://www.globalissues.org/news/feed', 'value': '<p><img src=\"http://cdn.ipsnews.net/Library/2019/05/fisherman_2_.jpg\" width=\"640\" alt=\"\" /></p><p>COLOMBO, Sri Lanka, May 31 (IPS)  - Claudia Sadoff is Director General, International Water Management Institute (IWMI)Global <a href=\"https://www.ipbes.net/news/Media-Release-Global-Assessment\" rel=\"noopener\" target=\"_blank\">biodiversity loss has reached critical levels.</a> One million species of plants and animals are now estimated to be at risk of extinction. The window for action is closing, and the world needs to urgently take note.</p><p><a href=\"http://www.globalissues.org/news/2019/05/31/25329\">Read the full story, “We Can’t Halt Extinctions Unless We Protect Water”, on globalissues.org</a> →</p>'}} 'published'\n",
      "failed on  {'id': 'http://www.globalissues.org/news/2019/05/31/25328', 'guidislink': True, 'link': 'http://www.globalissues.org/news/2019/05/31/25328', 'title': 'Lost in Globalisation', 'title_detail': {'type': 'text/plain', 'language': None, 'base': 'http://www.globalissues.org/news/feed', 'value': 'Lost in Globalisation'}, 'updated': '2019-05-31T09:43:25-07:00', 'updated_parsed': time.struct_time(tm_year=2019, tm_mon=5, tm_mday=31, tm_hour=16, tm_min=43, tm_sec=25, tm_wday=4, tm_yday=151, tm_isdst=0), 'links': [{'href': 'http://www.globalissues.org/news/2019/05/31/25328', 'rel': 'alternate', 'type': 'text/html'}], 'summary': '<p><img src=\"http://cdn.ipsnews.net/Library/2019/05/baher2.jpg\" width=\"640\" alt=\"\" /></p><p>MADRID, May 31 (IPS)  - Do not panic! This is not about telling you how bank accounts and pension funds have been used to finance the production of nuclear bombs (they call it ‘investment\\').</p><p><a href=\"http://www.globalissues.org/news/2019/05/31/25328\">Read the full story, “Lost in Globalisation”, on globalissues.org</a> →</p>', 'summary_detail': {'type': 'text/html', 'language': None, 'base': 'http://www.globalissues.org/news/feed', 'value': '<p><img src=\"http://cdn.ipsnews.net/Library/2019/05/baher2.jpg\" width=\"640\" alt=\"\" /></p><p>MADRID, May 31 (IPS)  - Do not panic! This is not about telling you how bank accounts and pension funds have been used to finance the production of nuclear bombs (they call it ‘investment\\').</p><p><a href=\"http://www.globalissues.org/news/2019/05/31/25328\">Read the full story, “Lost in Globalisation”, on globalissues.org</a> →</p>'}} 'published'\n",
      "failed on  {'id': 'http://www.globalissues.org/news/2019/05/30/25327', 'guidislink': True, 'link': 'http://www.globalissues.org/news/2019/05/30/25327', 'title': 'The New Face of Activism: Youth', 'title_detail': {'type': 'text/plain', 'language': None, 'base': 'http://www.globalissues.org/news/feed', 'value': 'The New Face of Activism: Youth'}, 'updated': '2019-05-30T15:19:18-07:00', 'updated_parsed': time.struct_time(tm_year=2019, tm_mon=5, tm_mday=30, tm_hour=22, tm_min=19, tm_sec=18, tm_wday=3, tm_yday=150, tm_isdst=0), 'links': [{'href': 'http://www.globalissues.org/news/2019/05/30/25327', 'rel': 'alternate', 'type': 'text/html'}], 'summary': '<p><img src=\"http://cdn.ipsnews.net/Library/2019/05/47392809181_d9382fd27c_z.jpg\" width=\"640\" alt=\"\" /></p><p>UNITED NATIONS, May 30 (IPS)  - Rather than waiting for adults to act, more young girls and boys are standing up and speaking out on the world\\'s pressing issues.</p><p><a href=\"http://www.globalissues.org/news/2019/05/30/25327\">Read the full story, “The New Face of Activism: Youth”, on globalissues.org</a> →</p>', 'summary_detail': {'type': 'text/html', 'language': None, 'base': 'http://www.globalissues.org/news/feed', 'value': '<p><img src=\"http://cdn.ipsnews.net/Library/2019/05/47392809181_d9382fd27c_z.jpg\" width=\"640\" alt=\"\" /></p><p>UNITED NATIONS, May 30 (IPS)  - Rather than waiting for adults to act, more young girls and boys are standing up and speaking out on the world\\'s pressing issues.</p><p><a href=\"http://www.globalissues.org/news/2019/05/30/25327\">Read the full story, “The New Face of Activism: Youth”, on globalissues.org</a> →</p>'}} 'published'\n",
      "failed on  {'id': 'http://www.globalissues.org/news/2019/05/30/25326', 'guidislink': True, 'link': 'http://www.globalissues.org/news/2019/05/30/25326', 'title': 'Water Research & Education Needs to Flow Towards Developing World', 'title_detail': {'type': 'text/plain', 'language': None, 'base': 'http://www.globalissues.org/news/feed', 'value': 'Water Research & Education Needs to Flow Towards Developing World'}, 'updated': '2019-05-30T09:31:03-07:00', 'updated_parsed': time.struct_time(tm_year=2019, tm_mon=5, tm_mday=30, tm_hour=16, tm_min=31, tm_sec=3, tm_wday=3, tm_yday=150, tm_isdst=0), 'links': [{'href': 'http://www.globalissues.org/news/2019/05/30/25326', 'rel': 'alternate', 'type': 'text/html'}], 'summary': '<p>HAMILTON, Canada, May 30 (IPS)  - Colin Mayfield, is Senior Advisor, Water Education and Knowledge Management at United Nations University Institute for Water, Environment and Health (UNU-INWEH), and Hamid Mehmood is a Senior Researcher*.  Post-secondary education relevant to the global water crisis is concentrated in wealthy countries rather than the poorer, developing places where it is needed most.</p><p><a href=\"http://www.globalissues.org/news/2019/05/30/25326\">Read the full story, “Water Research & Education Needs to Flow Towards Developing World”, on globalissues.org</a> →</p>', 'summary_detail': {'type': 'text/html', 'language': None, 'base': 'http://www.globalissues.org/news/feed', 'value': '<p>HAMILTON, Canada, May 30 (IPS)  - Colin Mayfield, is Senior Advisor, Water Education and Knowledge Management at United Nations University Institute for Water, Environment and Health (UNU-INWEH), and Hamid Mehmood is a Senior Researcher*.  Post-secondary education relevant to the global water crisis is concentrated in wealthy countries rather than the poorer, developing places where it is needed most.</p><p><a href=\"http://www.globalissues.org/news/2019/05/30/25326\">Read the full story, “Water Research & Education Needs to Flow Towards Developing World”, on globalissues.org</a> →</p>'}} 'published'\n"
     ]
    },
    {
     "name": "stdout",
     "output_type": "stream",
     "text": [
      "failed on  {'id': 'http://www.globalissues.org/news/2019/05/29/25325', 'guidislink': True, 'link': 'http://www.globalissues.org/news/2019/05/29/25325', 'title': 'A Call for Concrete Changes to Achieve a More Gender Equal World', 'title_detail': {'type': 'text/plain', 'language': None, 'base': 'http://www.globalissues.org/news/feed', 'value': 'A Call for Concrete Changes to Achieve a More Gender Equal World'}, 'updated': '2019-05-29T13:49:06-07:00', 'updated_parsed': time.struct_time(tm_year=2019, tm_mon=5, tm_mday=29, tm_hour=20, tm_min=49, tm_sec=6, tm_wday=2, tm_yday=149, tm_isdst=0), 'links': [{'href': 'http://www.globalissues.org/news/2019/05/29/25325', 'rel': 'alternate', 'type': 'text/html'}], 'summary': '<p><img src=\"http://cdn.ipsnews.net/Library/2019/05/HRH-Sarah-Zeid_.jpg\" width=\"640\" alt=\"\" /></p><p>AMMAN, May 29 (IPS)  - Princess Sarah Zeid is a member of UNHCR\\'s Advisory Group on Gender, Forced Displacement, and Protection, a Special Advisor to the World Food Programme on Maternal and Child Health and Nutrition, and Chair of the Newborn Health in Humanitarian Settings Initiative.On the eve of the Women Deliver conference in Vancouver June 3-6, Princess Sarah Zeid of Jordan interviewed <em>Dr. Olfat Mahmoud, a Palestinian refugee and women\\'s rights advocate</em>.</p><p><a href=\"http://www.globalissues.org/news/2019/05/29/25325\">Read the full story, “A Call for Concrete Changes to Achieve a More Gender Equal World”, on globalissues.org</a> →</p>', 'summary_detail': {'type': 'text/html', 'language': None, 'base': 'http://www.globalissues.org/news/feed', 'value': '<p><img src=\"http://cdn.ipsnews.net/Library/2019/05/HRH-Sarah-Zeid_.jpg\" width=\"640\" alt=\"\" /></p><p>AMMAN, May 29 (IPS)  - Princess Sarah Zeid is a member of UNHCR\\'s Advisory Group on Gender, Forced Displacement, and Protection, a Special Advisor to the World Food Programme on Maternal and Child Health and Nutrition, and Chair of the Newborn Health in Humanitarian Settings Initiative.On the eve of the Women Deliver conference in Vancouver June 3-6, Princess Sarah Zeid of Jordan interviewed <em>Dr. Olfat Mahmoud, a Palestinian refugee and women\\'s rights advocate</em>.</p><p><a href=\"http://www.globalissues.org/news/2019/05/29/25325\">Read the full story, “A Call for Concrete Changes to Achieve a More Gender Equal World”, on globalissues.org</a> →</p>'}} 'published'\n",
      "failed on  {'id': 'http://www.globalissues.org/news/2019/05/29/25324', 'guidislink': True, 'link': 'http://www.globalissues.org/news/2019/05/29/25324', 'title': 'These Aliens Are Here to Stay (And They Are Dangerous)', 'title_detail': {'type': 'text/plain', 'language': None, 'base': 'http://www.globalissues.org/news/feed', 'value': 'These Aliens Are Here to Stay (And They Are Dangerous)'}, 'updated': '2019-05-29T11:12:45-07:00', 'updated_parsed': time.struct_time(tm_year=2019, tm_mon=5, tm_mday=29, tm_hour=18, tm_min=12, tm_sec=45, tm_wday=2, tm_yday=149, tm_isdst=0), 'links': [{'href': 'http://www.globalissues.org/news/2019/05/29/25324', 'rel': 'alternate', 'type': 'text/html'}], 'summary': '<p><img src=\"http://cdn.ipsnews.net/Library/2019/05/WTO-small-629x417.jpg\" width=\"640\" alt=\"\" /></p><p>MADRID, May 29 (IPS)  - No, no, no. Nothing to do with what US and Europe\\'s far-right fanatics now use to vociferate, saying once and again that \"migrants come here to destroy our democracy, our civilisation, and our life-style\".</p><p><a href=\"http://www.globalissues.org/news/2019/05/29/25324\">Read the full story, “These Aliens Are Here to Stay (And They Are Dangerous)”, on globalissues.org</a> →</p>', 'summary_detail': {'type': 'text/html', 'language': None, 'base': 'http://www.globalissues.org/news/feed', 'value': '<p><img src=\"http://cdn.ipsnews.net/Library/2019/05/WTO-small-629x417.jpg\" width=\"640\" alt=\"\" /></p><p>MADRID, May 29 (IPS)  - No, no, no. Nothing to do with what US and Europe\\'s far-right fanatics now use to vociferate, saying once and again that \"migrants come here to destroy our democracy, our civilisation, and our life-style\".</p><p><a href=\"http://www.globalissues.org/news/2019/05/29/25324\">Read the full story, “These Aliens Are Here to Stay (And They Are Dangerous)”, on globalissues.org</a> →</p>'}} 'published'\n",
      "failed on  {'id': 'http://www.globalissues.org/news/2019/05/29/25323', 'guidislink': True, 'link': 'http://www.globalissues.org/news/2019/05/29/25323', 'title': 'US “Emergency” Arms Sales to Mideast Nations Under Fire', 'title_detail': {'type': 'text/plain', 'language': None, 'base': 'http://www.globalissues.org/news/feed', 'value': 'US “Emergency” Arms Sales to Mideast Nations Under Fire'}, 'updated': '2019-05-29T10:46:53-07:00', 'updated_parsed': time.struct_time(tm_year=2019, tm_mon=5, tm_mday=29, tm_hour=17, tm_min=46, tm_sec=53, tm_wday=2, tm_yday=149, tm_isdst=0), 'links': [{'href': 'http://www.globalissues.org/news/2019/05/29/25323', 'rel': 'alternate', 'type': 'text/html'}], 'summary': '<p><img src=\"http://cdn.ipsnews.net/Library/2019/05/Children-walk_2_.jpg\" width=\"640\" alt=\"\" /></p><p>UNITED NATIONS, May 29 (IPS)  - When the UN Security Council met last week to discuss the deaths and devastation caused to civilians in ongoing military conflicts and civil wars, the killings in Yemen and the air attacks on hospitals, schools, mosques, and market places—whether deliberate or otherwise-- were singled out as the worst ever.</p><p><a href=\"http://www.globalissues.org/news/2019/05/29/25323\">Read the full story, “US “Emergency” Arms Sales to Mideast Nations Under Fire”, on globalissues.org</a> →</p>', 'summary_detail': {'type': 'text/html', 'language': None, 'base': 'http://www.globalissues.org/news/feed', 'value': '<p><img src=\"http://cdn.ipsnews.net/Library/2019/05/Children-walk_2_.jpg\" width=\"640\" alt=\"\" /></p><p>UNITED NATIONS, May 29 (IPS)  - When the UN Security Council met last week to discuss the deaths and devastation caused to civilians in ongoing military conflicts and civil wars, the killings in Yemen and the air attacks on hospitals, schools, mosques, and market places—whether deliberate or otherwise-- were singled out as the worst ever.</p><p><a href=\"http://www.globalissues.org/news/2019/05/29/25323\">Read the full story, “US “Emergency” Arms Sales to Mideast Nations Under Fire”, on globalissues.org</a> →</p>'}} 'published'\n",
      "failed on  {'id': 'http://www.globalissues.org/news/2019/05/28/25322', 'guidislink': True, 'link': 'http://www.globalissues.org/news/2019/05/28/25322', 'title': 'Asia-Pacific Region Viewed as Engine of the World Economy', 'title_detail': {'type': 'text/plain', 'language': None, 'base': 'http://www.globalissues.org/news/feed', 'value': 'Asia-Pacific Region Viewed as Engine of the World Economy'}, 'updated': '2019-05-28T13:19:10-07:00', 'updated_parsed': time.struct_time(tm_year=2019, tm_mon=5, tm_mday=28, tm_hour=20, tm_min=19, tm_sec=10, tm_wday=1, tm_yday=148, tm_isdst=0), 'links': [{'href': 'http://www.globalissues.org/news/2019/05/28/25322', 'rel': 'alternate', 'type': 'text/html'}], 'summary': '<p><img src=\"http://cdn.ipsnews.net/Library/2019/05/Armida-Salsiah-Alisjahbana_2_.jpg\" width=\"640\" alt=\"\" /></p><p>BANGKOK, Thailand, May 28 (IPS)  - Armida Salsiah Alisjahbana * is UN Under-Secretary-General and Executive Secretary of the UN Economic and Social Commission for Asia and the Pacific (ESCAP)Since this Commission first met in 1947, our countries have travelled a long journey. Our economies are expected to become larger than the rest of the world combined, measured by purchasing power parity. It is often said the Asia-Pacific region is the engine of the world economy.</p><p><a href=\"http://www.globalissues.org/news/2019/05/28/25322\">Read the full story, “Asia-Pacific Region Viewed as Engine of the World Economy”, on globalissues.org</a> →</p>', 'summary_detail': {'type': 'text/html', 'language': None, 'base': 'http://www.globalissues.org/news/feed', 'value': '<p><img src=\"http://cdn.ipsnews.net/Library/2019/05/Armida-Salsiah-Alisjahbana_2_.jpg\" width=\"640\" alt=\"\" /></p><p>BANGKOK, Thailand, May 28 (IPS)  - Armida Salsiah Alisjahbana * is UN Under-Secretary-General and Executive Secretary of the UN Economic and Social Commission for Asia and the Pacific (ESCAP)Since this Commission first met in 1947, our countries have travelled a long journey. Our economies are expected to become larger than the rest of the world combined, measured by purchasing power parity. It is often said the Asia-Pacific region is the engine of the world economy.</p><p><a href=\"http://www.globalissues.org/news/2019/05/28/25322\">Read the full story, “Asia-Pacific Region Viewed as Engine of the World Economy”, on globalissues.org</a> →</p>'}} 'published'\n",
      "failed on  {'id': 'http://www.globalissues.org/news/2019/05/28/25321', 'guidislink': True, 'link': 'http://www.globalissues.org/news/2019/05/28/25321', 'title': 'US Threats to Dismantle Palestinian Refugee Agency Trigger Protests', 'title_detail': {'type': 'text/plain', 'language': None, 'base': 'http://www.globalissues.org/news/feed', 'value': 'US Threats to Dismantle Palestinian Refugee Agency Trigger Protests'}, 'updated': '2019-05-28T10:08:53-07:00', 'updated_parsed': time.struct_time(tm_year=2019, tm_mon=5, tm_mday=28, tm_hour=17, tm_min=8, tm_sec=53, tm_wday=1, tm_yday=148, tm_isdst=0), 'links': [{'href': 'http://www.globalissues.org/news/2019/05/28/25321', 'rel': 'alternate', 'type': 'text/html'}], 'summary': '<p><img src=\"http://cdn.ipsnews.net/Library/2019/05/US-threats2_.jpg\" width=\"640\" alt=\"\" /></p><p>UNITED NATIONS, May 28 (IPS)  - As it relentlessly pursues its strongly pro-Israeli policy – along with its disdain for multilateralism – the Trump administration continued to display its hostility towards the United Nations and its humanitarian agencies at a meeting of the UN Security Council focusing on the recent escalation of violence in Gaza.</p><p><a href=\"http://www.globalissues.org/news/2019/05/28/25321\">Read the full story, “US Threats to Dismantle Palestinian Refugee Agency Trigger Protests”, on globalissues.org</a> →</p>', 'summary_detail': {'type': 'text/html', 'language': None, 'base': 'http://www.globalissues.org/news/feed', 'value': '<p><img src=\"http://cdn.ipsnews.net/Library/2019/05/US-threats2_.jpg\" width=\"640\" alt=\"\" /></p><p>UNITED NATIONS, May 28 (IPS)  - As it relentlessly pursues its strongly pro-Israeli policy – along with its disdain for multilateralism – the Trump administration continued to display its hostility towards the United Nations and its humanitarian agencies at a meeting of the UN Security Council focusing on the recent escalation of violence in Gaza.</p><p><a href=\"http://www.globalissues.org/news/2019/05/28/25321\">Read the full story, “US Threats to Dismantle Palestinian Refugee Agency Trigger Protests”, on globalissues.org</a> →</p>'}} 'published'\n",
      "failed on  {'id': 'http://www.globalissues.org/news/2019/05/28/25319', 'guidislink': True, 'link': 'http://www.globalissues.org/news/2019/05/28/25319', 'title': 'Zimbabwe’s Resettled Farmers Hawking Cigarettes to Survive', 'title_detail': {'type': 'text/plain', 'language': None, 'base': 'http://www.globalissues.org/news/feed', 'value': 'Zimbabwe’s Resettled Farmers Hawking Cigarettes to Survive'}, 'updated': '2019-05-28T09:31:04-07:00', 'updated_parsed': time.struct_time(tm_year=2019, tm_mon=5, tm_mday=28, tm_hour=16, tm_min=31, tm_sec=4, tm_wday=1, tm_yday=148, tm_isdst=0), 'links': [{'href': 'http://www.globalissues.org/news/2019/05/28/25319', 'rel': 'alternate', 'type': 'text/html'}], 'summary': '<p><img src=\"http://cdn.ipsnews.net/Library/2019/05/15888498021_4cce17907d_z.jpg\" width=\"640\" alt=\"\" /></p><p>MARONDERA, Zimbabwe, May 28 (IPS)  - For subsistence farmer Rogers Hove, who proudly brandishes a worn out letter for his five hectare piece of land he obtained from government following the chaotic land seizures from white commercial farmers over two decades ago, what matters to him, \"is to see my piece of land in my possession\".</p><p><a href=\"http://www.globalissues.org/news/2019/05/28/25319\">Read the full story, “Zimbabwe’s Resettled Farmers Hawking Cigarettes to Survive”, on globalissues.org</a> →</p>', 'summary_detail': {'type': 'text/html', 'language': None, 'base': 'http://www.globalissues.org/news/feed', 'value': '<p><img src=\"http://cdn.ipsnews.net/Library/2019/05/15888498021_4cce17907d_z.jpg\" width=\"640\" alt=\"\" /></p><p>MARONDERA, Zimbabwe, May 28 (IPS)  - For subsistence farmer Rogers Hove, who proudly brandishes a worn out letter for his five hectare piece of land he obtained from government following the chaotic land seizures from white commercial farmers over two decades ago, what matters to him, \"is to see my piece of land in my possession\".</p><p><a href=\"http://www.globalissues.org/news/2019/05/28/25319\">Read the full story, “Zimbabwe’s Resettled Farmers Hawking Cigarettes to Survive”, on globalissues.org</a> →</p>'}} 'published'\n",
      "Finished!  With 1557 articles\n"
     ]
    }
   ],
   "source": [
    "# Parse all, drop info you don't want\n",
    "corpus = []\n",
    "entities = []\n",
    "\n",
    "for index, row in feeds_df.iterrows():\n",
    "    pump = RSSPump(row['url'])\n",
    "    corpus = corpus + pump.get_stories()\n",
    "    entities = entities + pump.get_entities()\n",
    "print(\"Finished!  With {} articles\".format(len(corpus)))"
   ]
  },
  {
   "cell_type": "markdown",
   "metadata": {},
   "source": [
    "## 2.  Quick check that the data's what we expect"
   ]
  },
  {
   "cell_type": "code",
   "execution_count": 4,
   "metadata": {},
   "outputs": [
    {
     "data": {
      "text/plain": [
       "1557"
      ]
     },
     "execution_count": 4,
     "metadata": {},
     "output_type": "execute_result"
    }
   ],
   "source": [
    "len(corpus)"
   ]
  },
  {
   "cell_type": "code",
   "execution_count": 5,
   "metadata": {
    "scrolled": true
   },
   "outputs": [
    {
     "data": {
      "text/plain": [
       "{'title': \"Mexico 'won't be provoked by US' over migrant row\",\n",
       " 'summary': 'The Mexican leader hits back after President Trump vowed tariffs until illegal migration was curbed.',\n",
       " 'date': 'Fri, 31 May 2019 18:27:49 GMT',\n",
       " 'link': 'https://www.bbc.co.uk/news/world-us-canada-48477335',\n",
       " 'source_url': 'http://feeds.bbci.co.uk/news/world/rss.xml',\n",
       " 'retrieval_timestamp': '2019-05-31 21:23:05.565232'}"
      ]
     },
     "execution_count": 5,
     "metadata": {},
     "output_type": "execute_result"
    }
   ],
   "source": [
    "corpus[0]"
   ]
  },
  {
   "cell_type": "code",
   "execution_count": 6,
   "metadata": {
    "scrolled": true
   },
   "outputs": [
    {
     "data": {
      "text/plain": [
       "{'source_url': 'http://feeds.bbci.co.uk/news/world/rss.xml',\n",
       " 'retrieval_timestamp': '2019-05-31 21:23:05.565232',\n",
       " 'title': \"Mexico 'won't be provoked by US' over migrant row\",\n",
       " 'entities': 'GPE:Mexico,GPE:US,NORP:Mexican,PERSON:Trump'}"
      ]
     },
     "execution_count": 6,
     "metadata": {},
     "output_type": "execute_result"
    }
   ],
   "source": [
    "entities[0]"
   ]
  },
  {
   "cell_type": "markdown",
   "metadata": {},
   "source": [
    "## 3.  Dump to file"
   ]
  },
  {
   "cell_type": "code",
   "execution_count": 7,
   "metadata": {},
   "outputs": [],
   "source": [
    "# Dump the corpus to file, record the date and time in the filename\n",
    "filename = \"./working/RSS_corpus_{}.json\".format(datetime.now().strftime(\"%Y-%m-%d %H%M\").replace(\" \", \"_\") )\n",
    "\n",
    "with open(filename, \"w\") as f:\n",
    "    json.dump(corpus, f)"
   ]
  },
  {
   "cell_type": "code",
   "execution_count": 8,
   "metadata": {},
   "outputs": [],
   "source": [
    "# Dump the entities to file, record the date and time in the filename\n",
    "filename = \"./working/RSS_entities_{}.json\".format(datetime.now().strftime(\"%Y-%m-%d %H%M\").replace(\" \", \"_\") )\n",
    "\n",
    "with open(filename, \"w\") as f:\n",
    "    json.dump(entities, f)"
   ]
  }
 ],
 "metadata": {
  "kernelspec": {
   "display_name": "Python 3",
   "language": "python",
   "name": "python3"
  },
  "language_info": {
   "codemirror_mode": {
    "name": "ipython",
    "version": 3
   },
   "file_extension": ".py",
   "mimetype": "text/x-python",
   "name": "python",
   "nbconvert_exporter": "python",
   "pygments_lexer": "ipython3",
   "version": "3.6.8"
  }
 },
 "nbformat": 4,
 "nbformat_minor": 2
}
