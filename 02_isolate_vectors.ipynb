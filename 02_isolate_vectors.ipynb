{
 "cells": [
  {
   "cell_type": "markdown",
   "metadata": {},
   "source": [
    "# Creating summed word2vec and doc2vec representations\n",
    "\n",
    "Uses data from every news dump created so far"
   ]
  },
  {
   "cell_type": "code",
   "execution_count": 1,
   "metadata": {},
   "outputs": [],
   "source": [
    "import re\n",
    "import json\n",
    "import torch\n",
    "import pickle\n",
    "import nltk\n",
    "\n",
    "import numpy as np\n",
    "import pandas as pd\n",
    "\n",
    "from os import listdir\n",
    "from importlib import reload\n",
    "from nltk.tokenize import sent_tokenize\n",
    "from nltk.corpus import stopwords\n",
    "from gensim.models import Doc2Vec\n",
    "from sklearn.ensemble import IsolationForest\n",
    "from sklearn.decomposition import PCA\n",
    "from sklearn.metrics.pairwise import cosine_similarity"
   ]
  },
  {
   "cell_type": "code",
   "execution_count": 2,
   "metadata": {},
   "outputs": [
    {
     "name": "stderr",
     "output_type": "stream",
     "text": [
      "[nltk_data] Downloading package punkt to /home/ozzy/nltk_data...\n",
      "[nltk_data]   Package punkt is already up-to-date!\n",
      "[nltk_data] Downloading package stopwords to /home/ozzy/nltk_data...\n",
      "[nltk_data]   Package stopwords is already up-to-date!\n"
     ]
    },
    {
     "data": {
      "text/plain": [
       "True"
      ]
     },
     "execution_count": 2,
     "metadata": {},
     "output_type": "execute_result"
    }
   ],
   "source": [
    "nltk.download('punkt')\n",
    "nltk.download('stopwords')"
   ]
  },
  {
   "cell_type": "markdown",
   "metadata": {},
   "source": [
    "## Load the news corpus, clean and prepare sentences"
   ]
  },
  {
   "cell_type": "code",
   "execution_count": 3,
   "metadata": {},
   "outputs": [],
   "source": [
    "# Retrieve a list of Json corpus files so far\n",
    "files = [x for x in listdir(\"./output\") if x.endswith(\".json\") and (\"corpus\" in x)]"
   ]
  },
  {
   "cell_type": "code",
   "execution_count": 4,
   "metadata": {},
   "outputs": [],
   "source": [
    "# Load all of the news corpus files\n",
    "articles = []\n",
    "for file in files:\n",
    "    with open(\"./output/\"+file, \"r\") as f:\n",
    "        dump = json.load(f)\n",
    "        articles = articles + list(dump)"
   ]
  },
  {
   "cell_type": "code",
   "execution_count": 5,
   "metadata": {},
   "outputs": [
    {
     "data": {
      "text/plain": [
       "[{'date': 'Wed, 29 May 2019 17:27:58 GMT',\n",
       "  'link': 'https://www.bbc.co.uk/news/world-us-canada-48450534',\n",
       "  'retrieval_timestamp': '2019-05-29 21:02:30.743862',\n",
       "  'source_url': 'http://feeds.bbci.co.uk/news/world/rss.xml',\n",
       "  'summary': 'The special counsel said legal guidelines meant he was unable to charge a sitting president.',\n",
       "  'title': 'Robert Mueller: Charging Trump was not an option'},\n",
       " {'date': 'Wed, 29 May 2019 14:45:39 GMT',\n",
       "  'link': 'https://www.bbc.co.uk/news/world-asia-48441604',\n",
       "  'retrieval_timestamp': '2019-05-29 21:02:30.743862',\n",
       "  'source_url': 'http://feeds.bbci.co.uk/news/world/rss.xml',\n",
       "  'summary': 'The schoolgirl was set on fire after filing a sexual harassment complaint against her principal.',\n",
       "  'title': 'Nusrat Jahan Rafi: 16 charged in Bangladesh for burning girl alive'}]"
      ]
     },
     "execution_count": 5,
     "metadata": {},
     "output_type": "execute_result"
    }
   ],
   "source": [
    "articles[0:2]"
   ]
  },
  {
   "cell_type": "code",
   "execution_count": 6,
   "metadata": {},
   "outputs": [],
   "source": [
    "def clean_text(article_text):\n",
    "    \"\"\" Utility function for cleaning up text for me.  There's probably better ways to prepare data. \"\"\"\n",
    "    article_text = re.sub(r'\\[[0-9]*\\]', ' ', article_text)  # Gets rid of numbers\n",
    "    article_text = re.sub(r'\\s+', ' ', article_text)         # Replaces all forms of white space with single space\n",
    "    #article_text = re.sub(r'\"', '', article_text)            # Removes quotation marks\n",
    "    \n",
    "    return(article_text)"
   ]
  },
  {
   "cell_type": "code",
   "execution_count": 7,
   "metadata": {},
   "outputs": [],
   "source": [
    "clean_articles = []\n",
    "source_urls = []\n",
    "\n",
    "for article in articles:\n",
    "    clean_articles.append(clean_text(article['title'] + \". \" + article['summary']))\n",
    "    source_urls.append(article['source_url'])"
   ]
  },
  {
   "cell_type": "markdown",
   "metadata": {},
   "source": [
    "## Set up InferSent Word2Vec Model Malarky"
   ]
  },
  {
   "cell_type": "code",
   "execution_count": null,
   "metadata": {},
   "outputs": [],
   "source": [
    "from embedding_models import InferSentModel"
   ]
  },
  {
   "cell_type": "code",
   "execution_count": null,
   "metadata": {},
   "outputs": [],
   "source": [
    "infersent = InferSentModel(sentences=clean_articles, labels=clean_articles)"
   ]
  },
  {
   "cell_type": "code",
   "execution_count": null,
   "metadata": {},
   "outputs": [],
   "source": [
    "embeddings = infersent.get_embeddings()"
   ]
  },
  {
   "cell_type": "code",
   "execution_count": null,
   "metadata": {},
   "outputs": [],
   "source": [
    "# Save the embeddings for later, so I don't have to regenerate them every time\n",
    "with open(\"./output/sentence_embeddings.pkl\", \"wb\") as f:\n",
    "    pickle.dump(embeddings, f)"
   ]
  },
  {
   "cell_type": "markdown",
   "metadata": {},
   "source": [
    "## Set up Summed Word Vectors Model Malarky"
   ]
  },
  {
   "cell_type": "code",
   "execution_count": 8,
   "metadata": {},
   "outputs": [],
   "source": [
    "from embedding_models import GloveWordModel"
   ]
  },
  {
   "cell_type": "code",
   "execution_count": 9,
   "metadata": {},
   "outputs": [
    {
     "name": "stderr",
     "output_type": "stream",
     "text": [
      "[nltk_data] Downloading package stopwords to /home/ozzy/nltk_data...\n",
      "[nltk_data]   Package stopwords is already up-to-date!\n"
     ]
    }
   ],
   "source": [
    "glove = GloveWordModel(sentences=clean_articles, labels=clean_articles)"
   ]
  },
  {
   "cell_type": "code",
   "execution_count": 10,
   "metadata": {},
   "outputs": [],
   "source": [
    "embeddings = glove.get_embeddings()"
   ]
  },
  {
   "cell_type": "code",
   "execution_count": 11,
   "metadata": {},
   "outputs": [],
   "source": [
    "# Save the embeddings for later, so I don't have to regenerate them every time\n",
    "with open(\"./output/word_embeddings.pkl\", \"wb\") as f:\n",
    "    pickle.dump(embeddings, f)"
   ]
  },
  {
   "cell_type": "markdown",
   "metadata": {},
   "source": [
    "## Experiment with interesting story extraction!\n",
    "\n",
    "Possibly less of an issue for other model methods:  An unexpected consequence of using the InferSent2 model is that it produces really quite big vectors of length 4096.  Possibly a PCA step to reduce this would be wise?"
   ]
  },
  {
   "cell_type": "code",
   "execution_count": 12,
   "metadata": {},
   "outputs": [],
   "source": [
    "with open(\"./output/word_embeddings.pkl\", \"rb\") as f:\n",
    "    embeddings = pickle.load(f)"
   ]
  },
  {
   "cell_type": "code",
   "execution_count": 28,
   "metadata": {},
   "outputs": [
    {
     "data": {
      "text/plain": [
       "(8136, 100)"
      ]
     },
     "execution_count": 28,
     "metadata": {},
     "output_type": "execute_result"
    }
   ],
   "source": [
    "labels = list(embeddings.keys())\n",
    "embeddings_array = np.asarray(list(embeddings.values()))\n",
    "embeddings_array.shape"
   ]
  },
  {
   "cell_type": "code",
   "execution_count": 29,
   "metadata": {},
   "outputs": [
    {
     "data": {
      "text/plain": [
       "['Robert Mueller: Charging Trump was not an option. The special counsel said legal guidelines meant he was unable to charge a sitting president.',\n",
       " 'Nusrat Jahan Rafi: 16 charged in Bangladesh for burning girl alive. The schoolgirl was set on fire after filing a sexual harassment complaint against her principal.',\n",
       " 'Tankers almost certainly damaged by Iranian naval mines, US says. National Security Adviser John Bolton blames Iran for attacks off the UAE, but provides no evidence.',\n",
       " 'Huawei: US blacklist will harm billions of consumers. Huawei says the US is \"using the strength of an entire nation to come after a private company\".',\n",
       " 'Growing crops in the shadow of Fukushima. Eight years on from the nuclear disaster, some have chosen to return to the small town of Okuma in Japan.',\n",
       " 'Niki Lauda: F1 stars attend Mass for late racing legend in Austria. They were among thousands paying tributes to the late Austrian driver at a Mass in Vienna.',\n",
       " 'Hells Angels bikers banned by Netherlands court. The court says the group - which has thousands of members worldwide - is a danger to public order.',\n",
       " \"Sara Netanyahu: Israeli PM's wife 'agrees plea bargain'. Sara Netanyahu was charged with fraud after being accused of wrongly spending state funds on catering.\",\n",
       " \"Caruana Galizia: Malta criticised over journalist murder probe. A human rights watchdog accuses officials of not properly investigating Daphne Caruana Galizia's death.\",\n",
       " 'Anger over death of Algeria hunger-striking activist Kamel Eddine Fekhar. The Berber activist endured great suffering and neglect since his detention in March, his lawyer says.']"
      ]
     },
     "execution_count": 29,
     "metadata": {},
     "output_type": "execute_result"
    }
   ],
   "source": [
    "labels[0:10]"
   ]
  },
  {
   "cell_type": "code",
   "execution_count": 34,
   "metadata": {},
   "outputs": [
    {
     "data": {
      "text/plain": [
       "(8136, 50)"
      ]
     },
     "execution_count": 34,
     "metadata": {},
     "output_type": "execute_result"
    }
   ],
   "source": [
    "# Reducing the embedding's dimensionality to see if that helps\n",
    "pca = PCA(n_components=50)\n",
    "embeddings_reduced = pca.fit_transform(embeddings_array)\n",
    "embeddings_reduced.shape"
   ]
  },
  {
   "cell_type": "code",
   "execution_count": 35,
   "metadata": {},
   "outputs": [
    {
     "name": "stderr",
     "output_type": "stream",
     "text": [
      "/home/ozzy/.local/lib/python3.6/site-packages/sklearn/ensemble/iforest.py:237: FutureWarning: default contamination parameter 0.1 will change in version 0.22 to \"auto\". This will change the predict method behavior.\n",
      "  FutureWarning)\n",
      "/home/ozzy/.local/lib/python3.6/site-packages/sklearn/ensemble/iforest.py:247: FutureWarning: behaviour=\"old\" is deprecated and will be removed in version 0.22. Please use behaviour=\"new\", which makes the decision_function change to match other anomaly detection algorithm API.\n",
      "  FutureWarning)\n",
      "[Parallel(n_jobs=1)]: Using backend SequentialBackend with 1 concurrent workers.\n",
      "[Parallel(n_jobs=1)]: Done   1 out of   1 | elapsed:    3.3s finished\n"
     ]
    },
    {
     "data": {
      "text/plain": [
       "IsolationForest(behaviour='old', bootstrap=False, contamination='legacy',\n",
       "                max_features=1.0, max_samples='auto', n_estimators=400,\n",
       "                n_jobs=None, random_state=None, verbose=1, warm_start=False)"
      ]
     },
     "execution_count": 35,
     "metadata": {},
     "output_type": "execute_result"
    }
   ],
   "source": [
    "# Spawn an isolation forest.  I want it to tell me what it's doing, and use a few hundred estimators\n",
    "# given the large parameter space over which it's forced to operate.\n",
    "isoforest = IsolationForest(n_estimators=400, verbose=1)\n",
    "isoforest.fit(embeddings_reduced)"
   ]
  },
  {
   "cell_type": "code",
   "execution_count": 37,
   "metadata": {},
   "outputs": [
    {
     "name": "stderr",
     "output_type": "stream",
     "text": [
      "/home/ozzy/.local/lib/python3.6/site-packages/sklearn/ensemble/iforest.py:415: DeprecationWarning: threshold_ attribute is deprecated in 0.20 and will be removed in 0.22.\n",
      "  \" be removed in 0.22.\", DeprecationWarning)\n"
     ]
    }
   ],
   "source": [
    "results = pd.DataFrame({\"labels\":labels,\n",
    "                        \"anomaly_score\": isoforest.score_samples(embeddings_reduced),\n",
    "                        \"anomaly_predicted\": isoforest.predict(embeddings_reduced),\n",
    "                        })"
   ]
  },
  {
   "cell_type": "code",
   "execution_count": 38,
   "metadata": {
    "scrolled": true
   },
   "outputs": [
    {
     "data": {
      "text/html": [
       "<div>\n",
       "<style scoped>\n",
       "    .dataframe tbody tr th:only-of-type {\n",
       "        vertical-align: middle;\n",
       "    }\n",
       "\n",
       "    .dataframe tbody tr th {\n",
       "        vertical-align: top;\n",
       "    }\n",
       "\n",
       "    .dataframe thead th {\n",
       "        text-align: right;\n",
       "    }\n",
       "</style>\n",
       "<table border=\"1\" class=\"dataframe\">\n",
       "  <thead>\n",
       "    <tr style=\"text-align: right;\">\n",
       "      <th></th>\n",
       "      <th>labels</th>\n",
       "      <th>anomaly_score</th>\n",
       "      <th>anomaly_predicted</th>\n",
       "    </tr>\n",
       "  </thead>\n",
       "  <tbody>\n",
       "    <tr>\n",
       "      <th>4293</th>\n",
       "      <td>More than 2,000 infected with Ebola in Congo a...</td>\n",
       "      <td>-0.594878</td>\n",
       "      <td>-1</td>\n",
       "    </tr>\n",
       "    <tr>\n",
       "      <th>1387</th>\n",
       "      <td>Some of the best restaurants and pubs in Sussex.</td>\n",
       "      <td>-0.594132</td>\n",
       "      <td>-1</td>\n",
       "    </tr>\n",
       "    <tr>\n",
       "      <th>7960</th>\n",
       "      <td>Eid date: When is Eid al Fitr in USA? Has the ...</td>\n",
       "      <td>-0.587328</td>\n",
       "      <td>-1</td>\n",
       "    </tr>\n",
       "    <tr>\n",
       "      <th>275</th>\n",
       "      <td>A coup against corruption in Romania.</td>\n",
       "      <td>-0.586002</td>\n",
       "      <td>-1</td>\n",
       "    </tr>\n",
       "    <tr>\n",
       "      <th>6829</th>\n",
       "      <td>Heavy rainfall and thunderstorms predicted thi...</td>\n",
       "      <td>-0.578392</td>\n",
       "      <td>-1</td>\n",
       "    </tr>\n",
       "    <tr>\n",
       "      <th>7483</th>\n",
       "      <td>Qatar PM to attend Saudi Arabia summit - Al Ja...</td>\n",
       "      <td>-0.576391</td>\n",
       "      <td>-1</td>\n",
       "    </tr>\n",
       "    <tr>\n",
       "      <th>6454</th>\n",
       "      <td>Weather warning issued as Sussex braces itself...</td>\n",
       "      <td>-0.571338</td>\n",
       "      <td>-1</td>\n",
       "    </tr>\n",
       "    <tr>\n",
       "      <th>226</th>\n",
       "      <td>Women Acquitting Themselves Well.</td>\n",
       "      <td>-0.570077</td>\n",
       "      <td>-1</td>\n",
       "    </tr>\n",
       "    <tr>\n",
       "      <th>7959</th>\n",
       "      <td>Eid Mubarak: Islamic prayer times - Eid al Fit...</td>\n",
       "      <td>-0.568927</td>\n",
       "      <td>-1</td>\n",
       "    </tr>\n",
       "    <tr>\n",
       "      <th>6399</th>\n",
       "      <td>Defending champions USA beat Chile 3-0. Defend...</td>\n",
       "      <td>-0.567695</td>\n",
       "      <td>-1</td>\n",
       "    </tr>\n",
       "    <tr>\n",
       "      <th>565</th>\n",
       "      <td>Bilderberg meeting: What is the Bilderberg mee...</td>\n",
       "      <td>-0.563421</td>\n",
       "      <td>-1</td>\n",
       "    </tr>\n",
       "    <tr>\n",
       "      <th>3056</th>\n",
       "      <td>UN atomic agency: Iran in compliance with 2015...</td>\n",
       "      <td>-0.562328</td>\n",
       "      <td>-1</td>\n",
       "    </tr>\n",
       "    <tr>\n",
       "      <th>4022</th>\n",
       "      <td>Tiananmen Square massacre marked with Hong Kon...</td>\n",
       "      <td>-0.559065</td>\n",
       "      <td>-1</td>\n",
       "    </tr>\n",
       "    <tr>\n",
       "      <th>5821</th>\n",
       "      <td>Japan lifts tsunami warning after 6.5-magnitud...</td>\n",
       "      <td>-0.558938</td>\n",
       "      <td>-1</td>\n",
       "    </tr>\n",
       "    <tr>\n",
       "      <th>878</th>\n",
       "      <td>Nadal and Federer roll into French Open third ...</td>\n",
       "      <td>-0.558691</td>\n",
       "      <td>-1</td>\n",
       "    </tr>\n",
       "    <tr>\n",
       "      <th>6061</th>\n",
       "      <td>Ebola outbreak shows distrust sows disease spr...</td>\n",
       "      <td>-0.557720</td>\n",
       "      <td>-1</td>\n",
       "    </tr>\n",
       "    <tr>\n",
       "      <th>1774</th>\n",
       "      <td>Swedish Assange hearing to decide on extraditi...</td>\n",
       "      <td>-0.556053</td>\n",
       "      <td>-1</td>\n",
       "    </tr>\n",
       "    <tr>\n",
       "      <th>3154</th>\n",
       "      <td>Hurricane season 2019: When does hurricane sea...</td>\n",
       "      <td>-0.555357</td>\n",
       "      <td>-1</td>\n",
       "    </tr>\n",
       "    <tr>\n",
       "      <th>6426</th>\n",
       "      <td>Patients infected with listeria from chicken s...</td>\n",
       "      <td>-0.552352</td>\n",
       "      <td>-1</td>\n",
       "    </tr>\n",
       "    <tr>\n",
       "      <th>6823</th>\n",
       "      <td>Primary school pupils are top of the class aft...</td>\n",
       "      <td>-0.552322</td>\n",
       "      <td>-1</td>\n",
       "    </tr>\n",
       "  </tbody>\n",
       "</table>\n",
       "</div>"
      ],
      "text/plain": [
       "                                                 labels  anomaly_score  \\\n",
       "4293  More than 2,000 infected with Ebola in Congo a...      -0.594878   \n",
       "1387  Some of the best restaurants and pubs in Sussex.       -0.594132   \n",
       "7960  Eid date: When is Eid al Fitr in USA? Has the ...      -0.587328   \n",
       "275              A coup against corruption in Romania.       -0.586002   \n",
       "6829  Heavy rainfall and thunderstorms predicted thi...      -0.578392   \n",
       "7483  Qatar PM to attend Saudi Arabia summit - Al Ja...      -0.576391   \n",
       "6454  Weather warning issued as Sussex braces itself...      -0.571338   \n",
       "226                  Women Acquitting Themselves Well.       -0.570077   \n",
       "7959  Eid Mubarak: Islamic prayer times - Eid al Fit...      -0.568927   \n",
       "6399  Defending champions USA beat Chile 3-0. Defend...      -0.567695   \n",
       "565   Bilderberg meeting: What is the Bilderberg mee...      -0.563421   \n",
       "3056  UN atomic agency: Iran in compliance with 2015...      -0.562328   \n",
       "4022  Tiananmen Square massacre marked with Hong Kon...      -0.559065   \n",
       "5821  Japan lifts tsunami warning after 6.5-magnitud...      -0.558938   \n",
       "878   Nadal and Federer roll into French Open third ...      -0.558691   \n",
       "6061  Ebola outbreak shows distrust sows disease spr...      -0.557720   \n",
       "1774  Swedish Assange hearing to decide on extraditi...      -0.556053   \n",
       "3154  Hurricane season 2019: When does hurricane sea...      -0.555357   \n",
       "6426  Patients infected with listeria from chicken s...      -0.552352   \n",
       "6823  Primary school pupils are top of the class aft...      -0.552322   \n",
       "\n",
       "      anomaly_predicted  \n",
       "4293                 -1  \n",
       "1387                 -1  \n",
       "7960                 -1  \n",
       "275                  -1  \n",
       "6829                 -1  \n",
       "7483                 -1  \n",
       "6454                 -1  \n",
       "226                  -1  \n",
       "7959                 -1  \n",
       "6399                 -1  \n",
       "565                  -1  \n",
       "3056                 -1  \n",
       "4022                 -1  \n",
       "5821                 -1  \n",
       "878                  -1  \n",
       "6061                 -1  \n",
       "1774                 -1  \n",
       "3154                 -1  \n",
       "6426                 -1  \n",
       "6823                 -1  "
      ]
     },
     "execution_count": 38,
     "metadata": {},
     "output_type": "execute_result"
    }
   ],
   "source": [
    "# Anomalous news, most weird by embedding first\n",
    "results[results['anomaly_predicted']==-1]\\\n",
    "    [['labels', 'anomaly_score', 'anomaly_predicted']].\\\n",
    "    drop_duplicates().\\\n",
    "    sort_values(\"anomaly_score\", ascending=True).\\\n",
    "    head(n=20)"
   ]
  },
  {
   "cell_type": "code",
   "execution_count": 39,
   "metadata": {
    "scrolled": true
   },
   "outputs": [
    {
     "data": {
      "text/html": [
       "<div>\n",
       "<style scoped>\n",
       "    .dataframe tbody tr th:only-of-type {\n",
       "        vertical-align: middle;\n",
       "    }\n",
       "\n",
       "    .dataframe tbody tr th {\n",
       "        vertical-align: top;\n",
       "    }\n",
       "\n",
       "    .dataframe thead th {\n",
       "        text-align: right;\n",
       "    }\n",
       "</style>\n",
       "<table border=\"1\" class=\"dataframe\">\n",
       "  <thead>\n",
       "    <tr style=\"text-align: right;\">\n",
       "      <th></th>\n",
       "      <th>labels</th>\n",
       "      <th>anomaly_score</th>\n",
       "      <th>anomaly_predicted</th>\n",
       "    </tr>\n",
       "  </thead>\n",
       "  <tbody>\n",
       "    <tr>\n",
       "      <th>1103</th>\n",
       "      <td>Two women 'beat up' a Burger King restaurant m...</td>\n",
       "      <td>-0.362615</td>\n",
       "      <td>1</td>\n",
       "    </tr>\n",
       "    <tr>\n",
       "      <th>3265</th>\n",
       "      <td>Brit stag-do tourist, 35, DIES after being bru...</td>\n",
       "      <td>-0.363042</td>\n",
       "      <td>1</td>\n",
       "    </tr>\n",
       "    <tr>\n",
       "      <th>4390</th>\n",
       "      <td>'Historic Partners': Anti-Trump Protests Fail ...</td>\n",
       "      <td>-0.363966</td>\n",
       "      <td>1</td>\n",
       "    </tr>\n",
       "    <tr>\n",
       "      <th>4509</th>\n",
       "      <td>London mayor trolls Trump: He doesn’t deserve ...</td>\n",
       "      <td>-0.364107</td>\n",
       "      <td>1</td>\n",
       "    </tr>\n",
       "    <tr>\n",
       "      <th>6577</th>\n",
       "      <td>Young daughter breaks down in public appeal fo...</td>\n",
       "      <td>-0.364857</td>\n",
       "      <td>1</td>\n",
       "    </tr>\n",
       "    <tr>\n",
       "      <th>4520</th>\n",
       "      <td>UK mobilizes to make sure Trump knows he ‘is n...</td>\n",
       "      <td>-0.365121</td>\n",
       "      <td>1</td>\n",
       "    </tr>\n",
       "    <tr>\n",
       "      <th>6127</th>\n",
       "      <td>Teen ‘killed her best friend after man she met...</td>\n",
       "      <td>-0.365357</td>\n",
       "      <td>1</td>\n",
       "    </tr>\n",
       "    <tr>\n",
       "      <th>750</th>\n",
       "      <td>Shocking moment Brit stag-do tourist, 35, is b...</td>\n",
       "      <td>-0.365611</td>\n",
       "      <td>1</td>\n",
       "    </tr>\n",
       "    <tr>\n",
       "      <th>3268</th>\n",
       "      <td>Husband turns up at a police station with his ...</td>\n",
       "      <td>-0.366069</td>\n",
       "      <td>1</td>\n",
       "    </tr>\n",
       "    <tr>\n",
       "      <th>2360</th>\n",
       "      <td>Brits express anxiety that Trump will cause ma...</td>\n",
       "      <td>-0.366170</td>\n",
       "      <td>1</td>\n",
       "    </tr>\n",
       "    <tr>\n",
       "      <th>7124</th>\n",
       "      <td>Hunt is launched for Liverpool fan, 23, who va...</td>\n",
       "      <td>-0.366691</td>\n",
       "      <td>1</td>\n",
       "    </tr>\n",
       "    <tr>\n",
       "      <th>4519</th>\n",
       "      <td>Trump’s UK visit was offered in haste — but no...</td>\n",
       "      <td>-0.367305</td>\n",
       "      <td>1</td>\n",
       "    </tr>\n",
       "    <tr>\n",
       "      <th>6615</th>\n",
       "      <td>Puzzle-loving boy, three, stuns his mother by ...</td>\n",
       "      <td>-0.367427</td>\n",
       "      <td>1</td>\n",
       "    </tr>\n",
       "    <tr>\n",
       "      <th>7015</th>\n",
       "      <td>Pompeo Admits Trump’s Middle East 'Deal of the...</td>\n",
       "      <td>-0.367655</td>\n",
       "      <td>1</td>\n",
       "    </tr>\n",
       "    <tr>\n",
       "      <th>7193</th>\n",
       "      <td>BGT finalist police officer says his act with ...</td>\n",
       "      <td>-0.367691</td>\n",
       "      <td>1</td>\n",
       "    </tr>\n",
       "    <tr>\n",
       "      <th>665</th>\n",
       "      <td>‘White Widow’ Sally Jones and her son, 12, wer...</td>\n",
       "      <td>-0.367700</td>\n",
       "      <td>1</td>\n",
       "    </tr>\n",
       "    <tr>\n",
       "      <th>2144</th>\n",
       "      <td>Who is Chloe Ayling’s kidnapper Lukasz Herba, ...</td>\n",
       "      <td>-0.367892</td>\n",
       "      <td>1</td>\n",
       "    </tr>\n",
       "    <tr>\n",
       "      <th>683</th>\n",
       "      <td>Cruel dad arrested for torturing his three kid...</td>\n",
       "      <td>-0.367935</td>\n",
       "      <td>1</td>\n",
       "    </tr>\n",
       "    <tr>\n",
       "      <th>6089</th>\n",
       "      <td>Mum, 25, left daughter, 1, to die inside 43C c...</td>\n",
       "      <td>-0.368022</td>\n",
       "      <td>1</td>\n",
       "    </tr>\n",
       "    <tr>\n",
       "      <th>4386</th>\n",
       "      <td>How Barr's Spygate Probe May Shed Light on UK'...</td>\n",
       "      <td>-0.368061</td>\n",
       "      <td>1</td>\n",
       "    </tr>\n",
       "  </tbody>\n",
       "</table>\n",
       "</div>"
      ],
      "text/plain": [
       "                                                 labels  anomaly_score  \\\n",
       "1103  Two women 'beat up' a Burger King restaurant m...      -0.362615   \n",
       "3265  Brit stag-do tourist, 35, DIES after being bru...      -0.363042   \n",
       "4390  'Historic Partners': Anti-Trump Protests Fail ...      -0.363966   \n",
       "4509  London mayor trolls Trump: He doesn’t deserve ...      -0.364107   \n",
       "6577  Young daughter breaks down in public appeal fo...      -0.364857   \n",
       "4520  UK mobilizes to make sure Trump knows he ‘is n...      -0.365121   \n",
       "6127  Teen ‘killed her best friend after man she met...      -0.365357   \n",
       "750   Shocking moment Brit stag-do tourist, 35, is b...      -0.365611   \n",
       "3268  Husband turns up at a police station with his ...      -0.366069   \n",
       "2360  Brits express anxiety that Trump will cause ma...      -0.366170   \n",
       "7124  Hunt is launched for Liverpool fan, 23, who va...      -0.366691   \n",
       "4519  Trump’s UK visit was offered in haste — but no...      -0.367305   \n",
       "6615  Puzzle-loving boy, three, stuns his mother by ...      -0.367427   \n",
       "7015  Pompeo Admits Trump’s Middle East 'Deal of the...      -0.367655   \n",
       "7193  BGT finalist police officer says his act with ...      -0.367691   \n",
       "665   ‘White Widow’ Sally Jones and her son, 12, wer...      -0.367700   \n",
       "2144  Who is Chloe Ayling’s kidnapper Lukasz Herba, ...      -0.367892   \n",
       "683   Cruel dad arrested for torturing his three kid...      -0.367935   \n",
       "6089  Mum, 25, left daughter, 1, to die inside 43C c...      -0.368022   \n",
       "4386  How Barr's Spygate Probe May Shed Light on UK'...      -0.368061   \n",
       "\n",
       "      anomaly_predicted  \n",
       "1103                  1  \n",
       "3265                  1  \n",
       "4390                  1  \n",
       "4509                  1  \n",
       "6577                  1  \n",
       "4520                  1  \n",
       "6127                  1  \n",
       "750                   1  \n",
       "3268                  1  \n",
       "2360                  1  \n",
       "7124                  1  \n",
       "4519                  1  \n",
       "6615                  1  \n",
       "7015                  1  \n",
       "7193                  1  \n",
       "665                   1  \n",
       "2144                  1  \n",
       "683                   1  \n",
       "6089                  1  \n",
       "4386                  1  "
      ]
     },
     "execution_count": 39,
     "metadata": {},
     "output_type": "execute_result"
    }
   ],
   "source": [
    "# News stories, non-anomalous\n",
    "results[results['anomaly_predicted']==1]\\\n",
    "    [['labels', 'anomaly_score', 'anomaly_predicted']].\\\n",
    "    drop_duplicates().\\\n",
    "    sort_values(\"anomaly_score\", ascending=False).\\\n",
    "    head(n=20)"
   ]
  },
  {
   "cell_type": "markdown",
   "metadata": {},
   "source": [
    "## Using similarity to extract relevant articles"
   ]
  },
  {
   "cell_type": "code",
   "execution_count": null,
   "metadata": {},
   "outputs": [],
   "source": [
    "labels = [\"a\", \"b\", \"c\"]\n",
    "sss = np.array([[1, 2, 3],\n",
    "                [4, 5, 6],\n",
    "                [7, 8, 9]])"
   ]
  },
  {
   "cell_type": "code",
   "execution_count": null,
   "metadata": {},
   "outputs": [],
   "source": []
  }
 ],
 "metadata": {
  "kernelspec": {
   "display_name": "Python 3",
   "language": "python",
   "name": "python3"
  },
  "language_info": {
   "codemirror_mode": {
    "name": "ipython",
    "version": 3
   },
   "file_extension": ".py",
   "mimetype": "text/x-python",
   "name": "python",
   "nbconvert_exporter": "python",
   "pygments_lexer": "ipython3",
   "version": "3.6.8"
  }
 },
 "nbformat": 4,
 "nbformat_minor": 2
}
