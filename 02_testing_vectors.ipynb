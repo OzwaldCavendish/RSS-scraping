{
 "cells": [
  {
   "cell_type": "markdown",
   "metadata": {},
   "source": [
    "# Creating summed word2vec and doc2vec representations\n",
    "\n",
    "Uses data from every news dump created so far"
   ]
  },
  {
   "cell_type": "code",
   "execution_count": 50,
   "metadata": {},
   "outputs": [],
   "source": [
    "import re\n",
    "import json\n",
    "import torch\n",
    "import pickle\n",
    "import nltk\n",
    "\n",
    "import numpy as np\n",
    "import pandas as pd\n",
    "\n",
    "from os import listdir\n",
    "from nltk.tokenize import sent_tokenize\n",
    "from nltk.corpus import stopwords\n",
    "from gensim.models import Doc2Vec\n",
    "from sklearn.ensemble import IsolationForest\n",
    "from sklearn.decomposition import PCA\n",
    "from sklearn.metrics.pairwise import cosine_similarity"
   ]
  },
  {
   "cell_type": "code",
   "execution_count": 51,
   "metadata": {},
   "outputs": [
    {
     "name": "stderr",
     "output_type": "stream",
     "text": [
      "[nltk_data] Downloading package punkt to /home/ozzy/nltk_data...\n",
      "[nltk_data]   Unzipping tokenizers/punkt.zip.\n",
      "[nltk_data] Downloading package stopwords to /home/ozzy/nltk_data...\n",
      "[nltk_data]   Unzipping corpora/stopwords.zip.\n"
     ]
    },
    {
     "data": {
      "text/plain": [
       "True"
      ]
     },
     "execution_count": 51,
     "metadata": {},
     "output_type": "execute_result"
    }
   ],
   "source": [
    "nltk.download('punkt')\n",
    "nltk.download('stopwords')"
   ]
  },
  {
   "cell_type": "markdown",
   "metadata": {},
   "source": [
    "## Load the news corpus, clean and prepare sentences"
   ]
  },
  {
   "cell_type": "code",
   "execution_count": 2,
   "metadata": {},
   "outputs": [],
   "source": [
    "# Retrieve a list of Json corpus files so far\n",
    "files = [x for x in listdir(\"./output\") if x.endswith(\".json\") and (\"corpus\" in x)]"
   ]
  },
  {
   "cell_type": "code",
   "execution_count": 3,
   "metadata": {},
   "outputs": [],
   "source": [
    "# Load all of the news corpus files\n",
    "articles = []\n",
    "for file in files:\n",
    "    with open(\"./output/\"+file, \"r\") as f:\n",
    "        dump = json.load(f)\n",
    "        articles = articles + list(dump)"
   ]
  },
  {
   "cell_type": "code",
   "execution_count": 4,
   "metadata": {},
   "outputs": [
    {
     "data": {
      "text/plain": [
       "[{'date': 'Wed, 29 May 2019 17:27:58 GMT',\n",
       "  'link': 'https://www.bbc.co.uk/news/world-us-canada-48450534',\n",
       "  'retrieval_timestamp': '2019-05-29 21:02:30.743862',\n",
       "  'source_url': 'http://feeds.bbci.co.uk/news/world/rss.xml',\n",
       "  'summary': 'The special counsel said legal guidelines meant he was unable to charge a sitting president.',\n",
       "  'title': 'Robert Mueller: Charging Trump was not an option'},\n",
       " {'date': 'Wed, 29 May 2019 14:45:39 GMT',\n",
       "  'link': 'https://www.bbc.co.uk/news/world-asia-48441604',\n",
       "  'retrieval_timestamp': '2019-05-29 21:02:30.743862',\n",
       "  'source_url': 'http://feeds.bbci.co.uk/news/world/rss.xml',\n",
       "  'summary': 'The schoolgirl was set on fire after filing a sexual harassment complaint against her principal.',\n",
       "  'title': 'Nusrat Jahan Rafi: 16 charged in Bangladesh for burning girl alive'}]"
      ]
     },
     "execution_count": 4,
     "metadata": {},
     "output_type": "execute_result"
    }
   ],
   "source": [
    "articles[0:2]"
   ]
  },
  {
   "cell_type": "code",
   "execution_count": 5,
   "metadata": {},
   "outputs": [],
   "source": [
    "def clean_text(article_text):\n",
    "    \"\"\" Utility function for cleaning up text for me.  There's probably better ways to prepare data. \"\"\"\n",
    "    article_text = re.sub(r'\\[[0-9]*\\]', ' ', article_text)  # Gets rid of numbers\n",
    "    article_text = re.sub(r'\\s+', ' ', article_text)         # Replaces all forms of white space with single space\n",
    "    #article_text = re.sub(r'\"', '', article_text)            # Removes quotation marks\n",
    "    \n",
    "    return(article_text)"
   ]
  },
  {
   "cell_type": "code",
   "execution_count": 15,
   "metadata": {},
   "outputs": [],
   "source": [
    "clean_articles = []\n",
    "source_urls = []\n",
    "\n",
    "for article in articles:\n",
    "    clean_articles.append(clean_text(article['title'] + \". \" + article['summary']))\n",
    "    source_urls.append(article['source_url'])"
   ]
  },
  {
   "cell_type": "code",
   "execution_count": 7,
   "metadata": {},
   "outputs": [
    {
     "data": {
      "text/plain": [
       "['Robert Mueller: Charging Trump was not an option. The special counsel said legal guidelines meant he was unable to charge a sitting president.',\n",
       " 'Nusrat Jahan Rafi: 16 charged in Bangladesh for burning girl alive. The schoolgirl was set on fire after filing a sexual harassment complaint against her principal.',\n",
       " 'Tankers almost certainly damaged by Iranian naval mines, US says. National Security Adviser John Bolton blames Iran for attacks off the UAE, but provides no evidence.',\n",
       " 'Huawei: US blacklist will harm billions of consumers. Huawei says the US is \"using the strength of an entire nation to come after a private company\".',\n",
       " 'Growing crops in the shadow of Fukushima. Eight years on from the nuclear disaster, some have chosen to return to the small town of Okuma in Japan.',\n",
       " 'Niki Lauda: F1 stars attend Mass for late racing legend in Austria. They were among thousands paying tributes to the late Austrian driver at a Mass in Vienna.',\n",
       " 'Hells Angels bikers banned by Netherlands court. The court says the group - which has thousands of members worldwide - is a danger to public order.',\n",
       " \"Sara Netanyahu: Israeli PM's wife 'agrees plea bargain'. Sara Netanyahu was charged with fraud after being accused of wrongly spending state funds on catering.\",\n",
       " \"Caruana Galizia: Malta criticised over journalist murder probe. A human rights watchdog accuses officials of not properly investigating Daphne Caruana Galizia's death.\",\n",
       " 'Anger over death of Algeria hunger-striking activist Kamel Eddine Fekhar. The Berber activist endured great suffering and neglect since his detention in March, his lawyer says.']"
      ]
     },
     "execution_count": 7,
     "metadata": {},
     "output_type": "execute_result"
    }
   ],
   "source": [
    "clean_articles[0:10]"
   ]
  },
  {
   "cell_type": "markdown",
   "metadata": {},
   "source": [
    "## Set up InferSent Word2Vec Model Malarky"
   ]
  },
  {
   "cell_type": "code",
   "execution_count": 39,
   "metadata": {},
   "outputs": [],
   "source": [
    "from InferSent.models import InferSent\n",
    "V = 2\n",
    "MODEL_PATH = './InferSent/encoder/infersent%s.pkl' % V\n",
    "params_model = {'bsize': 64, 'word_emb_dim': 300, 'enc_lstm_dim': 2048,\n",
    "                'pool_type': 'max', 'dpout_model': 0.0, 'version': V}\n",
    "infersent = InferSent(params_model)\n",
    "infersent.load_state_dict(torch.load(MODEL_PATH))"
   ]
  },
  {
   "cell_type": "code",
   "execution_count": 40,
   "metadata": {},
   "outputs": [],
   "source": [
    "W2V_PATH = './InferSent/dataset/fastText/crawl-300d-2M.vec'\n",
    "infersent.set_w2v_path(W2V_PATH)"
   ]
  },
  {
   "cell_type": "code",
   "execution_count": 41,
   "metadata": {},
   "outputs": [
    {
     "name": "stdout",
     "output_type": "stream",
     "text": [
      "Found 25599(/27624) words with w2v vectors\n",
      "Vocab size : 25599\n"
     ]
    }
   ],
   "source": [
    "infersent.build_vocab(clean_articles, tokenize=True)"
   ]
  },
  {
   "cell_type": "code",
   "execution_count": 49,
   "metadata": {},
   "outputs": [],
   "source": [
    "embeddings = infersent.encode(clean_articles, tokenize=True)"
   ]
  },
  {
   "cell_type": "code",
   "execution_count": 50,
   "metadata": {},
   "outputs": [],
   "source": [
    "# Save the embeddings for later, so I don't have to regenerate them every time\n",
    "with open(\"./output/sentence_embeddings.pkl\", \"wb\") as f:\n",
    "    pickle.dump(embeddings, f)"
   ]
  },
  {
   "cell_type": "markdown",
   "metadata": {},
   "source": [
    "## Experiment with interesting story extraction!\n",
    "\n",
    "Possibly less of an issue for other model methods:  An unexpected consequence of using the InferSent2 model is that it produces really quite big vectors of length 4096.  Possibly a PCA step to reduce this would be wise?"
   ]
  },
  {
   "cell_type": "code",
   "execution_count": 10,
   "metadata": {},
   "outputs": [],
   "source": [
    "with open(\"./output/sentence_embeddings.pkl\", \"rb\") as f:\n",
    "    embeddings = pickle.load(f)"
   ]
  },
  {
   "cell_type": "code",
   "execution_count": 11,
   "metadata": {},
   "outputs": [
    {
     "data": {
      "text/plain": [
       "(15544, 4096)"
      ]
     },
     "execution_count": 11,
     "metadata": {},
     "output_type": "execute_result"
    }
   ],
   "source": [
    "embeddings.shape"
   ]
  },
  {
   "cell_type": "code",
   "execution_count": 44,
   "metadata": {},
   "outputs": [
    {
     "name": "stderr",
     "output_type": "stream",
     "text": [
      "/home/ozzy/.local/lib/python3.6/site-packages/sklearn/ensemble/iforest.py:237: FutureWarning: default contamination parameter 0.1 will change in version 0.22 to \"auto\". This will change the predict method behavior.\n",
      "  FutureWarning)\n",
      "/home/ozzy/.local/lib/python3.6/site-packages/sklearn/ensemble/iforest.py:247: FutureWarning: behaviour=\"old\" is deprecated and will be removed in version 0.22. Please use behaviour=\"new\", which makes the decision_function change to match other anomaly detection algorithm API.\n",
      "  FutureWarning)\n",
      "[Parallel(n_jobs=1)]: Using backend SequentialBackend with 1 concurrent workers.\n",
      "[Parallel(n_jobs=1)]: Done   1 out of   1 | elapsed:    5.6s finished\n"
     ]
    },
    {
     "data": {
      "text/plain": [
       "IsolationForest(behaviour='old', bootstrap=False, contamination='legacy',\n",
       "                max_features=1.0, max_samples='auto', n_estimators=300,\n",
       "                n_jobs=None, random_state=None, verbose=1, warm_start=False)"
      ]
     },
     "execution_count": 44,
     "metadata": {},
     "output_type": "execute_result"
    }
   ],
   "source": [
    "# Reducing the embedding's dimensionality to see if that helps\n",
    "pca = PCA(n_components=50)\n",
    "embeddings_reduced = pca.fit_transform(embeddings)\n",
    "embeddings_reduced.shape\n",
    "\n",
    "# Spawn an isolation forest.  I want it to tell me what it's doing, and use a few hundred estimators\n",
    "# given the large parameter space over which it's forced to operate.\n",
    "isoforest = IsolationForest(n_estimators=300, verbose=1)\n",
    "isoforest.fit(embeddings_reduced)"
   ]
  },
  {
   "cell_type": "code",
   "execution_count": 46,
   "metadata": {},
   "outputs": [
    {
     "name": "stderr",
     "output_type": "stream",
     "text": [
      "/home/ozzy/.local/lib/python3.6/site-packages/sklearn/ensemble/iforest.py:415: DeprecationWarning: threshold_ attribute is deprecated in 0.20 and will be removed in 0.22.\n",
      "  \" be removed in 0.22.\", DeprecationWarning)\n"
     ]
    }
   ],
   "source": [
    "results = pd.DataFrame(articles)\n",
    "results['anomaly_score'] = isoforest.score_samples(embeddings_reduced)\n",
    "results['anomaly_predicted'] = isoforest.predict(embeddings_reduced)\n",
    "results['clean_text'] = clean_articles"
   ]
  },
  {
   "cell_type": "code",
   "execution_count": 47,
   "metadata": {},
   "outputs": [
    {
     "data": {
      "text/html": [
       "<div>\n",
       "<style scoped>\n",
       "    .dataframe tbody tr th:only-of-type {\n",
       "        vertical-align: middle;\n",
       "    }\n",
       "\n",
       "    .dataframe tbody tr th {\n",
       "        vertical-align: top;\n",
       "    }\n",
       "\n",
       "    .dataframe thead th {\n",
       "        text-align: right;\n",
       "    }\n",
       "</style>\n",
       "<table border=\"1\" class=\"dataframe\">\n",
       "  <thead>\n",
       "    <tr style=\"text-align: right;\">\n",
       "      <th></th>\n",
       "      <th>clean_text</th>\n",
       "      <th>anomaly_score</th>\n",
       "      <th>anomaly_predicted</th>\n",
       "    </tr>\n",
       "  </thead>\n",
       "  <tbody>\n",
       "    <tr>\n",
       "      <th>3111</th>\n",
       "      <td>LICENSING ACT 2003 APPLICATION FOR A PREMISES ...</td>\n",
       "      <td>-0.574346</td>\n",
       "      <td>-1</td>\n",
       "    </tr>\n",
       "    <tr>\n",
       "      <th>1423</th>\n",
       "      <td>Win a family VIP ticket to Kynren.</td>\n",
       "      <td>-0.562457</td>\n",
       "      <td>-1</td>\n",
       "    </tr>\n",
       "    <tr>\n",
       "      <th>11201</th>\n",
       "      <td>Binyavanga Wainaina obituary.</td>\n",
       "      <td>-0.545477</td>\n",
       "      <td>-1</td>\n",
       "    </tr>\n",
       "    <tr>\n",
       "      <th>14552</th>\n",
       "      <td>Eid al Fitr moon sighting: Has the Shawwal moo...</td>\n",
       "      <td>-0.545039</td>\n",
       "      <td>-1</td>\n",
       "    </tr>\n",
       "    <tr>\n",
       "      <th>2912</th>\n",
       "      <td>Cambridgeshire County Council plans plastic-fr...</td>\n",
       "      <td>-0.543537</td>\n",
       "      <td>-1</td>\n",
       "    </tr>\n",
       "    <tr>\n",
       "      <th>2194</th>\n",
       "      <td>Swedish bid to extradite Julian Assange is dea...</td>\n",
       "      <td>-0.539314</td>\n",
       "      <td>-1</td>\n",
       "    </tr>\n",
       "    <tr>\n",
       "      <th>8060</th>\n",
       "      <td>Russian Su-27 Fighter Intercepts U.S. Air Forc...</td>\n",
       "      <td>-0.533968</td>\n",
       "      <td>-1</td>\n",
       "    </tr>\n",
       "    <tr>\n",
       "      <th>2037</th>\n",
       "      <td>Julian Assange extradition to Sweden in doubt ...</td>\n",
       "      <td>-0.533444</td>\n",
       "      <td>-1</td>\n",
       "    </tr>\n",
       "    <tr>\n",
       "      <th>14553</th>\n",
       "      <td>Eid Mubarak: Islamic prayer times - Eid al Fit...</td>\n",
       "      <td>-0.533055</td>\n",
       "      <td>-1</td>\n",
       "    </tr>\n",
       "    <tr>\n",
       "      <th>3479</th>\n",
       "      <td>Bali volcano spews ash in new eruption.</td>\n",
       "      <td>-0.532623</td>\n",
       "      <td>-1</td>\n",
       "    </tr>\n",
       "    <tr>\n",
       "      <th>8442</th>\n",
       "      <td>Ebola outbreak shows distrust sows disease spr...</td>\n",
       "      <td>-0.531721</td>\n",
       "      <td>-1</td>\n",
       "    </tr>\n",
       "    <tr>\n",
       "      <th>1272</th>\n",
       "      <td>MLC resigns government department position.</td>\n",
       "      <td>-0.530695</td>\n",
       "      <td>-1</td>\n",
       "    </tr>\n",
       "    <tr>\n",
       "      <th>6452</th>\n",
       "      <td>Liverpool beat Tottenham Hotspur to win Champi...</td>\n",
       "      <td>-0.527119</td>\n",
       "      <td>-1</td>\n",
       "    </tr>\n",
       "    <tr>\n",
       "      <th>2026</th>\n",
       "      <td>Meet Brigitte Bierlein, Austria’s tough-on-cri...</td>\n",
       "      <td>-0.527027</td>\n",
       "      <td>-1</td>\n",
       "    </tr>\n",
       "    <tr>\n",
       "      <th>2972</th>\n",
       "      <td>Win a glamping holiday voucher worth £150!.</td>\n",
       "      <td>-0.526044</td>\n",
       "      <td>-1</td>\n",
       "    </tr>\n",
       "    <tr>\n",
       "      <th>2307</th>\n",
       "      <td>Hilarious snaps show when sometimes you just c...</td>\n",
       "      <td>-0.525759</td>\n",
       "      <td>-1</td>\n",
       "    </tr>\n",
       "    <tr>\n",
       "      <th>6810</th>\n",
       "      <td>Eid-al-Fitr 2019: How is Eid celebrated? Eid d...</td>\n",
       "      <td>-0.525410</td>\n",
       "      <td>-1</td>\n",
       "    </tr>\n",
       "    <tr>\n",
       "      <th>9119</th>\n",
       "      <td>Frimley NHS Trust affected by deadly listeria ...</td>\n",
       "      <td>-0.523232</td>\n",
       "      <td>-1</td>\n",
       "    </tr>\n",
       "    <tr>\n",
       "      <th>8107</th>\n",
       "      <td>Hong Kong's Carrie Lam defiant in face of extr...</td>\n",
       "      <td>-0.522976</td>\n",
       "      <td>-1</td>\n",
       "    </tr>\n",
       "    <tr>\n",
       "      <th>4049</th>\n",
       "      <td>North Korea ‘executed’ officials after failed ...</td>\n",
       "      <td>-0.522774</td>\n",
       "      <td>-1</td>\n",
       "    </tr>\n",
       "  </tbody>\n",
       "</table>\n",
       "</div>"
      ],
      "text/plain": [
       "                                              clean_text  anomaly_score  \\\n",
       "3111   LICENSING ACT 2003 APPLICATION FOR A PREMISES ...      -0.574346   \n",
       "1423                 Win a family VIP ticket to Kynren.       -0.562457   \n",
       "11201                     Binyavanga Wainaina obituary.       -0.545477   \n",
       "14552  Eid al Fitr moon sighting: Has the Shawwal moo...      -0.545039   \n",
       "2912   Cambridgeshire County Council plans plastic-fr...      -0.543537   \n",
       "2194   Swedish bid to extradite Julian Assange is dea...      -0.539314   \n",
       "8060   Russian Su-27 Fighter Intercepts U.S. Air Forc...      -0.533968   \n",
       "2037   Julian Assange extradition to Sweden in doubt ...      -0.533444   \n",
       "14553  Eid Mubarak: Islamic prayer times - Eid al Fit...      -0.533055   \n",
       "3479            Bali volcano spews ash in new eruption.       -0.532623   \n",
       "8442   Ebola outbreak shows distrust sows disease spr...      -0.531721   \n",
       "1272        MLC resigns government department position.       -0.530695   \n",
       "6452   Liverpool beat Tottenham Hotspur to win Champi...      -0.527119   \n",
       "2026   Meet Brigitte Bierlein, Austria’s tough-on-cri...      -0.527027   \n",
       "2972        Win a glamping holiday voucher worth £150!.       -0.526044   \n",
       "2307   Hilarious snaps show when sometimes you just c...      -0.525759   \n",
       "6810   Eid-al-Fitr 2019: How is Eid celebrated? Eid d...      -0.525410   \n",
       "9119   Frimley NHS Trust affected by deadly listeria ...      -0.523232   \n",
       "8107   Hong Kong's Carrie Lam defiant in face of extr...      -0.522976   \n",
       "4049   North Korea ‘executed’ officials after failed ...      -0.522774   \n",
       "\n",
       "       anomaly_predicted  \n",
       "3111                  -1  \n",
       "1423                  -1  \n",
       "11201                 -1  \n",
       "14552                 -1  \n",
       "2912                  -1  \n",
       "2194                  -1  \n",
       "8060                  -1  \n",
       "2037                  -1  \n",
       "14553                 -1  \n",
       "3479                  -1  \n",
       "8442                  -1  \n",
       "1272                  -1  \n",
       "6452                  -1  \n",
       "2026                  -1  \n",
       "2972                  -1  \n",
       "2307                  -1  \n",
       "6810                  -1  \n",
       "9119                  -1  \n",
       "8107                  -1  \n",
       "4049                  -1  "
      ]
     },
     "execution_count": 47,
     "metadata": {},
     "output_type": "execute_result"
    }
   ],
   "source": [
    "# Anomalous news, most weird by embedding first\n",
    "results[results['anomaly_predicted']==-1]\\\n",
    "    [['clean_text', 'anomaly_score', 'anomaly_predicted']].\\\n",
    "    drop_duplicates().\\\n",
    "    sort_values(\"anomaly_score\", ascending=True).\\\n",
    "    head(n=20)"
   ]
  },
  {
   "cell_type": "code",
   "execution_count": 48,
   "metadata": {},
   "outputs": [
    {
     "data": {
      "text/html": [
       "<div>\n",
       "<style scoped>\n",
       "    .dataframe tbody tr th:only-of-type {\n",
       "        vertical-align: middle;\n",
       "    }\n",
       "\n",
       "    .dataframe tbody tr th {\n",
       "        vertical-align: top;\n",
       "    }\n",
       "\n",
       "    .dataframe thead th {\n",
       "        text-align: right;\n",
       "    }\n",
       "</style>\n",
       "<table border=\"1\" class=\"dataframe\">\n",
       "  <thead>\n",
       "    <tr style=\"text-align: right;\">\n",
       "      <th></th>\n",
       "      <th>clean_text</th>\n",
       "      <th>anomaly_score</th>\n",
       "      <th>anomaly_predicted</th>\n",
       "    </tr>\n",
       "  </thead>\n",
       "  <tbody>\n",
       "    <tr>\n",
       "      <th>8891</th>\n",
       "      <td>Six Flags worker was told to go home over pier...</td>\n",
       "      <td>-0.370994</td>\n",
       "      <td>1</td>\n",
       "    </tr>\n",
       "    <tr>\n",
       "      <th>335</th>\n",
       "      <td>The ‘#MeToo hurricane’: Rape case divides a Ru...</td>\n",
       "      <td>-0.371247</td>\n",
       "      <td>1</td>\n",
       "    </tr>\n",
       "    <tr>\n",
       "      <th>15106</th>\n",
       "      <td>Jersey man jailed for life after murdering his...</td>\n",
       "      <td>-0.371736</td>\n",
       "      <td>1</td>\n",
       "    </tr>\n",
       "    <tr>\n",
       "      <th>608</th>\n",
       "      <td>How innocent fall while playing uncovered litt...</td>\n",
       "      <td>-0.373064</td>\n",
       "      <td>1</td>\n",
       "    </tr>\n",
       "    <tr>\n",
       "      <th>2612</th>\n",
       "      <td>This blast from the past shows how much people...</td>\n",
       "      <td>-0.374038</td>\n",
       "      <td>1</td>\n",
       "    </tr>\n",
       "    <tr>\n",
       "      <th>7322</th>\n",
       "      <td>Pictures from downtown LA capture the problem ...</td>\n",
       "      <td>-0.375823</td>\n",
       "      <td>1</td>\n",
       "    </tr>\n",
       "    <tr>\n",
       "      <th>2675</th>\n",
       "      <td>Woman, 78, is raped in Queens as police offer ...</td>\n",
       "      <td>-0.375954</td>\n",
       "      <td>1</td>\n",
       "    </tr>\n",
       "    <tr>\n",
       "      <th>2184</th>\n",
       "      <td>Sick crimes of one of world's worst killers wh...</td>\n",
       "      <td>-0.376238</td>\n",
       "      <td>1</td>\n",
       "    </tr>\n",
       "    <tr>\n",
       "      <th>7344</th>\n",
       "      <td>Love Island race row as Anton Danyluk is pictu...</td>\n",
       "      <td>-0.376265</td>\n",
       "      <td>1</td>\n",
       "    </tr>\n",
       "    <tr>\n",
       "      <th>8980</th>\n",
       "      <td>Software engineer, 27, successfully sues for s...</td>\n",
       "      <td>-0.376606</td>\n",
       "      <td>1</td>\n",
       "    </tr>\n",
       "    <tr>\n",
       "      <th>1351</th>\n",
       "      <td>Nine out of the ten 'worst shops' are on Linco...</td>\n",
       "      <td>-0.376650</td>\n",
       "      <td>1</td>\n",
       "    </tr>\n",
       "    <tr>\n",
       "      <th>2531</th>\n",
       "      <td>Watch: Man storms stage to interrupt US 2020 h...</td>\n",
       "      <td>-0.376971</td>\n",
       "      <td>1</td>\n",
       "    </tr>\n",
       "    <tr>\n",
       "      <th>4182</th>\n",
       "      <td>Aboriginal woman, 26, arrested because she was...</td>\n",
       "      <td>-0.377024</td>\n",
       "      <td>1</td>\n",
       "    </tr>\n",
       "    <tr>\n",
       "      <th>5768</th>\n",
       "      <td>Golden showers dossier author Christopher Stee...</td>\n",
       "      <td>-0.377150</td>\n",
       "      <td>1</td>\n",
       "    </tr>\n",
       "    <tr>\n",
       "      <th>2516</th>\n",
       "      <td>Theresa's tears prove Britain needs more emoti...</td>\n",
       "      <td>-0.377676</td>\n",
       "      <td>1</td>\n",
       "    </tr>\n",
       "    <tr>\n",
       "      <th>1165</th>\n",
       "      <td>'Fantasist known as Nick helped police artist ...</td>\n",
       "      <td>-0.377788</td>\n",
       "      <td>1</td>\n",
       "    </tr>\n",
       "    <tr>\n",
       "      <th>2729</th>\n",
       "      <td>Moment horse tries to enter a McDonald's befor...</td>\n",
       "      <td>-0.378014</td>\n",
       "      <td>1</td>\n",
       "    </tr>\n",
       "    <tr>\n",
       "      <th>4361</th>\n",
       "      <td>Pigeon impaled on a spike in Newport has a luc...</td>\n",
       "      <td>-0.378073</td>\n",
       "      <td>1</td>\n",
       "    </tr>\n",
       "    <tr>\n",
       "      <th>1235</th>\n",
       "      <td>'I am a shell of my former self': Mother's ord...</td>\n",
       "      <td>-0.378190</td>\n",
       "      <td>1</td>\n",
       "    </tr>\n",
       "    <tr>\n",
       "      <th>9001</th>\n",
       "      <td>Puzzle-loving boy, three, stuns his mother by ...</td>\n",
       "      <td>-0.378337</td>\n",
       "      <td>1</td>\n",
       "    </tr>\n",
       "  </tbody>\n",
       "</table>\n",
       "</div>"
      ],
      "text/plain": [
       "                                              clean_text  anomaly_score  \\\n",
       "8891   Six Flags worker was told to go home over pier...      -0.370994   \n",
       "335    The ‘#MeToo hurricane’: Rape case divides a Ru...      -0.371247   \n",
       "15106  Jersey man jailed for life after murdering his...      -0.371736   \n",
       "608    How innocent fall while playing uncovered litt...      -0.373064   \n",
       "2612   This blast from the past shows how much people...      -0.374038   \n",
       "7322   Pictures from downtown LA capture the problem ...      -0.375823   \n",
       "2675   Woman, 78, is raped in Queens as police offer ...      -0.375954   \n",
       "2184   Sick crimes of one of world's worst killers wh...      -0.376238   \n",
       "7344   Love Island race row as Anton Danyluk is pictu...      -0.376265   \n",
       "8980   Software engineer, 27, successfully sues for s...      -0.376606   \n",
       "1351   Nine out of the ten 'worst shops' are on Linco...      -0.376650   \n",
       "2531   Watch: Man storms stage to interrupt US 2020 h...      -0.376971   \n",
       "4182   Aboriginal woman, 26, arrested because she was...      -0.377024   \n",
       "5768   Golden showers dossier author Christopher Stee...      -0.377150   \n",
       "2516   Theresa's tears prove Britain needs more emoti...      -0.377676   \n",
       "1165   'Fantasist known as Nick helped police artist ...      -0.377788   \n",
       "2729   Moment horse tries to enter a McDonald's befor...      -0.378014   \n",
       "4361   Pigeon impaled on a spike in Newport has a luc...      -0.378073   \n",
       "1235   'I am a shell of my former self': Mother's ord...      -0.378190   \n",
       "9001   Puzzle-loving boy, three, stuns his mother by ...      -0.378337   \n",
       "\n",
       "       anomaly_predicted  \n",
       "8891                   1  \n",
       "335                    1  \n",
       "15106                  1  \n",
       "608                    1  \n",
       "2612                   1  \n",
       "7322                   1  \n",
       "2675                   1  \n",
       "2184                   1  \n",
       "7344                   1  \n",
       "8980                   1  \n",
       "1351                   1  \n",
       "2531                   1  \n",
       "4182                   1  \n",
       "5768                   1  \n",
       "2516                   1  \n",
       "1165                   1  \n",
       "2729                   1  \n",
       "4361                   1  \n",
       "1235                   1  \n",
       "9001                   1  "
      ]
     },
     "execution_count": 48,
     "metadata": {},
     "output_type": "execute_result"
    }
   ],
   "source": [
    "# News stories, non-anomalous\n",
    "results[results['anomaly_predicted']==1]\\\n",
    "    [['clean_text', 'anomaly_score', 'anomaly_predicted']].\\\n",
    "    drop_duplicates().\\\n",
    "    sort_values(\"anomaly_score\", ascending=False).\\\n",
    "    head(n=20)"
   ]
  },
  {
   "cell_type": "markdown",
   "metadata": {},
   "source": [
    "## Using similarity to extract relevant articles"
   ]
  },
  {
   "cell_type": "code",
   "execution_count": null,
   "metadata": {},
   "outputs": [],
   "source": []
  }
 ],
 "metadata": {
  "kernelspec": {
   "display_name": "Python 3",
   "language": "python",
   "name": "python3"
  },
  "language_info": {
   "codemirror_mode": {
    "name": "ipython",
    "version": 3
   },
   "file_extension": ".py",
   "mimetype": "text/x-python",
   "name": "python",
   "nbconvert_exporter": "python",
   "pygments_lexer": "ipython3",
   "version": "3.6.8"
  }
 },
 "nbformat": 4,
 "nbformat_minor": 2
}
